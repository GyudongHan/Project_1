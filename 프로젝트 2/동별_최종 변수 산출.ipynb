{
 "cells": [
  {
   "cell_type": "code",
   "execution_count": 1,
   "id": "e8ad5571-df1c-4a7b-a8a3-556ccc3dcc8d",
   "metadata": {
    "scrolled": true
   },
   "outputs": [
    {
     "data": {
      "image/png": "[encoded data removed]",
      "text/plain": [
       "<Figure size 640x480 with 1 Axes>"
      ]
     },
     "metadata": {},
     "output_type": "display_data"
    }
   ],
   "source": [
    "import pandas as pd\n",
    "import statsmodels.api as sm\n",
    "from statsmodels.stats.outliers_influence import variance_inflation_factor\n",
    "import warnings\n",
    "warnings.filterwarnings('ignore')\n",
    "import numpy as np\n",
    "import matplotlib.pyplot as plt\n",
    "\n",
    "pd.set_option('display.max_rows', None)\n",
    "pd.set_option('display.max_columns', None)\n",
    "\n",
    "plt.rc(\"font\", family=\"NanumGothic\") # 라이브러리 불러오기와 함께 한번만 실행\n",
    "from sklearn.preprocessing import MinMaxScaler, StandardScaler\n",
    "\n",
    "plt.plot([1, 2, 3])\n",
    "plt.title(\"한글\")\n",
    "plt.show()"
   ]
  },
  {
   "cell_type": "code",
   "execution_count": 2,
   "id": "27668826-bd2c-4aae-9062-b4ddbe31b292",
   "metadata": {
    "scrolled": true
   },
   "outputs": [
    {
     "data": {
      "text/plain": [
       "Index(['자치구', '행정동', '행정동_코드', '월평균_총생활인구수', '연령대0_평균', '연령대10_평균', '연령대20_평균',\n",
       "       '연령대30_평균', '연령대40_평균', '연령대50_평균', '연령대60_평균', '연령대70이상_평균', '1인가구',\n",
       "       '2인가구', '3인가구', '4인가구', '5인가구', '6인가구', '7인 이상 가구', '연령대_100',\n",
       "       '연령대_0_거주인구수', '연령대_10_거주인구수', '연령대_20_거주인구수', '연령대_30_거주인구수',\n",
       "       '연령대_40_거주인구수', '연령대_50_거주인구수', '연령대_60_거주인구수', '연령대_70_거주인구수',\n",
       "       '연령대_80_거주인구수', '연령대_90_거주인구수', '유흥주점영업', '단란주점', '제과점영업', '집단급식소',\n",
       "       '일반음식점', '휴게음식점', '연령대_2030_거주인구수_합', '연령대_2030_거주인구수_평균',\n",
       "       '연령대_20_거주인구수_비율', '연령대_30_거주인구수_비율', '연령대_2030_거주인구수_비율', '1인가구_비율',\n",
       "       '식품접객업', '주점', '주요경제활동인구_거주인구수', '주요경제활동인구_생활인구수', 'PET예측량', '수거함_개수',\n",
       "       '총_거주인구수', '수거함개수_당_거주인구'],\n",
       "      dtype='object')"
      ]
     },
     "execution_count": 2,
     "metadata": {},
     "output_type": "execute_result"
    }
   ],
   "source": [
    "df = pd.read_csv('data/for_PCA_dong.csv')\n",
    "df.head()\n",
    "df.columns"
   ]
  },
  {
   "cell_type": "markdown",
   "id": "0b93dc64-b696-49c5-9ea6-a0eb9fc7f7a9",
   "metadata": {},
   "source": [
    "### 1. VIF로 다중공선성 체크\n",
    "- 10이 넘는 변수 제거\n",
    "- 초기 컬럼 선택 : '월평균_총생활인구수', '1인가구',\n",
    "       '2인가구', '3인가구', '4인가구', '5인가구','유흥주점영업', '단란주점', '제과점영업', '집단급식소',\n",
    "       '일반음식점', '휴게음식점', '연령대_2030_거주인구수_합', '연령대_2030_거주인구수_평균',\n",
    "       '연령대_20_거주인구수_비율', '연령대_30_거주인구수_비율', '연령대_2030_거주인구수_비율', '1인가구_비율',\n",
    "       '식품접객업', '주점', '주요경제활동인구_거주인구수', '주요경제활동인구_생활인구수', 'PET예측량', '수거함_개수',\n",
    "       '총_거주인구수', '거주인구_당_수거함개수'\n",
    "\n",
    "- 다중공선성으로 필터링 결과 : ['1인가구_비율','식품접객업', '주점', '주요경제활동인구_생활인구수', '수거함_개수','거주인구_당_수거함개수']\n",
    "- 참고 : 상수항 (intercept)의 다중공선성이 높을 경우, 일반적으로 큰 문제가 되지는 않습니다. "
   ]
  },
  {
   "cell_type": "code",
   "execution_count": 8,
   "id": "b27e284c-5d4b-42ec-b560-c63b47226f26",
   "metadata": {},
   "outputs": [
    {
     "data": {
      "text/html": [
       "<div>\n",
       "<style scoped>\n",
       "    .dataframe tbody tr th:only-of-type {\n",
       "        vertical-align: middle;\n",
       "    }\n",
       "\n",
       "    .dataframe tbody tr th {\n",
       "        vertical-align: top;\n",
       "    }\n",
       "\n",
       "    .dataframe thead th {\n",
       "        text-align: right;\n",
       "    }\n",
       "</style>\n",
       "<table border=\"1\" class=\"dataframe\">\n",
       "  <thead>\n",
       "    <tr style=\"text-align: right;\">\n",
       "      <th></th>\n",
       "      <th>Variable</th>\n",
       "      <th>VIF</th>\n",
       "    </tr>\n",
       "  </thead>\n",
       "  <tbody>\n",
       "    <tr>\n",
       "      <th>0</th>\n",
       "      <td>const</td>\n",
       "      <td>13.946742</td>\n",
       "    </tr>\n",
       "    <tr>\n",
       "      <th>1</th>\n",
       "      <td>1인가구_비율</td>\n",
       "      <td>1.149259</td>\n",
       "    </tr>\n",
       "    <tr>\n",
       "      <th>2</th>\n",
       "      <td>식품접객업</td>\n",
       "      <td>2.112633</td>\n",
       "    </tr>\n",
       "    <tr>\n",
       "      <th>3</th>\n",
       "      <td>연령대_2030_거주인구수_합</td>\n",
       "      <td>1.072062</td>\n",
       "    </tr>\n",
       "    <tr>\n",
       "      <th>4</th>\n",
       "      <td>주요경제활동인구_생활인구수</td>\n",
       "      <td>2.200066</td>\n",
       "    </tr>\n",
       "  </tbody>\n",
       "</table>\n",
       "</div>"
      ],
      "text/plain": [
       "           Variable        VIF\n",
       "0             const  13.946742\n",
       "1           1인가구_비율   1.149259\n",
       "2             식품접객업   2.112633\n",
       "3  연령대_2030_거주인구수_합   1.072062\n",
       "4    주요경제활동인구_생활인구수   2.200066"
      ]
     },
     "execution_count": 8,
     "metadata": {},
     "output_type": "execute_result"
    }
   ],
   "source": [
    "# x_features = ['1인가구_비율','식품접객업', '주점', '수거함개수_당_거주인구', '연령대_2030_거주인구수_합', '주요경제활동인구_생활인구수']\n",
    "x_features = ['1인가구_비율','식품접객업', '연령대_2030_거주인구수_합', '주요경제활동인구_생활인구수']\n",
    "\n",
    "# x_features에 대한 VIF 계산을 위해 상수(intercept) 열을 추가\n",
    "x_features_with_const = sm.add_constant(df[x_features])\n",
    "\n",
    "# VIF 계산\n",
    "vif_data = pd.DataFrame()\n",
    "vif_data[\"Variable\"] = x_features_with_const.columns\n",
    "vif_data[\"VIF\"] = [variance_inflation_factor(x_features_with_const.values, i) for i in range(x_features_with_const.shape[1])]\n",
    "vif_data"
   ]
  },
  {
   "cell_type": "markdown",
   "id": "6747ac5e-8c5a-4c6f-9058-eb91c8a6c59f",
   "metadata": {},
   "source": [
    "### 2. Best Subset Selection\n",
    "- 모든 가능한 독립 변수의 조합을 고려하여 최적의 모델을 선택하는 방법 \n",
    "- 우리는 AIC 를 기반으로 \n",
    "- AIC (Akaike Information Criterion):\n",
    "AIC는 모델의 적합도와 모델의 복잡성을 고려하여 모델 선택을 합니다. <br>\n",
    "AIC가 낮을수록 모델의 예측 성능이 좋으며, 데이터에 더 잘 적합됩니다.<br>\n",
    "데이터에 대한 적합성을 높이는 데 초점을 맞추고, 모델의 복잡성을 상대적으로 덜 고려할 때 사용됩니다.<br>\n",
    "**작은 크기의 데이터셋 또는 더 유연한 모델 선택**을 할 때 유용합니다.\n",
    "\n",
    "\n",
    "- BIC (Bayesian Information Criterion):\n",
    "BIC는 AIC와 마찬가지로 적합도와 복잡성을 고려하지만, 모델의 크기에 민감하게 반응합니다.<br>\n",
    "BIC가 낮을수록 모델의 예측 성능이 좋으며, 데이터에 더 잘 적합됩니다. 그러나 BIC는 모델의 크기를 더 강력하게 제한합니다.<br>\n",
    "데이터에 대한 적합성을 고려하면서, 불필요한 변수를 제한하고 모델의 단순성을 강조할 때 사용됩니다.<br>\n",
    "**큰 크기의 데이터셋 또는 변수 선택에 제한**을 두고 싶을 때 유용합니다."
   ]
  },
  {
   "cell_type": "code",
   "execution_count": 9,
   "id": "c1d72ed0-6022-4643-96ff-e663a4392654",
   "metadata": {},
   "outputs": [
    {
     "name": "stdout",
     "output_type": "stream",
     "text": [
      "### Best Subset Selection 결과 (AIC):\n",
      "                            OLS Regression Results                            \n",
      "==============================================================================\n",
      "Dep. Variable:                 PET예측량   R-squared:                       0.918\n",
      "Model:                            OLS   Adj. R-squared:                  0.916\n",
      "Method:                 Least Squares   F-statistic:                     487.4\n",
      "Date:                Wed, 25 Oct 2023   Prob (F-statistic):           1.65e-70\n",
      "Time:                        11:18:45   Log-Likelihood:                -474.35\n",
      "No. Observations:                 134   AIC:                             956.7\n",
      "Df Residuals:                     130   BIC:                             968.3\n",
      "Df Model:                           3                                         \n",
      "Covariance Type:            nonrobust                                         \n",
      "====================================================================================\n",
      "                       coef    std err          t      P>|t|      [0.025      0.975]\n",
      "------------------------------------------------------------------------------------\n",
      "const              -23.8902      2.645     -9.031      0.000     -29.124     -18.657\n",
      "1인가구_비율             62.0512      5.441     11.405      0.000      51.287      72.815\n",
      "연령대_2030_거주인구수_합     0.0077      0.000     16.806      0.000       0.007       0.009\n",
      "주요경제활동인구_생활인구수    4.155e-06   1.84e-07     22.553      0.000    3.79e-06    4.52e-06\n",
      "==============================================================================\n",
      "Omnibus:                       50.809   Durbin-Watson:                   1.855\n",
      "Prob(Omnibus):                  0.000   Jarque-Bera (JB):             1503.576\n",
      "Skew:                           0.440   Prob(JB):                         0.00\n",
      "Kurtosis:                      19.387   Cond. No.                     7.06e+07\n",
      "==============================================================================\n",
      "\n",
      "Notes:\n",
      "[1] Standard Errors assume that the covariance matrix of the errors is correctly specified.\n",
      "[2] The condition number is large, 7.06e+07. This might indicate that there are\n",
      "strong multicollinearity or other numerical problems.\n",
      "\n",
      "\n",
      "\n",
      "### Best Subset Selection 결과 (BIC):\n",
      "                            OLS Regression Results                            \n",
      "==============================================================================\n",
      "Dep. Variable:                 PET예측량   R-squared:                       0.918\n",
      "Model:                            OLS   Adj. R-squared:                  0.916\n",
      "Method:                 Least Squares   F-statistic:                     487.4\n",
      "Date:                Wed, 25 Oct 2023   Prob (F-statistic):           1.65e-70\n",
      "Time:                        11:18:45   Log-Likelihood:                -474.35\n",
      "No. Observations:                 134   AIC:                             956.7\n",
      "Df Residuals:                     130   BIC:                             968.3\n",
      "Df Model:                           3                                         \n",
      "Covariance Type:            nonrobust                                         \n",
      "====================================================================================\n",
      "                       coef    std err          t      P>|t|      [0.025      0.975]\n",
      "------------------------------------------------------------------------------------\n",
      "const              -23.8902      2.645     -9.031      0.000     -29.124     -18.657\n",
      "1인가구_비율             62.0512      5.441     11.405      0.000      51.287      72.815\n",
      "연령대_2030_거주인구수_합     0.0077      0.000     16.806      0.000       0.007       0.009\n",
      "주요경제활동인구_생활인구수    4.155e-06   1.84e-07     22.553      0.000    3.79e-06    4.52e-06\n",
      "==============================================================================\n",
      "Omnibus:                       50.809   Durbin-Watson:                   1.855\n",
      "Prob(Omnibus):                  0.000   Jarque-Bera (JB):             1503.576\n",
      "Skew:                           0.440   Prob(JB):                         0.00\n",
      "Kurtosis:                      19.387   Cond. No.                     7.06e+07\n",
      "==============================================================================\n",
      "\n",
      "Notes:\n",
      "[1] Standard Errors assume that the covariance matrix of the errors is correctly specified.\n",
      "[2] The condition number is large, 7.06e+07. This might indicate that there are\n",
      "strong multicollinearity or other numerical problems.\n"
     ]
    }
   ],
   "source": [
    "import itertools\n",
    "import statsmodels.api as sm\n",
    "\n",
    "# 종속 변수 설정\n",
    "y = df['PET예측량']\n",
    "\n",
    "# 독립 변수 리스트 (const 를 제외한 변수들)\n",
    "independent_variables = vif_data.iloc[1:, 0].tolist()\n",
    "\n",
    "# 최적 모델 초기화\n",
    "best_model = None\n",
    "best_model_summary = None\n",
    "best_aic = float('inf')\n",
    "\n",
    "best_bic_model = None\n",
    "best_bic_model_summary = None\n",
    "best_bic = float('inf')\n",
    "\n",
    "# Best Subset Selection\n",
    "for k in range(1, len(independent_variables) + 1):\n",
    "    for subset in itertools.combinations(independent_variables, k):\n",
    "        X_subset = df[list(subset)]\n",
    "        X_subset = sm.add_constant(X_subset)\n",
    "        model = sm.OLS(y, X_subset).fit()\n",
    "        \n",
    "        aic = model.aic\n",
    "        bic = model.bic\n",
    "        \n",
    "        if aic < best_aic:\n",
    "            best_aic = aic\n",
    "            best_aic_model = model\n",
    "            best_aic_model_summary = model.summary()\n",
    "        \n",
    "        if bic < best_bic:\n",
    "            best_bic = bic\n",
    "            best_bic_model = model\n",
    "            best_bic_model_summary = model.summary()\n",
    "\n",
    "print(\"### Best Subset Selection 결과 (AIC):\")\n",
    "print(best_aic_model_summary)\n",
    "\n",
    "print('\\n\\n')\n",
    "\n",
    "print(\"### Best Subset Selection 결과 (BIC):\")\n",
    "print(best_bic_model_summary)"
   ]
  },
  {
   "cell_type": "markdown",
   "id": "e731495a-c868-40c5-87ae-95c456c597c3",
   "metadata": {},
   "source": [
    "### 최종변수 + 추가변수 후 PCA"
   ]
  },
  {
   "cell_type": "code",
   "execution_count": null,
   "id": "3cf21a56-2766-4feb-b520-cf668fbfeed7",
   "metadata": {},
   "outputs": [],
   "source": []
  }
 ],
 "metadata": {
  "kernelspec": {
   "display_name": "Python 3 (ipykernel)",
   "language": "python",
   "name": "python3"
  },
  "language_info": {
   "codemirror_mode": {
    "name": "ipython",
    "version": 3
   },
   "file_extension": ".py",
   "mimetype": "text/x-python",
   "name": "python",
   "nbconvert_exporter": "python",
   "pygments_lexer": "ipython3",
   "version": "3.9.13"
  }
 },
 "nbformat": 4,
 "nbformat_minor": 5
}
