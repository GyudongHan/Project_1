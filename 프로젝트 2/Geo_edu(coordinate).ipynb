{
 "cells": [
  {
   "cell_type": "markdown",
   "id": "7c14f0ff-dd90-4bfa-b15a-e8113e1e05bf",
   "metadata": {},
   "source": [
    "# 필요한 일\n",
    "- 특정 좌표를 반경으로 해당 반경하는 점 1,2,3 ..들을 찾고\n",
    "- => 해당 점 1,2,3 들의 값을 파악(예컨대, 해당 점 위치의 상주인구)\n",
    "- => 특정 좌표 반경의 상주인구 수를 합산, 또한 집객시설도 추후 합산(이건 아마 단순 count가 될듯)\n",
    "- 특정 좌표를 임의로 찍을지 vs 특정 좌표를 특정 구의 특정 행정동 전체를 격자모양으로 나눠서 전수조사\n",
    "    - 지역구의 대상 행정동을 정하는 방법은 폐플라스틱, 고철 캔의 수가 많은 동 선택 예정(N개 미정)"
   ]
  },
  {
   "cell_type": "code",
   "execution_count": null,
   "id": "7e1e9a60-28a1-44e0-8d44-bf34fb751d56",
   "metadata": {},
   "outputs": [],
   "source": []
  }
 ],
 "metadata": {
  "kernelspec": {
   "display_name": "Python 3 (ipykernel)",
   "language": "python",
   "name": "python3"
  },
  "language_info": {
   "codemirror_mode": {
    "name": "ipython",
    "version": 3
   },
   "file_extension": ".py",
   "mimetype": "text/x-python",
   "name": "python",
   "nbconvert_exporter": "python",
   "pygments_lexer": "ipython3",
   "version": "3.9.13"
  }
 },
 "nbformat": 4,
 "nbformat_minor": 5
}
