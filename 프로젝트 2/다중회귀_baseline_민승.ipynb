{
 "cells": [
  {
   "cell_type": "code",
   "execution_count": 36,
   "id": "04b90e61-0dbb-44c4-9ae8-197e7868e950",
   "metadata": {},
   "outputs": [
    {
     "data": {
      "image/png": "[encoded data removed]",
      "text/plain": [
       "<Figure size 640x480 with 1 Axes>"
      ]
     },
     "metadata": {},
     "output_type": "display_data"
    }
   ],
   "source": [
    "import pandas as pd\n",
    "import numpy as np\n",
    "import warnings \n",
    "warnings.filterwarnings('ignore')\n",
    "import matplotlib.pyplot as plt\n",
    "\n",
    "pd.set_option('display.max_rows', None)\n",
    "pd.set_option('display.max_columns', None)\n",
    "\n",
    "plt.rc(\"font\", family=\"NanumGothic\") # 라이브러리 불러오기와 함께 한번만 실행\n",
    "from sklearn.preprocessing import MinMaxScaler, StandardScaler\n",
    "\n",
    "plt.plot([1, 2, 3])\n",
    "plt.title(\"한글\")\n",
    "plt.show()"
   ]
  },
  {
   "cell_type": "markdown",
   "id": "23fa65b2-3ae9-4a64-9469-a8e6f5822848",
   "metadata": {},
   "source": [
    "### 데이터 정리"
   ]
  },
  {
   "cell_type": "code",
   "execution_count": 37,
   "id": "78c19283-1316-4388-8136-0913518d0489",
   "metadata": {},
   "outputs": [
    {
     "data": {
      "text/html": [
       "<div>\n",
       "<style scoped>\n",
       "    .dataframe tbody tr th:only-of-type {\n",
       "        vertical-align: middle;\n",
       "    }\n",
       "\n",
       "    .dataframe tbody tr th {\n",
       "        vertical-align: top;\n",
       "    }\n",
       "\n",
       "    .dataframe thead th {\n",
       "        text-align: right;\n",
       "    }\n",
       "</style>\n",
       "<table border=\"1\" class=\"dataframe\">\n",
       "  <thead>\n",
       "    <tr style=\"text-align: right;\">\n",
       "      <th></th>\n",
       "      <th>1인가구</th>\n",
       "      <th>2인가구</th>\n",
       "      <th>월평균_총생활인구수</th>\n",
       "      <th>연령대2030_거주인구수</th>\n",
       "      <th>연령대60_평균</th>\n",
       "      <th>PET 총량</th>\n",
       "    </tr>\n",
       "  </thead>\n",
       "  <tbody>\n",
       "    <tr>\n",
       "      <th>0</th>\n",
       "      <td>71046</td>\n",
       "      <td>53275</td>\n",
       "      <td>5.892936e+08</td>\n",
       "      <td>147280.083333</td>\n",
       "      <td>5.143368e+07</td>\n",
       "      <td>2680.0</td>\n",
       "    </tr>\n",
       "    <tr>\n",
       "      <th>1</th>\n",
       "      <td>50316</td>\n",
       "      <td>47737</td>\n",
       "      <td>3.672376e+08</td>\n",
       "      <td>115867.750000</td>\n",
       "      <td>4.517363e+07</td>\n",
       "      <td>2886.3</td>\n",
       "    </tr>\n",
       "    <tr>\n",
       "      <th>2</th>\n",
       "      <td>45685</td>\n",
       "      <td>36432</td>\n",
       "      <td>2.147731e+08</td>\n",
       "      <td>72902.333333</td>\n",
       "      <td>2.725101e+07</td>\n",
       "      <td>1147.1</td>\n",
       "    </tr>\n",
       "  </tbody>\n",
       "</table>\n",
       "</div>"
      ],
      "text/plain": [
       "    1인가구   2인가구    월평균_총생활인구수  연령대2030_거주인구수      연령대60_평균  PET 총량\n",
       "0  71046  53275  5.892936e+08  147280.083333  5.143368e+07  2680.0\n",
       "1  50316  47737  3.672376e+08  115867.750000  4.517363e+07  2886.3\n",
       "2  45685  36432  2.147731e+08   72902.333333  2.725101e+07  1147.1"
      ]
     },
     "execution_count": 37,
     "metadata": {},
     "output_type": "execute_result"
    }
   ],
   "source": [
    "df = pd.read_csv('./for_model_total.csv')\n",
    "df['연령대2030_거주인구수'] = df['연령대_20_거주인구수'] + df['연령대_30_거주인구수']\n",
    "\n",
    "features = ['1인가구','2인가구','월평균_총생활인구수','연령대2030_거주인구수','연령대60_평균','PET 총량']\n",
    "x_features = ['1인가구', '2인가구', '월평균_총생활인구수', '연령대2030_거주인구수', '연령대60_평균']\n",
    "\n",
    "df_1 = df[features]\n",
    "df_1.head(3)"
   ]
  },
  {
   "cell_type": "markdown",
   "id": "09516356-753d-490c-8efc-65545dfae41f",
   "metadata": {},
   "source": [
    "### 스케일링"
   ]
  },
  {
   "cell_type": "code",
   "execution_count": 38,
   "id": "97067707-65c4-4c10-a9d7-25b42c083596",
   "metadata": {},
   "outputs": [
    {
     "data": {
      "text/html": [
       "<div>\n",
       "<style scoped>\n",
       "    .dataframe tbody tr th:only-of-type {\n",
       "        vertical-align: middle;\n",
       "    }\n",
       "\n",
       "    .dataframe tbody tr th {\n",
       "        vertical-align: top;\n",
       "    }\n",
       "\n",
       "    .dataframe thead th {\n",
       "        text-align: right;\n",
       "    }\n",
       "</style>\n",
       "<table border=\"1\" class=\"dataframe\">\n",
       "  <thead>\n",
       "    <tr style=\"text-align: right;\">\n",
       "      <th></th>\n",
       "      <th>1인가구</th>\n",
       "      <th>2인가구</th>\n",
       "      <th>월평균_총생활인구수</th>\n",
       "      <th>연령대2030_거주인구수</th>\n",
       "      <th>연령대60_평균</th>\n",
       "      <th>PET 총량</th>\n",
       "    </tr>\n",
       "  </thead>\n",
       "  <tbody>\n",
       "    <tr>\n",
       "      <th>0</th>\n",
       "      <td>0.424180</td>\n",
       "      <td>0.743270</td>\n",
       "      <td>1.000000</td>\n",
       "      <td>0.758189</td>\n",
       "      <td>0.813064</td>\n",
       "      <td>7.893572</td>\n",
       "    </tr>\n",
       "    <tr>\n",
       "      <th>1</th>\n",
       "      <td>0.241853</td>\n",
       "      <td>0.635788</td>\n",
       "      <td>0.483198</td>\n",
       "      <td>0.545882</td>\n",
       "      <td>0.660692</td>\n",
       "      <td>7.967731</td>\n",
       "    </tr>\n",
       "    <tr>\n",
       "      <th>2</th>\n",
       "      <td>0.201122</td>\n",
       "      <td>0.416380</td>\n",
       "      <td>0.128360</td>\n",
       "      <td>0.255491</td>\n",
       "      <td>0.224450</td>\n",
       "      <td>7.044992</td>\n",
       "    </tr>\n",
       "    <tr>\n",
       "      <th>3</th>\n",
       "      <td>0.557218</td>\n",
       "      <td>0.974226</td>\n",
       "      <td>0.543780</td>\n",
       "      <td>0.907002</td>\n",
       "      <td>0.623025</td>\n",
       "      <td>7.442083</td>\n",
       "    </tr>\n",
       "    <tr>\n",
       "      <th>4</th>\n",
       "      <td>1.000000</td>\n",
       "      <td>0.848734</td>\n",
       "      <td>0.485048</td>\n",
       "      <td>0.994658</td>\n",
       "      <td>0.433088</td>\n",
       "      <td>7.964573</td>\n",
       "    </tr>\n",
       "  </tbody>\n",
       "</table>\n",
       "</div>"
      ],
      "text/plain": [
       "       1인가구      2인가구  월평균_총생활인구수  연령대2030_거주인구수  연령대60_평균    PET 총량\n",
       "0  0.424180  0.743270    1.000000       0.758189  0.813064  7.893572\n",
       "1  0.241853  0.635788    0.483198       0.545882  0.660692  7.967731\n",
       "2  0.201122  0.416380    0.128360       0.255491  0.224450  7.044992\n",
       "3  0.557218  0.974226    0.543780       0.907002  0.623025  7.442083\n",
       "4  1.000000  0.848734    0.485048       0.994658  0.433088  7.964573"
      ]
     },
     "execution_count": 38,
     "metadata": {},
     "output_type": "execute_result"
    }
   ],
   "source": [
    "# 표준 스케일러 생성\n",
    "scaler = MinMaxScaler()\n",
    "\n",
    "# 데이터프레임의 특정 열(또는 모든 열)을 표준화\n",
    "df_1[x_features] = scaler.fit_transform(df_1[x_features])\n",
    "scaled_df = df_1.copy()\n",
    "scaled_df['PET 총량'] = np.log(scaled_df['PET 총량'])\n",
    "\n",
    "scaled_df.head()"
   ]
  },
  {
   "cell_type": "markdown",
   "id": "dd85f39f-8620-47e8-bf96-b053376eff44",
   "metadata": {},
   "source": [
    "### 다중공선성"
   ]
  },
  {
   "cell_type": "code",
   "execution_count": 39,
   "id": "8721b582-33df-4d7b-9c11-2b4b78f23648",
   "metadata": {},
   "outputs": [
    {
     "name": "stdout",
     "output_type": "stream",
     "text": [
      "        Features         VIF\n",
      "0           1인가구   28.206488\n",
      "1           2인가구  105.889072\n",
      "2     월평균_총생활인구수   43.989609\n",
      "3  연령대2030_거주인구수  210.645343\n",
      "4       연령대60_평균   59.212396\n"
     ]
    }
   ],
   "source": [
    "# 다중공선성\n",
    "from statsmodels.stats.outliers_influence import variance_inflation_factor\n",
    "\n",
    "# 종속 변수와 독립 변수를 분리합니다.\n",
    "X = scaled_df[x_features]\n",
    "y = scaled_df['PET 총량']\n",
    "\n",
    "# VIF를 계산합니다.\n",
    "vif = pd.DataFrame()\n",
    "vif[\"Features\"] = X.columns\n",
    "vif[\"VIF\"] = [variance_inflation_factor(X.values, i) for i in range(X.shape[1])]\n",
    "\n",
    "# VIF 값을 출력합니다.\n",
    "print(vif)"
   ]
  },
  {
   "cell_type": "markdown",
   "id": "812b95bb-13ba-47a0-9b49-8d1e6e90d273",
   "metadata": {},
   "source": [
    "### 주성분 분석"
   ]
  },
  {
   "cell_type": "code",
   "execution_count": 40,
   "id": "30933b1a-b468-42d8-8191-98731924c1cd",
   "metadata": {},
   "outputs": [
    {
     "name": "stdout",
     "output_type": "stream",
     "text": [
      "주성분(PC) 분산 설명 비율:\n",
      "[0.84746354 0.10837608 0.03505499 0.00628291 0.00282248]\n",
      "\n",
      "누적 설명 분산 비율:\n",
      "[0.84746354 0.95583961 0.99089461 0.99717752 1.        ]\n"
     ]
    }
   ],
   "source": [
    "from sklearn.decomposition import PCA\n",
    "\n",
    "# PCA 모델 생성 \n",
    "pca = PCA()\n",
    "\n",
    "# PCA 모델 학습 : y 변수를 제외하고 X 변수들만을 사용하여 주성분을 생성하는 것이 보편적인 방법\n",
    "pca.fit(scaled_df[x_features])\n",
    "\n",
    "# 주성분(PC) 확인\n",
    "print(\"주성분(PC) 분산 설명 비율:\")\n",
    "print(pca.explained_variance_ratio_)\n",
    "\n",
    "# 주성분(PC) 누적 설명 분산 비율 확인\n",
    "cumulative_variance_ratio = pca.explained_variance_ratio_.cumsum()\n",
    "print(\"\\n누적 설명 분산 비율:\")\n",
    "print(cumulative_variance_ratio)"
   ]
  },
  {
   "cell_type": "markdown",
   "id": "a7521a3d-bdfd-4d1e-85ee-dbe44c2079eb",
   "metadata": {},
   "source": [
    "### 다중선형회귀"
   ]
  },
  {
   "cell_type": "markdown",
   "id": "54e3e4b2-c5a5-43c3-b008-cd60a36e1cf3",
   "metadata": {},
   "source": [
    "#### 사이킷런 >> 모델 summary가 번거로워 삭제"
   ]
  },
  {
   "cell_type": "code",
   "execution_count": 48,
   "id": "d7d2e5de-1ac0-40ae-8811-1a709aef37b2",
   "metadata": {},
   "outputs": [
    {
     "data": {
      "text/plain": [
       "'\\nfrom sklearn.decomposition import PCA\\nfrom sklearn.linear_model import LinearRegression\\nfrom sklearn.model_selection import train_test_split\\nfrom sklearn.metrics import mean_squared_error, mean_absolute_error\\nimport numpy as np\\nfrom sklearn.linear_model import LinearRegression\\n\\n\\n# PCA 모델 생성\\npca = PCA(n_components=3)  \\n\\n# 주성분 분석을 위한 데이터 변환\\nX_pca = pca.fit_transform(scaled_df[x_features])\\ny = scaled_df[\\'PET 총량\\']\\n\\n\\n# 학습 데이터와 테스트 데이터 분할\\nX_train, X_test, y_train, y_test = train_test_split(X_pca, y, test_size=0.1, random_state=42)\\n\\n# 다중회귀 모델 학습\\nmodel = LinearRegression()\\nmodel.fit(X_train, y_train)\\n\\n# 회귀 계수 확인\\ncoefficients = model.coef_\\nintercept = model.intercept_\\nprint(\"회귀 계수 (coefficients):\", coefficients)\\nprint(\"절편 (intercept):\", intercept)\\n\\n# 모델 평가 (RMSE 및 MAE)\\ny_pred = model.predict(X_test)\\nrmse = np.sqrt(mean_squared_error(y_test, y_pred))\\nmae = mean_absolute_error(y_test, y_pred)\\n\\nprint(f\"RMSE: {rmse}\")\\nprint(f\"MAE: {mae}\")\\n\\n'"
      ]
     },
     "execution_count": 48,
     "metadata": {},
     "output_type": "execute_result"
    }
   ],
   "source": [
    "\"\"\"\n",
    "from sklearn.decomposition import PCA\n",
    "from sklearn.linear_model import LinearRegression\n",
    "from sklearn.model_selection import train_test_split\n",
    "from sklearn.metrics import mean_squared_error, mean_absolute_error\n",
    "import numpy as np\n",
    "from sklearn.linear_model import LinearRegression\n",
    "\n",
    "\n",
    "# PCA 모델 생성\n",
    "pca = PCA(n_components=3)  \n",
    "\n",
    "# 주성분 분석을 위한 데이터 변환\n",
    "X_pca = pca.fit_transform(scaled_df[x_features])\n",
    "y = scaled_df['PET 총량']\n",
    "\n",
    "\n",
    "# 학습 데이터와 테스트 데이터 분할\n",
    "X_train, X_test, y_train, y_test = train_test_split(X_pca, y, test_size=0.1, random_state=42)\n",
    "\n",
    "# 다중회귀 모델 학습\n",
    "model = LinearRegression()\n",
    "model.fit(X_train, y_train)\n",
    "\n",
    "# 회귀 계수 확인\n",
    "coefficients = model.coef_\n",
    "intercept = model.intercept_\n",
    "print(\"회귀 계수 (coefficients):\", coefficients)\n",
    "print(\"절편 (intercept):\", intercept)\n",
    "\n",
    "# 모델 평가 (RMSE 및 MAE)\n",
    "y_pred = model.predict(X_test)\n",
    "rmse = np.sqrt(mean_squared_error(y_test, y_pred))\n",
    "mae = mean_absolute_error(y_test, y_pred)\n",
    "\n",
    "print(f\"RMSE: {rmse}\")\n",
    "print(f\"MAE: {mae}\")\n",
    "\n",
    "\"\"\""
   ]
  },
  {
   "cell_type": "markdown",
   "id": "6437c402-446d-412f-bba5-f4fd49a9eb1d",
   "metadata": {},
   "source": [
    " #### statsmodel"
   ]
  },
  {
   "cell_type": "code",
   "execution_count": 46,
   "id": "64a19791-3482-4ef9-95fb-376bd628fc05",
   "metadata": {},
   "outputs": [
    {
     "name": "stdout",
     "output_type": "stream",
     "text": [
      "회귀 계수 (coefficients):\n",
      "const    7.291445\n",
      "x1       0.634427\n",
      "x2       0.506463\n",
      "x3      -0.394177\n",
      "dtype: float64\n",
      "RMSE: 0.374168835639672\n",
      "MAE: 0.33796449690367475\n"
     ]
    }
   ],
   "source": [
    "import statsmodels.api as sm\n",
    "from sklearn.decomposition import PCA\n",
    "from sklearn.model_selection import train_test_split\n",
    "import numpy as np\n",
    "\n",
    "# PCA 모델 생성\n",
    "pca = PCA(n_components=3)\n",
    "\n",
    "# 주성분 분석을 위한 데이터 변환\n",
    "X_pca = pca.fit_transform(scaled_df[x_features])\n",
    "y = scaled_df['PET 총량']\n",
    "\n",
    "# 학습 데이터와 테스트 데이터 분할\n",
    "X_train, X_test, y_train, y_test = train_test_split(X_pca, y, test_size=0.1, random_state=42)\n",
    "\n",
    "# 상수 (절편) 항 추가\n",
    "X_train_const = sm.add_constant(X_train)\n",
    "\n",
    "# OLS(Ordinary Least Squares) 모델을 생성하고 학습\n",
    "model = sm.OLS(y_train, X_train_const).fit()\n",
    "\n",
    "# 회귀 계수 확인\n",
    "coefficients = model.params\n",
    "print(\"회귀 계수 (coefficients):\")\n",
    "print(coefficients)\n",
    "\n",
    "# 모델 평가 (RMSE 및 MAE)\n",
    "X_test_const = sm.add_constant(X_test)\n",
    "y_pred = model.predict(X_test_const)\n",
    "rmse = np.sqrt(mean_squared_error(y_test, y_pred))\n",
    "mae = mean_absolute_error(y_test, y_pred)\n",
    "\n",
    "print(f\"RMSE: {rmse}\")\n",
    "print(f\"MAE: {mae}\")\n"
   ]
  },
  {
   "cell_type": "code",
   "execution_count": 47,
   "id": "35a9dde2-b223-48b3-8f1e-67dda25a9f26",
   "metadata": {},
   "outputs": [
    {
     "data": {
      "text/html": [
       "<table class=\"simpletable\">\n",
       "<caption>OLS Regression Results</caption>\n",
       "<tr>\n",
       "  <th>Dep. Variable:</th>         <td>PET 총량</td>      <th>  R-squared:         </th> <td>   0.628</td>\n",
       "</tr>\n",
       "<tr>\n",
       "  <th>Model:</th>                   <td>OLS</td>       <th>  Adj. R-squared:    </th> <td>   0.566</td>\n",
       "</tr>\n",
       "<tr>\n",
       "  <th>Method:</th>             <td>Least Squares</td>  <th>  F-statistic:       </th> <td>   10.11</td>\n",
       "</tr>\n",
       "<tr>\n",
       "  <th>Date:</th>             <td>Sun, 22 Oct 2023</td> <th>  Prob (F-statistic):</th> <td>0.000395</td>\n",
       "</tr>\n",
       "<tr>\n",
       "  <th>Time:</th>                 <td>21:54:11</td>     <th>  Log-Likelihood:    </th> <td> -1.3008</td>\n",
       "</tr>\n",
       "<tr>\n",
       "  <th>No. Observations:</th>      <td>    22</td>      <th>  AIC:               </th> <td>   10.60</td>\n",
       "</tr>\n",
       "<tr>\n",
       "  <th>Df Residuals:</th>          <td>    18</td>      <th>  BIC:               </th> <td>   14.97</td>\n",
       "</tr>\n",
       "<tr>\n",
       "  <th>Df Model:</th>              <td>     3</td>      <th>                     </th>     <td> </td>   \n",
       "</tr>\n",
       "<tr>\n",
       "  <th>Covariance Type:</th>      <td>nonrobust</td>    <th>                     </th>     <td> </td>   \n",
       "</tr>\n",
       "</table>\n",
       "<table class=\"simpletable\">\n",
       "<tr>\n",
       "    <td></td>       <th>coef</th>     <th>std err</th>      <th>t</th>      <th>P>|t|</th>  <th>[0.025</th>    <th>0.975]</th>  \n",
       "</tr>\n",
       "<tr>\n",
       "  <th>const</th> <td>    7.2914</td> <td>    0.062</td> <td>  118.150</td> <td> 0.000</td> <td>    7.162</td> <td>    7.421</td>\n",
       "</tr>\n",
       "<tr>\n",
       "  <th>x1</th>    <td>    0.6344</td> <td>    0.132</td> <td>    4.806</td> <td> 0.000</td> <td>    0.357</td> <td>    0.912</td>\n",
       "</tr>\n",
       "<tr>\n",
       "  <th>x2</th>    <td>    0.5065</td> <td>    0.376</td> <td>    1.347</td> <td> 0.195</td> <td>   -0.284</td> <td>    1.297</td>\n",
       "</tr>\n",
       "<tr>\n",
       "  <th>x3</th>    <td>   -0.3942</td> <td>    0.706</td> <td>   -0.558</td> <td> 0.583</td> <td>   -1.877</td> <td>    1.089</td>\n",
       "</tr>\n",
       "</table>\n",
       "<table class=\"simpletable\">\n",
       "<tr>\n",
       "  <th>Omnibus:</th>       <td> 0.767</td> <th>  Durbin-Watson:     </th> <td>   2.502</td>\n",
       "</tr>\n",
       "<tr>\n",
       "  <th>Prob(Omnibus):</th> <td> 0.682</td> <th>  Jarque-Bera (JB):  </th> <td>   0.153</td>\n",
       "</tr>\n",
       "<tr>\n",
       "  <th>Skew:</th>          <td>-0.191</td> <th>  Prob(JB):          </th> <td>   0.926</td>\n",
       "</tr>\n",
       "<tr>\n",
       "  <th>Kurtosis:</th>      <td> 3.146</td> <th>  Cond. No.          </th> <td>    11.8</td>\n",
       "</tr>\n",
       "</table><br/><br/>Notes:<br/>[1] Standard Errors assume that the covariance matrix of the errors is correctly specified."
      ],
      "text/plain": [
       "<class 'statsmodels.iolib.summary.Summary'>\n",
       "\"\"\"\n",
       "                            OLS Regression Results                            \n",
       "==============================================================================\n",
       "Dep. Variable:                 PET 총량   R-squared:                       0.628\n",
       "Model:                            OLS   Adj. R-squared:                  0.566\n",
       "Method:                 Least Squares   F-statistic:                     10.11\n",
       "Date:                Sun, 22 Oct 2023   Prob (F-statistic):           0.000395\n",
       "Time:                        21:54:11   Log-Likelihood:                -1.3008\n",
       "No. Observations:                  22   AIC:                             10.60\n",
       "Df Residuals:                      18   BIC:                             14.97\n",
       "Df Model:                           3                                         \n",
       "Covariance Type:            nonrobust                                         \n",
       "==============================================================================\n",
       "                 coef    std err          t      P>|t|      [0.025      0.975]\n",
       "------------------------------------------------------------------------------\n",
       "const          7.2914      0.062    118.150      0.000       7.162       7.421\n",
       "x1             0.6344      0.132      4.806      0.000       0.357       0.912\n",
       "x2             0.5065      0.376      1.347      0.195      -0.284       1.297\n",
       "x3            -0.3942      0.706     -0.558      0.583      -1.877       1.089\n",
       "==============================================================================\n",
       "Omnibus:                        0.767   Durbin-Watson:                   2.502\n",
       "Prob(Omnibus):                  0.682   Jarque-Bera (JB):                0.153\n",
       "Skew:                          -0.191   Prob(JB):                        0.926\n",
       "Kurtosis:                       3.146   Cond. No.                         11.8\n",
       "==============================================================================\n",
       "\n",
       "Notes:\n",
       "[1] Standard Errors assume that the covariance matrix of the errors is correctly specified.\n",
       "\"\"\""
      ]
     },
     "execution_count": 47,
     "metadata": {},
     "output_type": "execute_result"
    }
   ],
   "source": [
    "model.summary()\n",
    "\n",
    "# 여러 모델 중에서 가장 낮은 AIC 또는 BIC 값을 가진 모델을 선택하는 것이 일반적으로 더 적합한 모델로 간주\n"
   ]
  },
  {
   "cell_type": "code",
   "execution_count": 42,
   "id": "844e8a60-4fdd-4d50-beae-07cc8cb7b70e",
   "metadata": {},
   "outputs": [
    {
     "data": {
      "text/plain": [
       "count    25.000000\n",
       "mean      7.278442\n",
       "std       0.431113\n",
       "min       6.569201\n",
       "25%       6.880384\n",
       "50%       7.369601\n",
       "75%       7.562162\n",
       "max       7.967731\n",
       "Name: PET 총량, dtype: float64"
      ]
     },
     "execution_count": 42,
     "metadata": {},
     "output_type": "execute_result"
    }
   ],
   "source": [
    "# scaled_df['PET 총량'].describe()"
   ]
  },
  {
   "cell_type": "markdown",
   "id": "5dc04121-6ca4-4e5a-b8cd-705462d799ac",
   "metadata": {},
   "source": [
    "### 회귀모형의 잔차 검증(등분산성, 정규성, 독립성)\n",
    "- 등분산성: 잔차 대 예측값 산점도에서 잔차가 예측값에 대해 무작위로 분포되어 있는지 확인합니다. 잔차가 특정 패턴을 보이지 않는 것이 바람직합니다.\n",
    "- 정규성: Q-Q 플롯과 Shapiro-Wilk 테스트를 사용하여 잔차가 정규 분포를 따르는지 확인합니다. Q-Q 플롯이 직선에 가까울수록 정규성을 만족합니다.\n",
    "- 독립성: Durbin-Watson 테스트를 사용하여 잔차의 독립성을 확인합니다. Durbin-Watson 통계량은 0과 4 사이의 값을 가지며, 2에 가까울수록 독립성을 만족합니다.\n",
    "---\n",
    "- 잔차의 특성을 검증하여 회귀 모델의 가정을 확인하고 모델을 개선하거나 신뢰성을 평가할 수 있습니다. \n",
    "- 이러한 검증 과정은 모델의 예측력을 높이고 모델을 신뢰할 수 있게 만드는 데 도움이 됩니다.\n",
    "\n",
    "\n",
    "\n"
   ]
  },
  {
   "cell_type": "code",
   "execution_count": 43,
   "id": "5658beed-81d3-4587-ae3c-477f9be858c4",
   "metadata": {},
   "outputs": [
    {
     "data": {
      "image/png": "[encoded data removed]",
      "text/plain": [
       "<Figure size 800x400 with 1 Axes>"
      ]
     },
     "metadata": {},
     "output_type": "display_data"
    },
    {
     "data": {
      "image/png": "[encoded data removed]",
      "text/plain": [
       "<Figure size 640x480 with 1 Axes>"
      ]
     },
     "metadata": {},
     "output_type": "display_data"
    },
    {
     "name": "stdout",
     "output_type": "stream",
     "text": [
      "Shapiro-Wilk Test Statistic: 0.9605545997619629\n",
      "Shapiro-Wilk p-value: 0.5005720257759094\n",
      "Durbin-Watson Statistic: 2.502193005529854\n"
     ]
    }
   ],
   "source": [
    "import scipy.stats as stats\n",
    "import matplotlib.pyplot as plt\n",
    "import statsmodels.api as sm\n",
    "from statsmodels.stats.diagnostic import het_breuschpagan\n",
    "\n",
    "# 예측값과 실제값을 비교하여 잔차 계산\n",
    "predicted_values = model.predict(X_train)  # 여기서 model은 다중회귀 모델을 의미합니다.\n",
    "residuals = y_train - predicted_values  # y는 실제 종속 변수입니다.\n",
    "\n",
    "# 잔차 vs. 예측값 산점도 (등분산성 확인)\n",
    "plt.figure(figsize=(8, 4))\n",
    "plt.scatter(predicted_values, residuals)\n",
    "plt.xlabel(\"예측값\")\n",
    "plt.ylabel(\"잔차\")\n",
    "plt.title(\"잔차 vs. 예측값 산점도\")\n",
    "plt.axhline(y=0, color='r', linestyle='--')\n",
    "plt.show()\n",
    "\n",
    "# 잔차의 정규성 검증 (Q-Q 플롯 및 Shapiro-Wilk 테스트)\n",
    "sm.qqplot(residuals, line='s')\n",
    "plt.title(\"Q-Q Plot for Residuals\")\n",
    "plt.show()\n",
    "\n",
    "shapiro_test_statistic, shapiro_p_value = stats.shapiro(residuals)\n",
    "print(\"Shapiro-Wilk Test Statistic:\", shapiro_test_statistic)\n",
    "print(\"Shapiro-Wilk p-value:\", shapiro_p_value)\n",
    "\n",
    "# 잔차의 독립성 검증 (Durbin-Watson 테스트)\n",
    "durbin_watson_statistic = np.sum(np.diff(residuals)**2) / np.sum(residuals**2)\n",
    "print(\"Durbin-Watson Statistic:\", durbin_watson_statistic)"
   ]
  }
 ],
 "metadata": {
  "kernelspec": {
   "display_name": "Python 3 (ipykernel)",
   "language": "python",
   "name": "python3"
  },
  "language_info": {
   "codemirror_mode": {
    "name": "ipython",
    "version": 3
   },
   "file_extension": ".py",
   "mimetype": "text/x-python",
   "name": "python",
   "nbconvert_exporter": "python",
   "pygments_lexer": "ipython3",
   "version": "3.9.13"
  }
 },
 "nbformat": 4,
 "nbformat_minor": 5
}
