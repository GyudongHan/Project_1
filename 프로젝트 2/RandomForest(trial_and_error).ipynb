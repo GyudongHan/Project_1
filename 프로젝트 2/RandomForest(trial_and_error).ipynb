{
 "cells": [
  {
   "cell_type": "code",
   "execution_count": null,
   "id": "6d8cb562-8641-44a5-8e96-3a5f77329af5",
   "metadata": {},
   "outputs": [],
   "source": []
  },
  {
   "cell_type": "markdown",
   "id": "38611994-aa7f-4614-85fc-7f7a6d88e9c5",
   "metadata": {},
   "source": [
    "# 한글"
   ]
  },
  {
   "cell_type": "code",
   "execution_count": 1,
   "id": "998628c9-c0b3-47c8-8d00-f8778b2f93b6",
   "metadata": {},
   "outputs": [],
   "source": [
    "from matplotlib import rc, font_manager as fm\n",
    "\n",
    "# 나눔고딕 폰트 경로 설정\n",
    "font_path = '../나눔고딕/NanumFontSetup_TTF_GOTHIC/NanumGothic.ttf'\n",
    "font_name = fm.FontProperties(fname=font_path).get_name()\n",
    "\n",
    "# 폰트 설정\n",
    "rc('font', family=font_name)"
   ]
  },
  {
   "cell_type": "markdown",
   "id": "683a3ca6-5ca8-40aa-96ec-aa577ddc03ec",
   "metadata": {},
   "source": [
    "# => 기존의 PET HeatMap을 이용하여 새로운 시도들을 해보기 위함"
   ]
  },
  {
   "cell_type": "code",
   "execution_count": 2,
   "id": "f9829a63-495f-42dd-8e6e-d544694d853c",
   "metadata": {
    "scrolled": true
   },
   "outputs": [],
   "source": [
    "# 데이터 불러오기\n",
    "import pandas as pd\n",
    "df = pd.read_csv('data/for_model_total.csv')\n",
    "df.drop(columns=['자치구'], inplace=True)"
   ]
  },
  {
   "cell_type": "code",
   "execution_count": 3,
   "id": "19d8a607-99ee-4368-9cbb-2e581e2b2d03",
   "metadata": {},
   "outputs": [
    {
     "data": {
      "text/html": [
       "<div>\n",
       "<style scoped>\n",
       "    .dataframe tbody tr th:only-of-type {\n",
       "        vertical-align: middle;\n",
       "    }\n",
       "\n",
       "    .dataframe tbody tr th {\n",
       "        vertical-align: top;\n",
       "    }\n",
       "\n",
       "    .dataframe thead th {\n",
       "        text-align: right;\n",
       "    }\n",
       "</style>\n",
       "<table border=\"1\" class=\"dataframe\">\n",
       "  <thead>\n",
       "    <tr style=\"text-align: right;\">\n",
       "      <th></th>\n",
       "      <th>PET 총량</th>\n",
       "      <th>월평균_총생활인구수</th>\n",
       "      <th>연령대0_평균</th>\n",
       "      <th>연령대10_평균</th>\n",
       "      <th>연령대20_평균</th>\n",
       "      <th>연령대30_평균</th>\n",
       "      <th>연령대40_평균</th>\n",
       "      <th>연령대50_평균</th>\n",
       "      <th>연령대60_평균</th>\n",
       "      <th>연령대70이상_평균</th>\n",
       "      <th>...</th>\n",
       "      <th>연령대_60_거주인구수</th>\n",
       "      <th>연령대_70_거주인구수</th>\n",
       "      <th>연령대_80_거주인구수</th>\n",
       "      <th>연령대_90_거주인구수</th>\n",
       "      <th>유흥주점영업</th>\n",
       "      <th>단란주점</th>\n",
       "      <th>제과점영업</th>\n",
       "      <th>집단급식소</th>\n",
       "      <th>일반음식점</th>\n",
       "      <th>휴게음식점</th>\n",
       "    </tr>\n",
       "  </thead>\n",
       "  <tbody>\n",
       "    <tr>\n",
       "      <th>0</th>\n",
       "      <td>2680.0</td>\n",
       "      <td>5.892936e+08</td>\n",
       "      <td>3.542718e+07</td>\n",
       "      <td>5.912810e+07</td>\n",
       "      <td>9.170488e+07</td>\n",
       "      <td>1.144680e+08</td>\n",
       "      <td>1.135606e+08</td>\n",
       "      <td>7.744400e+07</td>\n",
       "      <td>5.143368e+07</td>\n",
       "      <td>4.612720e+07</td>\n",
       "      <td>...</td>\n",
       "      <td>58011.583333</td>\n",
       "      <td>32993.833333</td>\n",
       "      <td>11749.000000</td>\n",
       "      <td>2105.083333</td>\n",
       "      <td>2782.0</td>\n",
       "      <td>3645.0</td>\n",
       "      <td>6117.0</td>\n",
       "      <td>5555.0</td>\n",
       "      <td>165890.0</td>\n",
       "      <td>50825.0</td>\n",
       "    </tr>\n",
       "    <tr>\n",
       "      <th>1</th>\n",
       "      <td>2886.3</td>\n",
       "      <td>3.672376e+08</td>\n",
       "      <td>2.948711e+07</td>\n",
       "      <td>3.649162e+07</td>\n",
       "      <td>4.277418e+07</td>\n",
       "      <td>5.701898e+07</td>\n",
       "      <td>6.077971e+07</td>\n",
       "      <td>5.486420e+07</td>\n",
       "      <td>4.517363e+07</td>\n",
       "      <td>4.064814e+07</td>\n",
       "      <td>...</td>\n",
       "      <td>57224.666667</td>\n",
       "      <td>27460.583333</td>\n",
       "      <td>9633.416667</td>\n",
       "      <td>1619.916667</td>\n",
       "      <td>1606.0</td>\n",
       "      <td>1097.0</td>\n",
       "      <td>1855.0</td>\n",
       "      <td>3263.0</td>\n",
       "      <td>47030.0</td>\n",
       "      <td>13467.0</td>\n",
       "    </tr>\n",
       "    <tr>\n",
       "      <th>2</th>\n",
       "      <td>1147.1</td>\n",
       "      <td>2.147731e+08</td>\n",
       "      <td>1.359185e+07</td>\n",
       "      <td>1.758728e+07</td>\n",
       "      <td>2.864519e+07</td>\n",
       "      <td>2.739157e+07</td>\n",
       "      <td>3.246074e+07</td>\n",
       "      <td>3.419978e+07</td>\n",
       "      <td>2.725101e+07</td>\n",
       "      <td>3.364569e+07</td>\n",
       "      <td>...</td>\n",
       "      <td>42903.250000</td>\n",
       "      <td>27084.000000</td>\n",
       "      <td>11068.083333</td>\n",
       "      <td>1329.916667</td>\n",
       "      <td>864.0</td>\n",
       "      <td>1472.0</td>\n",
       "      <td>932.0</td>\n",
       "      <td>1983.0</td>\n",
       "      <td>43348.0</td>\n",
       "      <td>8292.0</td>\n",
       "    </tr>\n",
       "  </tbody>\n",
       "</table>\n",
       "<p>3 rows × 34 columns</p>\n",
       "</div>"
      ],
      "text/plain": [
       "   PET 총량    월평균_총생활인구수       연령대0_평균      연령대10_평균      연령대20_평균  \\\n",
       "0  2680.0  5.892936e+08  3.542718e+07  5.912810e+07  9.170488e+07   \n",
       "1  2886.3  3.672376e+08  2.948711e+07  3.649162e+07  4.277418e+07   \n",
       "2  1147.1  2.147731e+08  1.359185e+07  1.758728e+07  2.864519e+07   \n",
       "\n",
       "       연령대30_평균      연령대40_평균      연령대50_평균      연령대60_평균    연령대70이상_평균  ...  \\\n",
       "0  1.144680e+08  1.135606e+08  7.744400e+07  5.143368e+07  4.612720e+07  ...   \n",
       "1  5.701898e+07  6.077971e+07  5.486420e+07  4.517363e+07  4.064814e+07  ...   \n",
       "2  2.739157e+07  3.246074e+07  3.419978e+07  2.725101e+07  3.364569e+07  ...   \n",
       "\n",
       "   연령대_60_거주인구수  연령대_70_거주인구수  연령대_80_거주인구수  연령대_90_거주인구수  유흥주점영업    단란주점  \\\n",
       "0  58011.583333  32993.833333  11749.000000   2105.083333  2782.0  3645.0   \n",
       "1  57224.666667  27460.583333   9633.416667   1619.916667  1606.0  1097.0   \n",
       "2  42903.250000  27084.000000  11068.083333   1329.916667   864.0  1472.0   \n",
       "\n",
       "    제과점영업   집단급식소     일반음식점    휴게음식점  \n",
       "0  6117.0  5555.0  165890.0  50825.0  \n",
       "1  1855.0  3263.0   47030.0  13467.0  \n",
       "2   932.0  1983.0   43348.0   8292.0  \n",
       "\n",
       "[3 rows x 34 columns]"
      ]
     },
     "execution_count": 3,
     "metadata": {},
     "output_type": "execute_result"
    }
   ],
   "source": [
    "pet_column = df.pop('PET 총량')\n",
    "df.insert(0, 'PET 총량', pet_column)\n",
    "df.head(3)"
   ]
  },
  {
   "cell_type": "code",
   "execution_count": 4,
   "id": "cb66be36-1274-46fc-b507-31cecae0b2a1",
   "metadata": {},
   "outputs": [
    {
     "data": {
      "text/html": [
       "<div>\n",
       "<style scoped>\n",
       "    .dataframe tbody tr th:only-of-type {\n",
       "        vertical-align: middle;\n",
       "    }\n",
       "\n",
       "    .dataframe tbody tr th {\n",
       "        vertical-align: top;\n",
       "    }\n",
       "\n",
       "    .dataframe thead th {\n",
       "        text-align: right;\n",
       "    }\n",
       "</style>\n",
       "<table border=\"1\" class=\"dataframe\">\n",
       "  <thead>\n",
       "    <tr style=\"text-align: right;\">\n",
       "      <th></th>\n",
       "      <th>PET 총량</th>\n",
       "      <th>월평균_총생활인구수</th>\n",
       "      <th>연령대0_평균</th>\n",
       "      <th>연령대10_평균</th>\n",
       "      <th>연령대20_평균</th>\n",
       "      <th>연령대30_평균</th>\n",
       "      <th>연령대40_평균</th>\n",
       "      <th>연령대50_평균</th>\n",
       "      <th>연령대60_평균</th>\n",
       "      <th>연령대70이상_평균</th>\n",
       "      <th>...</th>\n",
       "      <th>연령대_70_거주인구수</th>\n",
       "      <th>연령대_80_거주인구수</th>\n",
       "      <th>연령대_90_거주인구수</th>\n",
       "      <th>유흥주점영업</th>\n",
       "      <th>단란주점</th>\n",
       "      <th>제과점영업</th>\n",
       "      <th>집단급식소</th>\n",
       "      <th>일반음식점</th>\n",
       "      <th>휴게음식점</th>\n",
       "      <th>2030_거주인구수</th>\n",
       "    </tr>\n",
       "  </thead>\n",
       "  <tbody>\n",
       "    <tr>\n",
       "      <th>0</th>\n",
       "      <td>2680.0</td>\n",
       "      <td>5.892936e+08</td>\n",
       "      <td>3.542718e+07</td>\n",
       "      <td>5.912810e+07</td>\n",
       "      <td>9.170488e+07</td>\n",
       "      <td>1.144680e+08</td>\n",
       "      <td>1.135606e+08</td>\n",
       "      <td>7.744400e+07</td>\n",
       "      <td>5.143368e+07</td>\n",
       "      <td>4.612720e+07</td>\n",
       "      <td>...</td>\n",
       "      <td>32993.833333</td>\n",
       "      <td>11749.000000</td>\n",
       "      <td>2105.083333</td>\n",
       "      <td>2782.0</td>\n",
       "      <td>3645.0</td>\n",
       "      <td>6117.0</td>\n",
       "      <td>5555.0</td>\n",
       "      <td>165890.0</td>\n",
       "      <td>50825.0</td>\n",
       "      <td>147280.083333</td>\n",
       "    </tr>\n",
       "    <tr>\n",
       "      <th>1</th>\n",
       "      <td>2886.3</td>\n",
       "      <td>3.672376e+08</td>\n",
       "      <td>2.948711e+07</td>\n",
       "      <td>3.649162e+07</td>\n",
       "      <td>4.277418e+07</td>\n",
       "      <td>5.701898e+07</td>\n",
       "      <td>6.077971e+07</td>\n",
       "      <td>5.486420e+07</td>\n",
       "      <td>4.517363e+07</td>\n",
       "      <td>4.064814e+07</td>\n",
       "      <td>...</td>\n",
       "      <td>27460.583333</td>\n",
       "      <td>9633.416667</td>\n",
       "      <td>1619.916667</td>\n",
       "      <td>1606.0</td>\n",
       "      <td>1097.0</td>\n",
       "      <td>1855.0</td>\n",
       "      <td>3263.0</td>\n",
       "      <td>47030.0</td>\n",
       "      <td>13467.0</td>\n",
       "      <td>115867.750000</td>\n",
       "    </tr>\n",
       "  </tbody>\n",
       "</table>\n",
       "<p>2 rows × 35 columns</p>\n",
       "</div>"
      ],
      "text/plain": [
       "   PET 총량    월평균_총생활인구수       연령대0_평균      연령대10_평균      연령대20_평균  \\\n",
       "0  2680.0  5.892936e+08  3.542718e+07  5.912810e+07  9.170488e+07   \n",
       "1  2886.3  3.672376e+08  2.948711e+07  3.649162e+07  4.277418e+07   \n",
       "\n",
       "       연령대30_평균      연령대40_평균      연령대50_평균      연령대60_평균    연령대70이상_평균  ...  \\\n",
       "0  1.144680e+08  1.135606e+08  7.744400e+07  5.143368e+07  4.612720e+07  ...   \n",
       "1  5.701898e+07  6.077971e+07  5.486420e+07  4.517363e+07  4.064814e+07  ...   \n",
       "\n",
       "   연령대_70_거주인구수  연령대_80_거주인구수  연령대_90_거주인구수  유흥주점영업    단란주점   제과점영업   집단급식소  \\\n",
       "0  32993.833333  11749.000000   2105.083333  2782.0  3645.0  6117.0  5555.0   \n",
       "1  27460.583333   9633.416667   1619.916667  1606.0  1097.0  1855.0  3263.0   \n",
       "\n",
       "      일반음식점    휴게음식점     2030_거주인구수  \n",
       "0  165890.0  50825.0  147280.083333  \n",
       "1   47030.0  13467.0  115867.750000  \n",
       "\n",
       "[2 rows x 35 columns]"
      ]
     },
     "execution_count": 4,
     "metadata": {},
     "output_type": "execute_result"
    }
   ],
   "source": [
    "df['2030_거주인구수']=df['연령대_20_거주인구수'] + df['연령대_30_거주인구수']\n",
    "df.head(2)"
   ]
  },
  {
   "cell_type": "code",
   "execution_count": 14,
   "id": "73ded0dd-e4c9-4a4d-b97a-10d92eff4481",
   "metadata": {},
   "outputs": [
    {
     "data": {
      "image/png": "[encoded data removed]",
      "text/plain": [
       "<Figure size 1000x600 with 1 Axes>"
      ]
     },
     "metadata": {},
     "output_type": "display_data"
    },
    {
     "data": {
      "application/vnd.plotly.v1+json": {
       "config": {
        "plotlyServerURL": "https://plot.ly"
       },
       "data": [
        {
         "hovertemplate": "n_estimators=%{x}<br>Score=%{y}<extra></extra>",
         "legendgroup": "",
         "line": {
          "color": "#636efa",
          "dash": "solid"
         },
         "marker": {
          "symbol": "circle"
         },
         "mode": "lines+markers",
         "name": "",
         "orientation": "h",
         "showlegend": false,
         "type": "scatter",
         "x": [
          1,
          2,
          3,
          4,
          5,
          6,
          7,
          8,
          9,
          10,
          11,
          12,
          13,
          14,
          15,
          16,
          17,
          18,
          19,
          20,
          21,
          22,
          23,
          24,
          25
         ],
         "xaxis": "x",
         "y": [
          0,
          1,
          2,
          3,
          4,
          5,
          6,
          7,
          8,
          9,
          10,
          11,
          12,
          13,
          14,
          15,
          16,
          17,
          18,
          19,
          20,
          21,
          22,
          23,
          24
         ],
         "yaxis": "y"
        },
        {
         "mode": "lines+markers",
         "name": "Train Data MAE",
         "type": "scatter",
         "x": [
          1,
          2,
          3,
          4,
          5,
          6,
          7,
          8,
          9,
          10,
          11,
          12,
          13,
          14,
          15,
          16,
          17,
          18,
          19,
          20,
          21,
          22,
          23,
          24,
          25
         ],
         "y": [
          152.109090909091,
          152.5454545454546,
          174.40909090909093,
          179.66931818181817,
          160.7609090909091,
          154.2666666666667,
          153.98961038961045,
          152.7943181818182,
          155.08333333333331,
          156.3327272727273,
          160.8805785123967,
          161.5681818181818,
          158.19685314685321,
          147.77792207792209,
          145.0081818181818,
          143.65142045454547,
          143.0403743315508,
          142.76590909090916,
          140.60502392344495,
          137.4881818181818,
          137.83679653679653,
          137.40123966942147,
          137.74150197628452,
          141.2357954545455,
          138.17545454545458
         ]
        },
        {
         "mode": "lines+markers",
         "name": "Test Data MAE",
         "type": "scatter",
         "x": [
          1,
          2,
          3,
          4,
          5,
          6,
          7,
          8,
          9,
          10,
          11,
          12,
          13,
          14,
          15,
          16,
          17,
          18,
          19,
          20,
          21,
          22,
          23,
          24,
          25
         ],
         "y": [
          152.6333333333332,
          189.39999999999995,
          177.1444444444444,
          149.35,
          105.65333333333335,
          67.61111111111101,
          141.7095238095238,
          160.74583333333325,
          117.11851851851854,
          149.44333333333338,
          151.16969696969696,
          121.53333333333323,
          136.91538461538448,
          160.55476190476193,
          159.9844444444443,
          156.32083333333335,
          156.68431372549017,
          137.7555555555557,
          116.97719298245617,
          137.87500000000009,
          156.7825396825399,
          159.35909090909104,
          157.3971014492757,
          156.15694444444466,
          156.41066666666688
         ]
        },
        {
         "mode": "lines+markers",
         "name": "RMSE",
         "type": "scatter",
         "x": [
          1,
          2,
          3,
          4,
          5,
          6,
          7,
          8,
          9,
          10,
          11,
          12,
          13,
          14,
          15,
          16,
          17,
          18,
          19,
          20,
          21,
          22,
          23,
          24,
          25
         ],
         "y": [
          157.78277261264395,
          189.87913699684503,
          177.2944830041355,
          155.66640747658644,
          127.92852483581082,
          73.56673589081961,
          142.0271041010121,
          174.75797952096485,
          138.30424534277824,
          174.87354945788687,
          164.4492712355921,
          131.03772357607556,
          152.16348839064847,
          177.54243360755348,
          170.39375788427782,
          165.57491829292368,
          165.71910312896497,
          142.08781373045204,
          126.30257171341367,
          142.57765302341983,
          159.50428634383468,
          165.86109511244908,
          163.51709255890137,
          161.20175572075445,
          161.73478036176
         ]
        }
       ],
       "layout": {
        "height": 800,
        "legend": {
         "tracegroupgap": 0
        },
        "template": {
         "data": {
          "bar": [
           {
            "error_x": {
             "color": "#2a3f5f"
            },
            "error_y": {
             "color": "#2a3f5f"
            },
            "marker": {
             "line": {
              "color": "#E5ECF6",
              "width": 0.5
             },
             "pattern": {
              "fillmode": "overlay",
              "size": 10,
              "solidity": 0.2
             }
            },
            "type": "bar"
           }
          ],
          "barpolar": [
           {
            "marker": {
             "line": {
              "color": "#E5ECF6",
              "width": 0.5
             },
             "pattern": {
              "fillmode": "overlay",
              "size": 10,
              "solidity": 0.2
             }
            },
            "type": "barpolar"
           }
          ],
          "carpet": [
           {
            "aaxis": {
             "endlinecolor": "#2a3f5f",
             "gridcolor": "white",
             "linecolor": "white",
             "minorgridcolor": "white",
             "startlinecolor": "#2a3f5f"
            },
            "baxis": {
             "endlinecolor": "#2a3f5f",
             "gridcolor": "white",
             "linecolor": "white",
             "minorgridcolor": "white",
             "startlinecolor": "#2a3f5f"
            },
            "type": "carpet"
           }
          ],
          "choropleth": [
           {
            "colorbar": {
             "outlinewidth": 0,
             "ticks": ""
            },
            "type": "choropleth"
           }
          ],
          "contour": [
           {
            "colorbar": {
             "outlinewidth": 0,
             "ticks": ""
            },
            "colorscale": [
             [
              0,
              "#0d0887"
             ],
             [
              0.1111111111111111,
              "#46039f"
             ],
             [
              0.2222222222222222,
              "#7201a8"
             ],
             [
              0.3333333333333333,
              "#9c179e"
             ],
             [
              0.4444444444444444,
              "#bd3786"
             ],
             [
              0.5555555555555556,
              "#d8576b"
             ],
             [
              0.6666666666666666,
              "#ed7953"
             ],
             [
              0.7777777777777778,
              "#fb9f3a"
             ],
             [
              0.8888888888888888,
              "#fdca26"
             ],
             [
              1,
              "#f0f921"
             ]
            ],
            "type": "contour"
           }
          ],
          "contourcarpet": [
           {
            "colorbar": {
             "outlinewidth": 0,
             "ticks": ""
            },
            "type": "contourcarpet"
           }
          ],
          "heatmap": [
           {
            "colorbar": {
             "outlinewidth": 0,
             "ticks": ""
            },
            "colorscale": [
             [
              0,
              "#0d0887"
             ],
             [
              0.1111111111111111,
              "#46039f"
             ],
             [
              0.2222222222222222,
              "#7201a8"
             ],
             [
              0.3333333333333333,
              "#9c179e"
             ],
             [
              0.4444444444444444,
              "#bd3786"
             ],
             [
              0.5555555555555556,
              "#d8576b"
             ],
             [
              0.6666666666666666,
              "#ed7953"
             ],
             [
              0.7777777777777778,
              "#fb9f3a"
             ],
             [
              0.8888888888888888,
              "#fdca26"
             ],
             [
              1,
              "#f0f921"
             ]
            ],
            "type": "heatmap"
           }
          ],
          "heatmapgl": [
           {
            "colorbar": {
             "outlinewidth": 0,
             "ticks": ""
            },
            "colorscale": [
             [
              0,
              "#0d0887"
             ],
             [
              0.1111111111111111,
              "#46039f"
             ],
             [
              0.2222222222222222,
              "#7201a8"
             ],
             [
              0.3333333333333333,
              "#9c179e"
             ],
             [
              0.4444444444444444,
              "#bd3786"
             ],
             [
              0.5555555555555556,
              "#d8576b"
             ],
             [
              0.6666666666666666,
              "#ed7953"
             ],
             [
              0.7777777777777778,
              "#fb9f3a"
             ],
             [
              0.8888888888888888,
              "#fdca26"
             ],
             [
              1,
              "#f0f921"
             ]
            ],
            "type": "heatmapgl"
           }
          ],
          "histogram": [
           {
            "marker": {
             "pattern": {
              "fillmode": "overlay",
              "size": 10,
              "solidity": 0.2
             }
            },
            "type": "histogram"
           }
          ],
          "histogram2d": [
           {
            "colorbar": {
             "outlinewidth": 0,
             "ticks": ""
            },
            "colorscale": [
             [
              0,
              "#0d0887"
             ],
             [
              0.1111111111111111,
              "#46039f"
             ],
             [
              0.2222222222222222,
              "#7201a8"
             ],
             [
              0.3333333333333333,
              "#9c179e"
             ],
             [
              0.4444444444444444,
              "#bd3786"
             ],
             [
              0.5555555555555556,
              "#d8576b"
             ],
             [
              0.6666666666666666,
              "#ed7953"
             ],
             [
              0.7777777777777778,
              "#fb9f3a"
             ],
             [
              0.8888888888888888,
              "#fdca26"
             ],
             [
              1,
              "#f0f921"
             ]
            ],
            "type": "histogram2d"
           }
          ],
          "histogram2dcontour": [
           {
            "colorbar": {
             "outlinewidth": 0,
             "ticks": ""
            },
            "colorscale": [
             [
              0,
              "#0d0887"
             ],
             [
              0.1111111111111111,
              "#46039f"
             ],
             [
              0.2222222222222222,
              "#7201a8"
             ],
             [
              0.3333333333333333,
              "#9c179e"
             ],
             [
              0.4444444444444444,
              "#bd3786"
             ],
             [
              0.5555555555555556,
              "#d8576b"
             ],
             [
              0.6666666666666666,
              "#ed7953"
             ],
             [
              0.7777777777777778,
              "#fb9f3a"
             ],
             [
              0.8888888888888888,
              "#fdca26"
             ],
             [
              1,
              "#f0f921"
             ]
            ],
            "type": "histogram2dcontour"
           }
          ],
          "mesh3d": [
           {
            "colorbar": {
             "outlinewidth": 0,
             "ticks": ""
            },
            "type": "mesh3d"
           }
          ],
          "parcoords": [
           {
            "line": {
             "colorbar": {
              "outlinewidth": 0,
              "ticks": ""
             }
            },
            "type": "parcoords"
           }
          ],
          "pie": [
           {
            "automargin": true,
            "type": "pie"
           }
          ],
          "scatter": [
           {
            "fillpattern": {
             "fillmode": "overlay",
             "size": 10,
             "solidity": 0.2
            },
            "type": "scatter"
           }
          ],
          "scatter3d": [
           {
            "line": {
             "colorbar": {
              "outlinewidth": 0,
              "ticks": ""
             }
            },
            "marker": {
             "colorbar": {
              "outlinewidth": 0,
              "ticks": ""
             }
            },
            "type": "scatter3d"
           }
          ],
          "scattercarpet": [
           {
            "marker": {
             "colorbar": {
              "outlinewidth": 0,
              "ticks": ""
             }
            },
            "type": "scattercarpet"
           }
          ],
          "scattergeo": [
           {
            "marker": {
             "colorbar": {
              "outlinewidth": 0,
              "ticks": ""
             }
            },
            "type": "scattergeo"
           }
          ],
          "scattergl": [
           {
            "marker": {
             "colorbar": {
              "outlinewidth": 0,
              "ticks": ""
             }
            },
            "type": "scattergl"
           }
          ],
          "scattermapbox": [
           {
            "marker": {
             "colorbar": {
              "outlinewidth": 0,
              "ticks": ""
             }
            },
            "type": "scattermapbox"
           }
          ],
          "scatterpolar": [
           {
            "marker": {
             "colorbar": {
              "outlinewidth": 0,
              "ticks": ""
             }
            },
            "type": "scatterpolar"
           }
          ],
          "scatterpolargl": [
           {
            "marker": {
             "colorbar": {
              "outlinewidth": 0,
              "ticks": ""
             }
            },
            "type": "scatterpolargl"
           }
          ],
          "scatterternary": [
           {
            "marker": {
             "colorbar": {
              "outlinewidth": 0,
              "ticks": ""
             }
            },
            "type": "scatterternary"
           }
          ],
          "surface": [
           {
            "colorbar": {
             "outlinewidth": 0,
             "ticks": ""
            },
            "colorscale": [
             [
              0,
              "#0d0887"
             ],
             [
              0.1111111111111111,
              "#46039f"
             ],
             [
              0.2222222222222222,
              "#7201a8"
             ],
             [
              0.3333333333333333,
              "#9c179e"
             ],
             [
              0.4444444444444444,
              "#bd3786"
             ],
             [
              0.5555555555555556,
              "#d8576b"
             ],
             [
              0.6666666666666666,
              "#ed7953"
             ],
             [
              0.7777777777777778,
              "#fb9f3a"
             ],
             [
              0.8888888888888888,
              "#fdca26"
             ],
             [
              1,
              "#f0f921"
             ]
            ],
            "type": "surface"
           }
          ],
          "table": [
           {
            "cells": {
             "fill": {
              "color": "#EBF0F8"
             },
             "line": {
              "color": "white"
             }
            },
            "header": {
             "fill": {
              "color": "#C8D4E3"
             },
             "line": {
              "color": "white"
             }
            },
            "type": "table"
           }
          ]
         },
         "layout": {
          "annotationdefaults": {
           "arrowcolor": "#2a3f5f",
           "arrowhead": 0,
           "arrowwidth": 1
          },
          "autotypenumbers": "strict",
          "coloraxis": {
           "colorbar": {
            "outlinewidth": 0,
            "ticks": ""
           }
          },
          "colorscale": {
           "diverging": [
            [
             0,
             "#8e0152"
            ],
            [
             0.1,
             "#c51b7d"
            ],
            [
             0.2,
             "#de77ae"
            ],
            [
             0.3,
             "#f1b6da"
            ],
            [
             0.4,
             "#fde0ef"
            ],
            [
             0.5,
             "#f7f7f7"
            ],
            [
             0.6,
             "#e6f5d0"
            ],
            [
             0.7,
             "#b8e186"
            ],
            [
             0.8,
             "#7fbc41"
            ],
            [
             0.9,
             "#4d9221"
            ],
            [
             1,
             "#276419"
            ]
           ],
           "sequential": [
            [
             0,
             "#0d0887"
            ],
            [
             0.1111111111111111,
             "#46039f"
            ],
            [
             0.2222222222222222,
             "#7201a8"
            ],
            [
             0.3333333333333333,
             "#9c179e"
            ],
            [
             0.4444444444444444,
             "#bd3786"
            ],
            [
             0.5555555555555556,
             "#d8576b"
            ],
            [
             0.6666666666666666,
             "#ed7953"
            ],
            [
             0.7777777777777778,
             "#fb9f3a"
            ],
            [
             0.8888888888888888,
             "#fdca26"
            ],
            [
             1,
             "#f0f921"
            ]
           ],
           "sequentialminus": [
            [
             0,
             "#0d0887"
            ],
            [
             0.1111111111111111,
             "#46039f"
            ],
            [
             0.2222222222222222,
             "#7201a8"
            ],
            [
             0.3333333333333333,
             "#9c179e"
            ],
            [
             0.4444444444444444,
             "#bd3786"
            ],
            [
             0.5555555555555556,
             "#d8576b"
            ],
            [
             0.6666666666666666,
             "#ed7953"
            ],
            [
             0.7777777777777778,
             "#fb9f3a"
            ],
            [
             0.8888888888888888,
             "#fdca26"
            ],
            [
             1,
             "#f0f921"
            ]
           ]
          },
          "colorway": [
           "#636efa",
           "#EF553B",
           "#00cc96",
           "#ab63fa",
           "#FFA15A",
           "#19d3f3",
           "#FF6692",
           "#B6E880",
           "#FF97FF",
           "#FECB52"
          ],
          "font": {
           "color": "#2a3f5f"
          },
          "geo": {
           "bgcolor": "white",
           "lakecolor": "white",
           "landcolor": "#E5ECF6",
           "showlakes": true,
           "showland": true,
           "subunitcolor": "white"
          },
          "hoverlabel": {
           "align": "left"
          },
          "hovermode": "closest",
          "mapbox": {
           "style": "light"
          },
          "paper_bgcolor": "white",
          "plot_bgcolor": "#E5ECF6",
          "polar": {
           "angularaxis": {
            "gridcolor": "white",
            "linecolor": "white",
            "ticks": ""
           },
           "bgcolor": "#E5ECF6",
           "radialaxis": {
            "gridcolor": "white",
            "linecolor": "white",
            "ticks": ""
           }
          },
          "scene": {
           "xaxis": {
            "backgroundcolor": "#E5ECF6",
            "gridcolor": "white",
            "gridwidth": 2,
            "linecolor": "white",
            "showbackground": true,
            "ticks": "",
            "zerolinecolor": "white"
           },
           "yaxis": {
            "backgroundcolor": "#E5ECF6",
            "gridcolor": "white",
            "gridwidth": 2,
            "linecolor": "white",
            "showbackground": true,
            "ticks": "",
            "zerolinecolor": "white"
           },
           "zaxis": {
            "backgroundcolor": "#E5ECF6",
            "gridcolor": "white",
            "gridwidth": 2,
            "linecolor": "white",
            "showbackground": true,
            "ticks": "",
            "zerolinecolor": "white"
           }
          },
          "shapedefaults": {
           "line": {
            "color": "#2a3f5f"
           }
          },
          "ternary": {
           "aaxis": {
            "gridcolor": "white",
            "linecolor": "white",
            "ticks": ""
           },
           "baxis": {
            "gridcolor": "white",
            "linecolor": "white",
            "ticks": ""
           },
           "bgcolor": "#E5ECF6",
           "caxis": {
            "gridcolor": "white",
            "linecolor": "white",
            "ticks": ""
           }
          },
          "title": {
           "x": 0.05
          },
          "xaxis": {
           "automargin": true,
           "gridcolor": "white",
           "linecolor": "white",
           "ticks": "",
           "title": {
            "standoff": 15
           },
           "zerolinecolor": "white",
           "zerolinewidth": 2
          },
          "yaxis": {
           "automargin": true,
           "gridcolor": "white",
           "linecolor": "white",
           "ticks": "",
           "title": {
            "standoff": 15
           },
           "zerolinecolor": "white",
           "zerolinewidth": 2
          }
         }
        },
        "title": {
         "text": "Score vs n_estimators"
        },
        "width": 1200,
        "xaxis": {
         "anchor": "y",
         "autorange": true,
         "domain": [
          0,
          1
         ],
         "range": [
          -0.4513274336283186,
          26.451327433628318
         ],
         "title": {
          "text": "n_estimators"
         },
         "type": "linear"
        },
        "yaxis": {
         "anchor": "x",
         "autorange": true,
         "domain": [
          0,
          1
         ],
         "range": [
          -11.986012735041536,
          201.86514973188656
         ],
         "title": {
          "text": "Score"
         },
         "type": "linear"
        }
       }
      },
      "text/html": [
       "<div>                            <div id=\"df945399-2255-4790-8694-6b6a53c23aa7\" class=\"plotly-graph-div\" style=\"height:800px; width:1200px;\"></div>            <script type=\"text/javascript\">                require([\"plotly\"], function(Plotly) {                    window.PLOTLYENV=window.PLOTLYENV || {};                                    if (document.getElementById(\"df945399-2255-4790-8694-6b6a53c23aa7\")) {                    Plotly.newPlot(                        \"df945399-2255-4790-8694-6b6a53c23aa7\",                        [{\"hovertemplate\":\"n_estimators=%{x}<br>Score=%{y}<extra></extra>\",\"legendgroup\":\"\",\"line\":{\"color\":\"#636efa\",\"dash\":\"solid\"},\"marker\":{\"symbol\":\"circle\"},\"mode\":\"lines+markers\",\"name\":\"\",\"orientation\":\"h\",\"showlegend\":false,\"x\":[1,2,3,4,5,6,7,8,9,10,11,12,13,14,15,16,17,18,19,20,21,22,23,24,25],\"xaxis\":\"x\",\"y\":[0,1,2,3,4,5,6,7,8,9,10,11,12,13,14,15,16,17,18,19,20,21,22,23,24],\"yaxis\":\"y\",\"type\":\"scatter\"},{\"mode\":\"lines+markers\",\"name\":\"Train Data MAE\",\"x\":[1,2,3,4,5,6,7,8,9,10,11,12,13,14,15,16,17,18,19,20,21,22,23,24,25],\"y\":[152.109090909091,152.5454545454546,174.40909090909093,179.66931818181817,160.7609090909091,154.2666666666667,153.98961038961045,152.7943181818182,155.08333333333331,156.3327272727273,160.8805785123967,161.5681818181818,158.19685314685321,147.77792207792209,145.0081818181818,143.65142045454547,143.0403743315508,142.76590909090916,140.60502392344495,137.4881818181818,137.83679653679653,137.40123966942147,137.74150197628452,141.2357954545455,138.17545454545458],\"type\":\"scatter\"},{\"mode\":\"lines+markers\",\"name\":\"Test Data MAE\",\"x\":[1,2,3,4,5,6,7,8,9,10,11,12,13,14,15,16,17,18,19,20,21,22,23,24,25],\"y\":[152.6333333333332,189.39999999999995,177.1444444444444,149.35,105.65333333333335,67.61111111111101,141.7095238095238,160.74583333333325,117.11851851851854,149.44333333333338,151.16969696969696,121.53333333333323,136.91538461538448,160.55476190476193,159.9844444444443,156.32083333333335,156.68431372549017,137.7555555555557,116.97719298245617,137.87500000000009,156.7825396825399,159.35909090909104,157.3971014492757,156.15694444444466,156.41066666666688],\"type\":\"scatter\"},{\"mode\":\"lines+markers\",\"name\":\"RMSE\",\"x\":[1,2,3,4,5,6,7,8,9,10,11,12,13,14,15,16,17,18,19,20,21,22,23,24,25],\"y\":[157.78277261264395,189.87913699684503,177.2944830041355,155.66640747658644,127.92852483581082,73.56673589081961,142.0271041010121,174.75797952096485,138.30424534277824,174.87354945788687,164.4492712355921,131.03772357607556,152.16348839064847,177.54243360755348,170.39375788427782,165.57491829292368,165.71910312896497,142.08781373045204,126.30257171341367,142.57765302341983,159.50428634383468,165.86109511244908,163.51709255890137,161.20175572075445,161.73478036176],\"type\":\"scatter\"}],                        {\"template\":{\"data\":{\"histogram2dcontour\":[{\"type\":\"histogram2dcontour\",\"colorbar\":{\"outlinewidth\":0,\"ticks\":\"\"},\"colorscale\":[[0.0,\"#0d0887\"],[0.1111111111111111,\"#46039f\"],[0.2222222222222222,\"#7201a8\"],[0.3333333333333333,\"#9c179e\"],[0.4444444444444444,\"#bd3786\"],[0.5555555555555556,\"#d8576b\"],[0.6666666666666666,\"#ed7953\"],[0.7777777777777778,\"#fb9f3a\"],[0.8888888888888888,\"#fdca26\"],[1.0,\"#f0f921\"]]}],\"choropleth\":[{\"type\":\"choropleth\",\"colorbar\":{\"outlinewidth\":0,\"ticks\":\"\"}}],\"histogram2d\":[{\"type\":\"histogram2d\",\"colorbar\":{\"outlinewidth\":0,\"ticks\":\"\"},\"colorscale\":[[0.0,\"#0d0887\"],[0.1111111111111111,\"#46039f\"],[0.2222222222222222,\"#7201a8\"],[0.3333333333333333,\"#9c179e\"],[0.4444444444444444,\"#bd3786\"],[0.5555555555555556,\"#d8576b\"],[0.6666666666666666,\"#ed7953\"],[0.7777777777777778,\"#fb9f3a\"],[0.8888888888888888,\"#fdca26\"],[1.0,\"#f0f921\"]]}],\"heatmap\":[{\"type\":\"heatmap\",\"colorbar\":{\"outlinewidth\":0,\"ticks\":\"\"},\"colorscale\":[[0.0,\"#0d0887\"],[0.1111111111111111,\"#46039f\"],[0.2222222222222222,\"#7201a8\"],[0.3333333333333333,\"#9c179e\"],[0.4444444444444444,\"#bd3786\"],[0.5555555555555556,\"#d8576b\"],[0.6666666666666666,\"#ed7953\"],[0.7777777777777778,\"#fb9f3a\"],[0.8888888888888888,\"#fdca26\"],[1.0,\"#f0f921\"]]}],\"heatmapgl\":[{\"type\":\"heatmapgl\",\"colorbar\":{\"outlinewidth\":0,\"ticks\":\"\"},\"colorscale\":[[0.0,\"#0d0887\"],[0.1111111111111111,\"#46039f\"],[0.2222222222222222,\"#7201a8\"],[0.3333333333333333,\"#9c179e\"],[0.4444444444444444,\"#bd3786\"],[0.5555555555555556,\"#d8576b\"],[0.6666666666666666,\"#ed7953\"],[0.7777777777777778,\"#fb9f3a\"],[0.8888888888888888,\"#fdca26\"],[1.0,\"#f0f921\"]]}],\"contourcarpet\":[{\"type\":\"contourcarpet\",\"colorbar\":{\"outlinewidth\":0,\"ticks\":\"\"}}],\"contour\":[{\"type\":\"contour\",\"colorbar\":{\"outlinewidth\":0,\"ticks\":\"\"},\"colorscale\":[[0.0,\"#0d0887\"],[0.1111111111111111,\"#46039f\"],[0.2222222222222222,\"#7201a8\"],[0.3333333333333333,\"#9c179e\"],[0.4444444444444444,\"#bd3786\"],[0.5555555555555556,\"#d8576b\"],[0.6666666666666666,\"#ed7953\"],[0.7777777777777778,\"#fb9f3a\"],[0.8888888888888888,\"#fdca26\"],[1.0,\"#f0f921\"]]}],\"surface\":[{\"type\":\"surface\",\"colorbar\":{\"outlinewidth\":0,\"ticks\":\"\"},\"colorscale\":[[0.0,\"#0d0887\"],[0.1111111111111111,\"#46039f\"],[0.2222222222222222,\"#7201a8\"],[0.3333333333333333,\"#9c179e\"],[0.4444444444444444,\"#bd3786\"],[0.5555555555555556,\"#d8576b\"],[0.6666666666666666,\"#ed7953\"],[0.7777777777777778,\"#fb9f3a\"],[0.8888888888888888,\"#fdca26\"],[1.0,\"#f0f921\"]]}],\"mesh3d\":[{\"type\":\"mesh3d\",\"colorbar\":{\"outlinewidth\":0,\"ticks\":\"\"}}],\"scatter\":[{\"fillpattern\":{\"fillmode\":\"overlay\",\"size\":10,\"solidity\":0.2},\"type\":\"scatter\"}],\"parcoords\":[{\"type\":\"parcoords\",\"line\":{\"colorbar\":{\"outlinewidth\":0,\"ticks\":\"\"}}}],\"scatterpolargl\":[{\"type\":\"scatterpolargl\",\"marker\":{\"colorbar\":{\"outlinewidth\":0,\"ticks\":\"\"}}}],\"bar\":[{\"error_x\":{\"color\":\"#2a3f5f\"},\"error_y\":{\"color\":\"#2a3f5f\"},\"marker\":{\"line\":{\"color\":\"#E5ECF6\",\"width\":0.5},\"pattern\":{\"fillmode\":\"overlay\",\"size\":10,\"solidity\":0.2}},\"type\":\"bar\"}],\"scattergeo\":[{\"type\":\"scattergeo\",\"marker\":{\"colorbar\":{\"outlinewidth\":0,\"ticks\":\"\"}}}],\"scatterpolar\":[{\"type\":\"scatterpolar\",\"marker\":{\"colorbar\":{\"outlinewidth\":0,\"ticks\":\"\"}}}],\"histogram\":[{\"marker\":{\"pattern\":{\"fillmode\":\"overlay\",\"size\":10,\"solidity\":0.2}},\"type\":\"histogram\"}],\"scattergl\":[{\"type\":\"scattergl\",\"marker\":{\"colorbar\":{\"outlinewidth\":0,\"ticks\":\"\"}}}],\"scatter3d\":[{\"type\":\"scatter3d\",\"line\":{\"colorbar\":{\"outlinewidth\":0,\"ticks\":\"\"}},\"marker\":{\"colorbar\":{\"outlinewidth\":0,\"ticks\":\"\"}}}],\"scattermapbox\":[{\"type\":\"scattermapbox\",\"marker\":{\"colorbar\":{\"outlinewidth\":0,\"ticks\":\"\"}}}],\"scatterternary\":[{\"type\":\"scatterternary\",\"marker\":{\"colorbar\":{\"outlinewidth\":0,\"ticks\":\"\"}}}],\"scattercarpet\":[{\"type\":\"scattercarpet\",\"marker\":{\"colorbar\":{\"outlinewidth\":0,\"ticks\":\"\"}}}],\"carpet\":[{\"aaxis\":{\"endlinecolor\":\"#2a3f5f\",\"gridcolor\":\"white\",\"linecolor\":\"white\",\"minorgridcolor\":\"white\",\"startlinecolor\":\"#2a3f5f\"},\"baxis\":{\"endlinecolor\":\"#2a3f5f\",\"gridcolor\":\"white\",\"linecolor\":\"white\",\"minorgridcolor\":\"white\",\"startlinecolor\":\"#2a3f5f\"},\"type\":\"carpet\"}],\"table\":[{\"cells\":{\"fill\":{\"color\":\"#EBF0F8\"},\"line\":{\"color\":\"white\"}},\"header\":{\"fill\":{\"color\":\"#C8D4E3\"},\"line\":{\"color\":\"white\"}},\"type\":\"table\"}],\"barpolar\":[{\"marker\":{\"line\":{\"color\":\"#E5ECF6\",\"width\":0.5},\"pattern\":{\"fillmode\":\"overlay\",\"size\":10,\"solidity\":0.2}},\"type\":\"barpolar\"}],\"pie\":[{\"automargin\":true,\"type\":\"pie\"}]},\"layout\":{\"autotypenumbers\":\"strict\",\"colorway\":[\"#636efa\",\"#EF553B\",\"#00cc96\",\"#ab63fa\",\"#FFA15A\",\"#19d3f3\",\"#FF6692\",\"#B6E880\",\"#FF97FF\",\"#FECB52\"],\"font\":{\"color\":\"#2a3f5f\"},\"hovermode\":\"closest\",\"hoverlabel\":{\"align\":\"left\"},\"paper_bgcolor\":\"white\",\"plot_bgcolor\":\"#E5ECF6\",\"polar\":{\"bgcolor\":\"#E5ECF6\",\"angularaxis\":{\"gridcolor\":\"white\",\"linecolor\":\"white\",\"ticks\":\"\"},\"radialaxis\":{\"gridcolor\":\"white\",\"linecolor\":\"white\",\"ticks\":\"\"}},\"ternary\":{\"bgcolor\":\"#E5ECF6\",\"aaxis\":{\"gridcolor\":\"white\",\"linecolor\":\"white\",\"ticks\":\"\"},\"baxis\":{\"gridcolor\":\"white\",\"linecolor\":\"white\",\"ticks\":\"\"},\"caxis\":{\"gridcolor\":\"white\",\"linecolor\":\"white\",\"ticks\":\"\"}},\"coloraxis\":{\"colorbar\":{\"outlinewidth\":0,\"ticks\":\"\"}},\"colorscale\":{\"sequential\":[[0.0,\"#0d0887\"],[0.1111111111111111,\"#46039f\"],[0.2222222222222222,\"#7201a8\"],[0.3333333333333333,\"#9c179e\"],[0.4444444444444444,\"#bd3786\"],[0.5555555555555556,\"#d8576b\"],[0.6666666666666666,\"#ed7953\"],[0.7777777777777778,\"#fb9f3a\"],[0.8888888888888888,\"#fdca26\"],[1.0,\"#f0f921\"]],\"sequentialminus\":[[0.0,\"#0d0887\"],[0.1111111111111111,\"#46039f\"],[0.2222222222222222,\"#7201a8\"],[0.3333333333333333,\"#9c179e\"],[0.4444444444444444,\"#bd3786\"],[0.5555555555555556,\"#d8576b\"],[0.6666666666666666,\"#ed7953\"],[0.7777777777777778,\"#fb9f3a\"],[0.8888888888888888,\"#fdca26\"],[1.0,\"#f0f921\"]],\"diverging\":[[0,\"#8e0152\"],[0.1,\"#c51b7d\"],[0.2,\"#de77ae\"],[0.3,\"#f1b6da\"],[0.4,\"#fde0ef\"],[0.5,\"#f7f7f7\"],[0.6,\"#e6f5d0\"],[0.7,\"#b8e186\"],[0.8,\"#7fbc41\"],[0.9,\"#4d9221\"],[1,\"#276419\"]]},\"xaxis\":{\"gridcolor\":\"white\",\"linecolor\":\"white\",\"ticks\":\"\",\"title\":{\"standoff\":15},\"zerolinecolor\":\"white\",\"automargin\":true,\"zerolinewidth\":2},\"yaxis\":{\"gridcolor\":\"white\",\"linecolor\":\"white\",\"ticks\":\"\",\"title\":{\"standoff\":15},\"zerolinecolor\":\"white\",\"automargin\":true,\"zerolinewidth\":2},\"scene\":{\"xaxis\":{\"backgroundcolor\":\"#E5ECF6\",\"gridcolor\":\"white\",\"linecolor\":\"white\",\"showbackground\":true,\"ticks\":\"\",\"zerolinecolor\":\"white\",\"gridwidth\":2},\"yaxis\":{\"backgroundcolor\":\"#E5ECF6\",\"gridcolor\":\"white\",\"linecolor\":\"white\",\"showbackground\":true,\"ticks\":\"\",\"zerolinecolor\":\"white\",\"gridwidth\":2},\"zaxis\":{\"backgroundcolor\":\"#E5ECF6\",\"gridcolor\":\"white\",\"linecolor\":\"white\",\"showbackground\":true,\"ticks\":\"\",\"zerolinecolor\":\"white\",\"gridwidth\":2}},\"shapedefaults\":{\"line\":{\"color\":\"#2a3f5f\"}},\"annotationdefaults\":{\"arrowcolor\":\"#2a3f5f\",\"arrowhead\":0,\"arrowwidth\":1},\"geo\":{\"bgcolor\":\"white\",\"landcolor\":\"#E5ECF6\",\"subunitcolor\":\"white\",\"showland\":true,\"showlakes\":true,\"lakecolor\":\"white\"},\"title\":{\"x\":0.05},\"mapbox\":{\"style\":\"light\"}}},\"xaxis\":{\"anchor\":\"y\",\"domain\":[0.0,1.0],\"title\":{\"text\":\"n_estimators\"}},\"yaxis\":{\"anchor\":\"x\",\"domain\":[0.0,1.0],\"title\":{\"text\":\"Score\"}},\"legend\":{\"tracegroupgap\":0},\"title\":{\"text\":\"Score vs n_estimators\"},\"height\":800,\"width\":1200},                        {\"responsive\": true}                    ).then(function(){\n",
       "                            \n",
       "var gd = document.getElementById('df945399-2255-4790-8694-6b6a53c23aa7');\n",
       "var x = new MutationObserver(function (mutations, observer) {{\n",
       "        var display = window.getComputedStyle(gd).display;\n",
       "        if (!display || display === 'none') {{\n",
       "            console.log([gd, 'removed!']);\n",
       "            Plotly.purge(gd);\n",
       "            observer.disconnect();\n",
       "        }}\n",
       "}});\n",
       "\n",
       "// Listen for the removal of the full notebook cells\n",
       "var notebookContainer = gd.closest('#notebook-container');\n",
       "if (notebookContainer) {{\n",
       "    x.observe(notebookContainer, {childList: true});\n",
       "}}\n",
       "\n",
       "// Listen for the clearing of the current output cell\n",
       "var outputEl = gd.closest('.output');\n",
       "if (outputEl) {{\n",
       "    x.observe(outputEl, {childList: true});\n",
       "}}\n",
       "\n",
       "                        })                };                });            </script>        </div>"
      ]
     },
     "metadata": {},
     "output_type": "display_data"
    },
    {
     "name": "stdout",
     "output_type": "stream",
     "text": [
      "최적 n_estimators: 6\n",
      "최적 MAE: 67.61111111111101\n",
      "최적 RMSE: 73.56673589081961\n"
     ]
    }
   ],
   "source": [
    "import pandas as pd\n",
    "import numpy as np\n",
    "import matplotlib.pyplot as plt\n",
    "import plotly.express as px\n",
    "from sklearn.ensemble import RandomForestRegressor\n",
    "from sklearn.model_selection import train_test_split\n",
    "from sklearn.metrics import mean_absolute_error\n",
    "from math import sqrt\n",
    "\n",
    "y = df.iloc[:, 0]\n",
    "X = df[['연령대_20_거주인구수', '연령대_30_거주인구수', '월평균_총생활인구수', '2인가구']]\n",
    "\n",
    "# 데이터 분할 (random_state 설정)\n",
    "X_train, X_test, y_train, y_test = train_test_split(X, y, test_size=0.1, random_state=0)\n",
    "\n",
    "# n_estimators 범위\n",
    "n_estimators_range = list(range(1,26))\n",
    "best_n_estimators = None\n",
    "best_mae = float('inf')  # MAE 최소화\n",
    "best_rmse = float('inf')  # RMSE 최소화\n",
    "\n",
    "# n_estimators 범위 평가 및 MAE, RMSE 기록\n",
    "train_mae_scores = []  # 훈련 데이터 MAE를 기록할 리스트\n",
    "test_mae_scores = []   # 테스트 데이터 MAE를 기록할 리스트\n",
    "rmse_scores = []       # RMSE를 기록할 리스트\n",
    "\n",
    "for n_estimators in n_estimators_range:\n",
    "    model = RandomForestRegressor(n_estimators=n_estimators, max_depth=10, random_state=0)\n",
    "    model.fit(X_train, y_train)\n",
    "\n",
    "    # Train Data MAE\n",
    "    y_train_pred = model.predict(X_train)\n",
    "    train_mae = mean_absolute_error(y_train, y_train_pred)\n",
    "    train_mae_scores.append(train_mae)\n",
    "    \n",
    "    # Test Data MAE\n",
    "    y_test_pred = model.predict(X_test)\n",
    "    test_mae = mean_absolute_error(y_test, y_test_pred)\n",
    "    test_mae_scores.append(test_mae)\n",
    "\n",
    "    # RMSE 계산\n",
    "    train_rmse = sqrt(np.mean((y_train - y_train_pred) ** 2))\n",
    "    test_rmse = sqrt(np.mean((y_test - y_test_pred) ** 2))\n",
    "    rmse_scores.append(test_rmse)\n",
    "\n",
    "    # 현재의 n_estimators 값이 이전보다 더 좋으면 최적값 업데이트\n",
    "    if test_mae < best_mae:\n",
    "        best_mae = test_mae\n",
    "        best_n_estimators = n_estimators\n",
    "\n",
    "    if test_rmse < best_rmse:\n",
    "        best_rmse = test_rmse\n",
    "\n",
    "# 피처 중요도 계산\n",
    "model = RandomForestRegressor(n_estimators=best_n_estimators, max_depth=10, random_state=0)\n",
    "model.fit(X_train, y_train)\n",
    "feature_importance = model.feature_importances_\n",
    "\n",
    "# 피처 중요도를 내림차순으로 정렬\n",
    "sorted_indices = feature_importance.argsort()[::-1]\n",
    "sorted_features = X.columns[sorted_indices]\n",
    "sorted_importance = feature_importance[sorted_indices]\n",
    "\n",
    "# 피처 중요도 시각화\n",
    "fig, ax = plt.subplots(figsize=(10, 6))\n",
    "ax.barh(sorted_features, sorted_importance)\n",
    "ax.set_xlabel('Feature Importance')\n",
    "ax.set_title('Feature Importance')\n",
    "\n",
    "# 그래프 출력\n",
    "plt.show()\n",
    "\n",
    "\n",
    "# MAE, RMSE, n_estimators 관계 시각화\n",
    "fig = px.line(x=n_estimators_range, labels={'x': 'n_estimators', 'y': 'Score'}, title='Score vs n_estimators', width=1200, height=800)\n",
    "fig.add_scatter(x=n_estimators_range, y=train_mae_scores, mode='lines+markers', name='Train Data MAE')\n",
    "fig.add_scatter(x=n_estimators_range, y=test_mae_scores, mode='lines+markers', name='Test Data MAE')\n",
    "fig.add_scatter(x=n_estimators_range, y=rmse_scores, mode='lines+markers', name='RMSE')\n",
    "fig.update_traces(mode='lines+markers')\n",
    "\n",
    "# Display the figure\n",
    "fig.show()\n",
    "\n",
    "# 최적값 출력\n",
    "print(f\"최적 n_estimators: {best_n_estimators}\")\n",
    "print(f\"최적 MAE: {best_mae}\")\n",
    "print(f\"최적 RMSE: {best_rmse}\")\n"
   ]
  },
  {
   "cell_type": "markdown",
   "id": "fb5c3942-7b23-4546-ae09-71edc7d94451",
   "metadata": {},
   "source": [
    "# 기존에 찾아놨던 애들 상관관게 높으므로 합침"
   ]
  },
  {
   "cell_type": "code",
   "execution_count": 6,
   "id": "a85d4ebe-f801-488d-bf37-46840e7e95b0",
   "metadata": {},
   "outputs": [
    {
     "data": {
      "text/html": [
       "<div>\n",
       "<style scoped>\n",
       "    .dataframe tbody tr th:only-of-type {\n",
       "        vertical-align: middle;\n",
       "    }\n",
       "\n",
       "    .dataframe tbody tr th {\n",
       "        vertical-align: top;\n",
       "    }\n",
       "\n",
       "    .dataframe thead th {\n",
       "        text-align: right;\n",
       "    }\n",
       "</style>\n",
       "<table border=\"1\" class=\"dataframe\">\n",
       "  <thead>\n",
       "    <tr style=\"text-align: right;\">\n",
       "      <th></th>\n",
       "      <th>PET 총량</th>\n",
       "      <th>월평균_총생활인구수</th>\n",
       "      <th>연령대0_평균</th>\n",
       "      <th>연령대10_평균</th>\n",
       "      <th>연령대20_평균</th>\n",
       "      <th>연령대30_평균</th>\n",
       "      <th>연령대40_평균</th>\n",
       "      <th>연령대50_평균</th>\n",
       "      <th>연령대60_평균</th>\n",
       "      <th>연령대70이상_평균</th>\n",
       "      <th>...</th>\n",
       "      <th>연령대_90_거주인구수</th>\n",
       "      <th>유흥주점영업</th>\n",
       "      <th>단란주점</th>\n",
       "      <th>제과점영업</th>\n",
       "      <th>집단급식소</th>\n",
       "      <th>일반음식점</th>\n",
       "      <th>휴게음식점</th>\n",
       "      <th>2030_거주인구수</th>\n",
       "      <th>3060_거주인구수</th>\n",
       "      <th>2060_생활인구수</th>\n",
       "    </tr>\n",
       "  </thead>\n",
       "  <tbody>\n",
       "    <tr>\n",
       "      <th>0</th>\n",
       "      <td>2680.0</td>\n",
       "      <td>5.892936e+08</td>\n",
       "      <td>3.542718e+07</td>\n",
       "      <td>5.912810e+07</td>\n",
       "      <td>9.170488e+07</td>\n",
       "      <td>1.144680e+08</td>\n",
       "      <td>1.135606e+08</td>\n",
       "      <td>7.744400e+07</td>\n",
       "      <td>5.143368e+07</td>\n",
       "      <td>4.612720e+07</td>\n",
       "      <td>...</td>\n",
       "      <td>2105.083333</td>\n",
       "      <td>2782.0</td>\n",
       "      <td>3645.0</td>\n",
       "      <td>6117.0</td>\n",
       "      <td>5555.0</td>\n",
       "      <td>165890.0</td>\n",
       "      <td>50825.0</td>\n",
       "      <td>147280.083333</td>\n",
       "      <td>134120.916667</td>\n",
       "      <td>1.431386e+08</td>\n",
       "    </tr>\n",
       "    <tr>\n",
       "      <th>1</th>\n",
       "      <td>2886.3</td>\n",
       "      <td>3.672376e+08</td>\n",
       "      <td>2.948711e+07</td>\n",
       "      <td>3.649162e+07</td>\n",
       "      <td>4.277418e+07</td>\n",
       "      <td>5.701898e+07</td>\n",
       "      <td>6.077971e+07</td>\n",
       "      <td>5.486420e+07</td>\n",
       "      <td>4.517363e+07</td>\n",
       "      <td>4.064814e+07</td>\n",
       "      <td>...</td>\n",
       "      <td>1619.916667</td>\n",
       "      <td>1606.0</td>\n",
       "      <td>1097.0</td>\n",
       "      <td>1855.0</td>\n",
       "      <td>3263.0</td>\n",
       "      <td>47030.0</td>\n",
       "      <td>13467.0</td>\n",
       "      <td>115867.750000</td>\n",
       "      <td>119676.333333</td>\n",
       "      <td>8.794781e+07</td>\n",
       "    </tr>\n",
       "  </tbody>\n",
       "</table>\n",
       "<p>2 rows × 37 columns</p>\n",
       "</div>"
      ],
      "text/plain": [
       "   PET 총량    월평균_총생활인구수       연령대0_평균      연령대10_평균      연령대20_평균  \\\n",
       "0  2680.0  5.892936e+08  3.542718e+07  5.912810e+07  9.170488e+07   \n",
       "1  2886.3  3.672376e+08  2.948711e+07  3.649162e+07  4.277418e+07   \n",
       "\n",
       "       연령대30_평균      연령대40_평균      연령대50_평균      연령대60_평균    연령대70이상_평균  ...  \\\n",
       "0  1.144680e+08  1.135606e+08  7.744400e+07  5.143368e+07  4.612720e+07  ...   \n",
       "1  5.701898e+07  6.077971e+07  5.486420e+07  4.517363e+07  4.064814e+07  ...   \n",
       "\n",
       "   연령대_90_거주인구수  유흥주점영업    단란주점   제과점영업   집단급식소     일반음식점    휴게음식점  \\\n",
       "0   2105.083333  2782.0  3645.0  6117.0  5555.0  165890.0  50825.0   \n",
       "1   1619.916667  1606.0  1097.0  1855.0  3263.0   47030.0  13467.0   \n",
       "\n",
       "      2030_거주인구수     3060_거주인구수    2060_생활인구수  \n",
       "0  147280.083333  134120.916667  1.431386e+08  \n",
       "1  115867.750000  119676.333333  8.794781e+07  \n",
       "\n",
       "[2 rows x 37 columns]"
      ]
     },
     "execution_count": 6,
     "metadata": {},
     "output_type": "execute_result"
    }
   ],
   "source": [
    "df['3060_거주인구수']=df['연령대_30_거주인구수'] + df['연령대_60_거주인구수']\n",
    "df['2060_생활인구수']=df['연령대20_평균'] + df['연령대60_평균']\n",
    "df.head(2)"
   ]
  },
  {
   "cell_type": "code",
   "execution_count": 7,
   "id": "d2488b91-fa9a-436a-90e8-377cd8fb98de",
   "metadata": {
    "scrolled": true
   },
   "outputs": [
    {
     "data": {
      "image/png": "[encoded data removed]",
      "text/plain": [
       "<Figure size 1000x600 with 1 Axes>"
      ]
     },
     "metadata": {},
     "output_type": "display_data"
    },
    {
     "data": {
      "application/vnd.plotly.v1+json": {
       "config": {
        "plotlyServerURL": "https://plot.ly"
       },
       "data": [
        {
         "hovertemplate": "n_estimators=%{x}<br>Score=%{y}<extra></extra>",
         "legendgroup": "",
         "line": {
          "color": "#636efa",
          "dash": "solid"
         },
         "marker": {
          "symbol": "circle"
         },
         "mode": "lines+markers",
         "name": "",
         "orientation": "h",
         "showlegend": false,
         "type": "scatter",
         "x": [
          1,
          2,
          3,
          4,
          5,
          6,
          7,
          8,
          9,
          10,
          11,
          12,
          13,
          14,
          15,
          16,
          17,
          18,
          19,
          20,
          21,
          22,
          23,
          24,
          25
         ],
         "xaxis": "x",
         "y": [
          0,
          1,
          2,
          3,
          4,
          5,
          6,
          7,
          8,
          9,
          10,
          11,
          12,
          13,
          14,
          15,
          16,
          17,
          18,
          19,
          20,
          21,
          22,
          23,
          24
         ],
         "yaxis": "y"
        },
        {
         "mode": "lines+markers",
         "name": "Train Data MAE",
         "type": "scatter",
         "x": [
          1,
          2,
          3,
          4,
          5,
          6,
          7,
          8,
          9,
          10,
          11,
          12,
          13,
          14,
          15,
          16,
          17,
          18,
          19,
          20,
          21,
          22,
          23,
          24,
          25
         ],
         "y": [
          271.43636363636375,
          212.20909090909092,
          190.69090909090912,
          194.17613636363637,
          174.9836363636364,
          177.11287878787877,
          159.24480519480522,
          155.5164772727273,
          152.18585858585857,
          156.95863636363634,
          165.68140495867763,
          172.09015151515152,
          174.8143356643356,
          162.39967532467531,
          165.919696969697,
          162.32073863636361,
          157.34171122994655,
          158.44848484848487,
          158.08277511961725,
          156.27068181818183,
          152.19264069264065,
          152.73987603305784,
          155.4215415019763,
          153.42935606060607,
          152.54490909090907
         ]
        },
        {
         "mode": "lines+markers",
         "name": "Test Data MAE",
         "type": "scatter",
         "x": [
          1,
          2,
          3,
          4,
          5,
          6,
          7,
          8,
          9,
          10,
          11,
          12,
          13,
          14,
          15,
          16,
          17,
          18,
          19,
          20,
          21,
          22,
          23,
          24,
          25
         ],
         "y": [
          461.2666666666665,
          128.11666666666648,
          168.2444444444443,
          215.2833333333333,
          238.38,
          291.69444444444446,
          289.6714285714286,
          243.48333333333343,
          237.6851851851853,
          213.2566666666668,
          199.3181818181819,
          171.24722222222235,
          171.66666666666683,
          167.0523809523811,
          165.93111111111125,
          176.98958333333348,
          173.8098039215688,
          173.651851851852,
          162.34561403508783,
          154.09333333333348,
          155.17619047619056,
          141.94848484848498,
          165.0188405797102,
          145.21944444444452,
          164.2586666666666
         ]
        },
        {
         "mode": "lines+markers",
         "name": "RMSE",
         "type": "scatter",
         "x": [
          1,
          2,
          3,
          4,
          5,
          6,
          7,
          8,
          9,
          10,
          11,
          12,
          13,
          14,
          15,
          16,
          17,
          18,
          19,
          20,
          21,
          22,
          23,
          24,
          25
         ],
         "y": [
          612.2225630166423,
          169.0293934004772,
          201.55922022884286,
          243.92944249652734,
          252.25673562199813,
          307.58220867370176,
          303.45842389693786,
          270.55894786688054,
          255.687620384928,
          245.58642694579044,
          241.2210662076785,
          205.99964699043846,
          210.44935946542662,
          207.65777715984072,
          209.77759104276078,
          211.1753299060702,
          213.54591307168454,
          221.43309168832533,
          207.71407586636843,
          205.93300233328327,
          204.92756891985363,
          186.62553914055866,
          200.32107553082727,
          190.00837588141374,
          198.99087724482916
         ]
        }
       ],
       "layout": {
        "height": 800,
        "legend": {
         "tracegroupgap": 0
        },
        "template": {
         "data": {
          "bar": [
           {
            "error_x": {
             "color": "#2a3f5f"
            },
            "error_y": {
             "color": "#2a3f5f"
            },
            "marker": {
             "line": {
              "color": "#E5ECF6",
              "width": 0.5
             },
             "pattern": {
              "fillmode": "overlay",
              "size": 10,
              "solidity": 0.2
             }
            },
            "type": "bar"
           }
          ],
          "barpolar": [
           {
            "marker": {
             "line": {
              "color": "#E5ECF6",
              "width": 0.5
             },
             "pattern": {
              "fillmode": "overlay",
              "size": 10,
              "solidity": 0.2
             }
            },
            "type": "barpolar"
           }
          ],
          "carpet": [
           {
            "aaxis": {
             "endlinecolor": "#2a3f5f",
             "gridcolor": "white",
             "linecolor": "white",
             "minorgridcolor": "white",
             "startlinecolor": "#2a3f5f"
            },
            "baxis": {
             "endlinecolor": "#2a3f5f",
             "gridcolor": "white",
             "linecolor": "white",
             "minorgridcolor": "white",
             "startlinecolor": "#2a3f5f"
            },
            "type": "carpet"
           }
          ],
          "choropleth": [
           {
            "colorbar": {
             "outlinewidth": 0,
             "ticks": ""
            },
            "type": "choropleth"
           }
          ],
          "contour": [
           {
            "colorbar": {
             "outlinewidth": 0,
             "ticks": ""
            },
            "colorscale": [
             [
              0,
              "#0d0887"
             ],
             [
              0.1111111111111111,
              "#46039f"
             ],
             [
              0.2222222222222222,
              "#7201a8"
             ],
             [
              0.3333333333333333,
              "#9c179e"
             ],
             [
              0.4444444444444444,
              "#bd3786"
             ],
             [
              0.5555555555555556,
              "#d8576b"
             ],
             [
              0.6666666666666666,
              "#ed7953"
             ],
             [
              0.7777777777777778,
              "#fb9f3a"
             ],
             [
              0.8888888888888888,
              "#fdca26"
             ],
             [
              1,
              "#f0f921"
             ]
            ],
            "type": "contour"
           }
          ],
          "contourcarpet": [
           {
            "colorbar": {
             "outlinewidth": 0,
             "ticks": ""
            },
            "type": "contourcarpet"
           }
          ],
          "heatmap": [
           {
            "colorbar": {
             "outlinewidth": 0,
             "ticks": ""
            },
            "colorscale": [
             [
              0,
              "#0d0887"
             ],
             [
              0.1111111111111111,
              "#46039f"
             ],
             [
              0.2222222222222222,
              "#7201a8"
             ],
             [
              0.3333333333333333,
              "#9c179e"
             ],
             [
              0.4444444444444444,
              "#bd3786"
             ],
             [
              0.5555555555555556,
              "#d8576b"
             ],
             [
              0.6666666666666666,
              "#ed7953"
             ],
             [
              0.7777777777777778,
              "#fb9f3a"
             ],
             [
              0.8888888888888888,
              "#fdca26"
             ],
             [
              1,
              "#f0f921"
             ]
            ],
            "type": "heatmap"
           }
          ],
          "heatmapgl": [
           {
            "colorbar": {
             "outlinewidth": 0,
             "ticks": ""
            },
            "colorscale": [
             [
              0,
              "#0d0887"
             ],
             [
              0.1111111111111111,
              "#46039f"
             ],
             [
              0.2222222222222222,
              "#7201a8"
             ],
             [
              0.3333333333333333,
              "#9c179e"
             ],
             [
              0.4444444444444444,
              "#bd3786"
             ],
             [
              0.5555555555555556,
              "#d8576b"
             ],
             [
              0.6666666666666666,
              "#ed7953"
             ],
             [
              0.7777777777777778,
              "#fb9f3a"
             ],
             [
              0.8888888888888888,
              "#fdca26"
             ],
             [
              1,
              "#f0f921"
             ]
            ],
            "type": "heatmapgl"
           }
          ],
          "histogram": [
           {
            "marker": {
             "pattern": {
              "fillmode": "overlay",
              "size": 10,
              "solidity": 0.2
             }
            },
            "type": "histogram"
           }
          ],
          "histogram2d": [
           {
            "colorbar": {
             "outlinewidth": 0,
             "ticks": ""
            },
            "colorscale": [
             [
              0,
              "#0d0887"
             ],
             [
              0.1111111111111111,
              "#46039f"
             ],
             [
              0.2222222222222222,
              "#7201a8"
             ],
             [
              0.3333333333333333,
              "#9c179e"
             ],
             [
              0.4444444444444444,
              "#bd3786"
             ],
             [
              0.5555555555555556,
              "#d8576b"
             ],
             [
              0.6666666666666666,
              "#ed7953"
             ],
             [
              0.7777777777777778,
              "#fb9f3a"
             ],
             [
              0.8888888888888888,
              "#fdca26"
             ],
             [
              1,
              "#f0f921"
             ]
            ],
            "type": "histogram2d"
           }
          ],
          "histogram2dcontour": [
           {
            "colorbar": {
             "outlinewidth": 0,
             "ticks": ""
            },
            "colorscale": [
             [
              0,
              "#0d0887"
             ],
             [
              0.1111111111111111,
              "#46039f"
             ],
             [
              0.2222222222222222,
              "#7201a8"
             ],
             [
              0.3333333333333333,
              "#9c179e"
             ],
             [
              0.4444444444444444,
              "#bd3786"
             ],
             [
              0.5555555555555556,
              "#d8576b"
             ],
             [
              0.6666666666666666,
              "#ed7953"
             ],
             [
              0.7777777777777778,
              "#fb9f3a"
             ],
             [
              0.8888888888888888,
              "#fdca26"
             ],
             [
              1,
              "#f0f921"
             ]
            ],
            "type": "histogram2dcontour"
           }
          ],
          "mesh3d": [
           {
            "colorbar": {
             "outlinewidth": 0,
             "ticks": ""
            },
            "type": "mesh3d"
           }
          ],
          "parcoords": [
           {
            "line": {
             "colorbar": {
              "outlinewidth": 0,
              "ticks": ""
             }
            },
            "type": "parcoords"
           }
          ],
          "pie": [
           {
            "automargin": true,
            "type": "pie"
           }
          ],
          "scatter": [
           {
            "fillpattern": {
             "fillmode": "overlay",
             "size": 10,
             "solidity": 0.2
            },
            "type": "scatter"
           }
          ],
          "scatter3d": [
           {
            "line": {
             "colorbar": {
              "outlinewidth": 0,
              "ticks": ""
             }
            },
            "marker": {
             "colorbar": {
              "outlinewidth": 0,
              "ticks": ""
             }
            },
            "type": "scatter3d"
           }
          ],
          "scattercarpet": [
           {
            "marker": {
             "colorbar": {
              "outlinewidth": 0,
              "ticks": ""
             }
            },
            "type": "scattercarpet"
           }
          ],
          "scattergeo": [
           {
            "marker": {
             "colorbar": {
              "outlinewidth": 0,
              "ticks": ""
             }
            },
            "type": "scattergeo"
           }
          ],
          "scattergl": [
           {
            "marker": {
             "colorbar": {
              "outlinewidth": 0,
              "ticks": ""
             }
            },
            "type": "scattergl"
           }
          ],
          "scattermapbox": [
           {
            "marker": {
             "colorbar": {
              "outlinewidth": 0,
              "ticks": ""
             }
            },
            "type": "scattermapbox"
           }
          ],
          "scatterpolar": [
           {
            "marker": {
             "colorbar": {
              "outlinewidth": 0,
              "ticks": ""
             }
            },
            "type": "scatterpolar"
           }
          ],
          "scatterpolargl": [
           {
            "marker": {
             "colorbar": {
              "outlinewidth": 0,
              "ticks": ""
             }
            },
            "type": "scatterpolargl"
           }
          ],
          "scatterternary": [
           {
            "marker": {
             "colorbar": {
              "outlinewidth": 0,
              "ticks": ""
             }
            },
            "type": "scatterternary"
           }
          ],
          "surface": [
           {
            "colorbar": {
             "outlinewidth": 0,
             "ticks": ""
            },
            "colorscale": [
             [
              0,
              "#0d0887"
             ],
             [
              0.1111111111111111,
              "#46039f"
             ],
             [
              0.2222222222222222,
              "#7201a8"
             ],
             [
              0.3333333333333333,
              "#9c179e"
             ],
             [
              0.4444444444444444,
              "#bd3786"
             ],
             [
              0.5555555555555556,
              "#d8576b"
             ],
             [
              0.6666666666666666,
              "#ed7953"
             ],
             [
              0.7777777777777778,
              "#fb9f3a"
             ],
             [
              0.8888888888888888,
              "#fdca26"
             ],
             [
              1,
              "#f0f921"
             ]
            ],
            "type": "surface"
           }
          ],
          "table": [
           {
            "cells": {
             "fill": {
              "color": "#EBF0F8"
             },
             "line": {
              "color": "white"
             }
            },
            "header": {
             "fill": {
              "color": "#C8D4E3"
             },
             "line": {
              "color": "white"
             }
            },
            "type": "table"
           }
          ]
         },
         "layout": {
          "annotationdefaults": {
           "arrowcolor": "#2a3f5f",
           "arrowhead": 0,
           "arrowwidth": 1
          },
          "autotypenumbers": "strict",
          "coloraxis": {
           "colorbar": {
            "outlinewidth": 0,
            "ticks": ""
           }
          },
          "colorscale": {
           "diverging": [
            [
             0,
             "#8e0152"
            ],
            [
             0.1,
             "#c51b7d"
            ],
            [
             0.2,
             "#de77ae"
            ],
            [
             0.3,
             "#f1b6da"
            ],
            [
             0.4,
             "#fde0ef"
            ],
            [
             0.5,
             "#f7f7f7"
            ],
            [
             0.6,
             "#e6f5d0"
            ],
            [
             0.7,
             "#b8e186"
            ],
            [
             0.8,
             "#7fbc41"
            ],
            [
             0.9,
             "#4d9221"
            ],
            [
             1,
             "#276419"
            ]
           ],
           "sequential": [
            [
             0,
             "#0d0887"
            ],
            [
             0.1111111111111111,
             "#46039f"
            ],
            [
             0.2222222222222222,
             "#7201a8"
            ],
            [
             0.3333333333333333,
             "#9c179e"
            ],
            [
             0.4444444444444444,
             "#bd3786"
            ],
            [
             0.5555555555555556,
             "#d8576b"
            ],
            [
             0.6666666666666666,
             "#ed7953"
            ],
            [
             0.7777777777777778,
             "#fb9f3a"
            ],
            [
             0.8888888888888888,
             "#fdca26"
            ],
            [
             1,
             "#f0f921"
            ]
           ],
           "sequentialminus": [
            [
             0,
             "#0d0887"
            ],
            [
             0.1111111111111111,
             "#46039f"
            ],
            [
             0.2222222222222222,
             "#7201a8"
            ],
            [
             0.3333333333333333,
             "#9c179e"
            ],
            [
             0.4444444444444444,
             "#bd3786"
            ],
            [
             0.5555555555555556,
             "#d8576b"
            ],
            [
             0.6666666666666666,
             "#ed7953"
            ],
            [
             0.7777777777777778,
             "#fb9f3a"
            ],
            [
             0.8888888888888888,
             "#fdca26"
            ],
            [
             1,
             "#f0f921"
            ]
           ]
          },
          "colorway": [
           "#636efa",
           "#EF553B",
           "#00cc96",
           "#ab63fa",
           "#FFA15A",
           "#19d3f3",
           "#FF6692",
           "#B6E880",
           "#FF97FF",
           "#FECB52"
          ],
          "font": {
           "color": "#2a3f5f"
          },
          "geo": {
           "bgcolor": "white",
           "lakecolor": "white",
           "landcolor": "#E5ECF6",
           "showlakes": true,
           "showland": true,
           "subunitcolor": "white"
          },
          "hoverlabel": {
           "align": "left"
          },
          "hovermode": "closest",
          "mapbox": {
           "style": "light"
          },
          "paper_bgcolor": "white",
          "plot_bgcolor": "#E5ECF6",
          "polar": {
           "angularaxis": {
            "gridcolor": "white",
            "linecolor": "white",
            "ticks": ""
           },
           "bgcolor": "#E5ECF6",
           "radialaxis": {
            "gridcolor": "white",
            "linecolor": "white",
            "ticks": ""
           }
          },
          "scene": {
           "xaxis": {
            "backgroundcolor": "#E5ECF6",
            "gridcolor": "white",
            "gridwidth": 2,
            "linecolor": "white",
            "showbackground": true,
            "ticks": "",
            "zerolinecolor": "white"
           },
           "yaxis": {
            "backgroundcolor": "#E5ECF6",
            "gridcolor": "white",
            "gridwidth": 2,
            "linecolor": "white",
            "showbackground": true,
            "ticks": "",
            "zerolinecolor": "white"
           },
           "zaxis": {
            "backgroundcolor": "#E5ECF6",
            "gridcolor": "white",
            "gridwidth": 2,
            "linecolor": "white",
            "showbackground": true,
            "ticks": "",
            "zerolinecolor": "white"
           }
          },
          "shapedefaults": {
           "line": {
            "color": "#2a3f5f"
           }
          },
          "ternary": {
           "aaxis": {
            "gridcolor": "white",
            "linecolor": "white",
            "ticks": ""
           },
           "baxis": {
            "gridcolor": "white",
            "linecolor": "white",
            "ticks": ""
           },
           "bgcolor": "#E5ECF6",
           "caxis": {
            "gridcolor": "white",
            "linecolor": "white",
            "ticks": ""
           }
          },
          "title": {
           "x": 0.05
          },
          "xaxis": {
           "automargin": true,
           "gridcolor": "white",
           "linecolor": "white",
           "ticks": "",
           "title": {
            "standoff": 15
           },
           "zerolinecolor": "white",
           "zerolinewidth": 2
          },
          "yaxis": {
           "automargin": true,
           "gridcolor": "white",
           "linecolor": "white",
           "ticks": "",
           "title": {
            "standoff": 15
           },
           "zerolinecolor": "white",
           "zerolinewidth": 2
          }
         }
        },
        "title": {
         "text": "Score vs n_estimators"
        },
        "width": 1200,
        "xaxis": {
         "anchor": "y",
         "autorange": true,
         "domain": [
          0,
          1
         ],
         "range": [
          -0.4513274336283186,
          26.451327433628318
         ],
         "title": {
          "text": "n_estimators"
         },
         "type": "linear"
        },
        "yaxis": {
         "anchor": "x",
         "autorange": true,
         "domain": [
          0,
          1
         ],
         "range": [
          -38.64620175264,
          650.8687647692823
         ],
         "title": {
          "text": "Score"
         },
         "type": "linear"
        }
       }
      },
      "text/html": [
       "<div>                            <div id=\"9e576d11-4e0d-4734-87f4-108084acee9b\" class=\"plotly-graph-div\" style=\"height:800px; width:1200px;\"></div>            <script type=\"text/javascript\">                require([\"plotly\"], function(Plotly) {                    window.PLOTLYENV=window.PLOTLYENV || {};                                    if (document.getElementById(\"9e576d11-4e0d-4734-87f4-108084acee9b\")) {                    Plotly.newPlot(                        \"9e576d11-4e0d-4734-87f4-108084acee9b\",                        [{\"hovertemplate\":\"n_estimators=%{x}<br>Score=%{y}<extra></extra>\",\"legendgroup\":\"\",\"line\":{\"color\":\"#636efa\",\"dash\":\"solid\"},\"marker\":{\"symbol\":\"circle\"},\"mode\":\"lines+markers\",\"name\":\"\",\"orientation\":\"h\",\"showlegend\":false,\"x\":[1,2,3,4,5,6,7,8,9,10,11,12,13,14,15,16,17,18,19,20,21,22,23,24,25],\"xaxis\":\"x\",\"y\":[0,1,2,3,4,5,6,7,8,9,10,11,12,13,14,15,16,17,18,19,20,21,22,23,24],\"yaxis\":\"y\",\"type\":\"scatter\"},{\"mode\":\"lines+markers\",\"name\":\"Train Data MAE\",\"x\":[1,2,3,4,5,6,7,8,9,10,11,12,13,14,15,16,17,18,19,20,21,22,23,24,25],\"y\":[271.43636363636375,212.20909090909092,190.69090909090912,194.17613636363637,174.9836363636364,177.11287878787877,159.24480519480522,155.5164772727273,152.18585858585857,156.95863636363634,165.68140495867763,172.09015151515152,174.8143356643356,162.39967532467531,165.919696969697,162.32073863636361,157.34171122994655,158.44848484848487,158.08277511961725,156.27068181818183,152.19264069264065,152.73987603305784,155.4215415019763,153.42935606060607,152.54490909090907],\"type\":\"scatter\"},{\"mode\":\"lines+markers\",\"name\":\"Test Data MAE\",\"x\":[1,2,3,4,5,6,7,8,9,10,11,12,13,14,15,16,17,18,19,20,21,22,23,24,25],\"y\":[461.2666666666665,128.11666666666648,168.2444444444443,215.2833333333333,238.38,291.69444444444446,289.6714285714286,243.48333333333343,237.6851851851853,213.2566666666668,199.3181818181819,171.24722222222235,171.66666666666683,167.0523809523811,165.93111111111125,176.98958333333348,173.8098039215688,173.651851851852,162.34561403508783,154.09333333333348,155.17619047619056,141.94848484848498,165.0188405797102,145.21944444444452,164.2586666666666],\"type\":\"scatter\"},{\"mode\":\"lines+markers\",\"name\":\"RMSE\",\"x\":[1,2,3,4,5,6,7,8,9,10,11,12,13,14,15,16,17,18,19,20,21,22,23,24,25],\"y\":[612.2225630166423,169.0293934004772,201.55922022884286,243.92944249652734,252.25673562199813,307.58220867370176,303.45842389693786,270.55894786688054,255.687620384928,245.58642694579044,241.2210662076785,205.99964699043846,210.44935946542662,207.65777715984072,209.77759104276078,211.1753299060702,213.54591307168454,221.43309168832533,207.71407586636843,205.93300233328327,204.92756891985363,186.62553914055866,200.32107553082727,190.00837588141374,198.99087724482916],\"type\":\"scatter\"}],                        {\"template\":{\"data\":{\"histogram2dcontour\":[{\"type\":\"histogram2dcontour\",\"colorbar\":{\"outlinewidth\":0,\"ticks\":\"\"},\"colorscale\":[[0.0,\"#0d0887\"],[0.1111111111111111,\"#46039f\"],[0.2222222222222222,\"#7201a8\"],[0.3333333333333333,\"#9c179e\"],[0.4444444444444444,\"#bd3786\"],[0.5555555555555556,\"#d8576b\"],[0.6666666666666666,\"#ed7953\"],[0.7777777777777778,\"#fb9f3a\"],[0.8888888888888888,\"#fdca26\"],[1.0,\"#f0f921\"]]}],\"choropleth\":[{\"type\":\"choropleth\",\"colorbar\":{\"outlinewidth\":0,\"ticks\":\"\"}}],\"histogram2d\":[{\"type\":\"histogram2d\",\"colorbar\":{\"outlinewidth\":0,\"ticks\":\"\"},\"colorscale\":[[0.0,\"#0d0887\"],[0.1111111111111111,\"#46039f\"],[0.2222222222222222,\"#7201a8\"],[0.3333333333333333,\"#9c179e\"],[0.4444444444444444,\"#bd3786\"],[0.5555555555555556,\"#d8576b\"],[0.6666666666666666,\"#ed7953\"],[0.7777777777777778,\"#fb9f3a\"],[0.8888888888888888,\"#fdca26\"],[1.0,\"#f0f921\"]]}],\"heatmap\":[{\"type\":\"heatmap\",\"colorbar\":{\"outlinewidth\":0,\"ticks\":\"\"},\"colorscale\":[[0.0,\"#0d0887\"],[0.1111111111111111,\"#46039f\"],[0.2222222222222222,\"#7201a8\"],[0.3333333333333333,\"#9c179e\"],[0.4444444444444444,\"#bd3786\"],[0.5555555555555556,\"#d8576b\"],[0.6666666666666666,\"#ed7953\"],[0.7777777777777778,\"#fb9f3a\"],[0.8888888888888888,\"#fdca26\"],[1.0,\"#f0f921\"]]}],\"heatmapgl\":[{\"type\":\"heatmapgl\",\"colorbar\":{\"outlinewidth\":0,\"ticks\":\"\"},\"colorscale\":[[0.0,\"#0d0887\"],[0.1111111111111111,\"#46039f\"],[0.2222222222222222,\"#7201a8\"],[0.3333333333333333,\"#9c179e\"],[0.4444444444444444,\"#bd3786\"],[0.5555555555555556,\"#d8576b\"],[0.6666666666666666,\"#ed7953\"],[0.7777777777777778,\"#fb9f3a\"],[0.8888888888888888,\"#fdca26\"],[1.0,\"#f0f921\"]]}],\"contourcarpet\":[{\"type\":\"contourcarpet\",\"colorbar\":{\"outlinewidth\":0,\"ticks\":\"\"}}],\"contour\":[{\"type\":\"contour\",\"colorbar\":{\"outlinewidth\":0,\"ticks\":\"\"},\"colorscale\":[[0.0,\"#0d0887\"],[0.1111111111111111,\"#46039f\"],[0.2222222222222222,\"#7201a8\"],[0.3333333333333333,\"#9c179e\"],[0.4444444444444444,\"#bd3786\"],[0.5555555555555556,\"#d8576b\"],[0.6666666666666666,\"#ed7953\"],[0.7777777777777778,\"#fb9f3a\"],[0.8888888888888888,\"#fdca26\"],[1.0,\"#f0f921\"]]}],\"surface\":[{\"type\":\"surface\",\"colorbar\":{\"outlinewidth\":0,\"ticks\":\"\"},\"colorscale\":[[0.0,\"#0d0887\"],[0.1111111111111111,\"#46039f\"],[0.2222222222222222,\"#7201a8\"],[0.3333333333333333,\"#9c179e\"],[0.4444444444444444,\"#bd3786\"],[0.5555555555555556,\"#d8576b\"],[0.6666666666666666,\"#ed7953\"],[0.7777777777777778,\"#fb9f3a\"],[0.8888888888888888,\"#fdca26\"],[1.0,\"#f0f921\"]]}],\"mesh3d\":[{\"type\":\"mesh3d\",\"colorbar\":{\"outlinewidth\":0,\"ticks\":\"\"}}],\"scatter\":[{\"fillpattern\":{\"fillmode\":\"overlay\",\"size\":10,\"solidity\":0.2},\"type\":\"scatter\"}],\"parcoords\":[{\"type\":\"parcoords\",\"line\":{\"colorbar\":{\"outlinewidth\":0,\"ticks\":\"\"}}}],\"scatterpolargl\":[{\"type\":\"scatterpolargl\",\"marker\":{\"colorbar\":{\"outlinewidth\":0,\"ticks\":\"\"}}}],\"bar\":[{\"error_x\":{\"color\":\"#2a3f5f\"},\"error_y\":{\"color\":\"#2a3f5f\"},\"marker\":{\"line\":{\"color\":\"#E5ECF6\",\"width\":0.5},\"pattern\":{\"fillmode\":\"overlay\",\"size\":10,\"solidity\":0.2}},\"type\":\"bar\"}],\"scattergeo\":[{\"type\":\"scattergeo\",\"marker\":{\"colorbar\":{\"outlinewidth\":0,\"ticks\":\"\"}}}],\"scatterpolar\":[{\"type\":\"scatterpolar\",\"marker\":{\"colorbar\":{\"outlinewidth\":0,\"ticks\":\"\"}}}],\"histogram\":[{\"marker\":{\"pattern\":{\"fillmode\":\"overlay\",\"size\":10,\"solidity\":0.2}},\"type\":\"histogram\"}],\"scattergl\":[{\"type\":\"scattergl\",\"marker\":{\"colorbar\":{\"outlinewidth\":0,\"ticks\":\"\"}}}],\"scatter3d\":[{\"type\":\"scatter3d\",\"line\":{\"colorbar\":{\"outlinewidth\":0,\"ticks\":\"\"}},\"marker\":{\"colorbar\":{\"outlinewidth\":0,\"ticks\":\"\"}}}],\"scattermapbox\":[{\"type\":\"scattermapbox\",\"marker\":{\"colorbar\":{\"outlinewidth\":0,\"ticks\":\"\"}}}],\"scatterternary\":[{\"type\":\"scatterternary\",\"marker\":{\"colorbar\":{\"outlinewidth\":0,\"ticks\":\"\"}}}],\"scattercarpet\":[{\"type\":\"scattercarpet\",\"marker\":{\"colorbar\":{\"outlinewidth\":0,\"ticks\":\"\"}}}],\"carpet\":[{\"aaxis\":{\"endlinecolor\":\"#2a3f5f\",\"gridcolor\":\"white\",\"linecolor\":\"white\",\"minorgridcolor\":\"white\",\"startlinecolor\":\"#2a3f5f\"},\"baxis\":{\"endlinecolor\":\"#2a3f5f\",\"gridcolor\":\"white\",\"linecolor\":\"white\",\"minorgridcolor\":\"white\",\"startlinecolor\":\"#2a3f5f\"},\"type\":\"carpet\"}],\"table\":[{\"cells\":{\"fill\":{\"color\":\"#EBF0F8\"},\"line\":{\"color\":\"white\"}},\"header\":{\"fill\":{\"color\":\"#C8D4E3\"},\"line\":{\"color\":\"white\"}},\"type\":\"table\"}],\"barpolar\":[{\"marker\":{\"line\":{\"color\":\"#E5ECF6\",\"width\":0.5},\"pattern\":{\"fillmode\":\"overlay\",\"size\":10,\"solidity\":0.2}},\"type\":\"barpolar\"}],\"pie\":[{\"automargin\":true,\"type\":\"pie\"}]},\"layout\":{\"autotypenumbers\":\"strict\",\"colorway\":[\"#636efa\",\"#EF553B\",\"#00cc96\",\"#ab63fa\",\"#FFA15A\",\"#19d3f3\",\"#FF6692\",\"#B6E880\",\"#FF97FF\",\"#FECB52\"],\"font\":{\"color\":\"#2a3f5f\"},\"hovermode\":\"closest\",\"hoverlabel\":{\"align\":\"left\"},\"paper_bgcolor\":\"white\",\"plot_bgcolor\":\"#E5ECF6\",\"polar\":{\"bgcolor\":\"#E5ECF6\",\"angularaxis\":{\"gridcolor\":\"white\",\"linecolor\":\"white\",\"ticks\":\"\"},\"radialaxis\":{\"gridcolor\":\"white\",\"linecolor\":\"white\",\"ticks\":\"\"}},\"ternary\":{\"bgcolor\":\"#E5ECF6\",\"aaxis\":{\"gridcolor\":\"white\",\"linecolor\":\"white\",\"ticks\":\"\"},\"baxis\":{\"gridcolor\":\"white\",\"linecolor\":\"white\",\"ticks\":\"\"},\"caxis\":{\"gridcolor\":\"white\",\"linecolor\":\"white\",\"ticks\":\"\"}},\"coloraxis\":{\"colorbar\":{\"outlinewidth\":0,\"ticks\":\"\"}},\"colorscale\":{\"sequential\":[[0.0,\"#0d0887\"],[0.1111111111111111,\"#46039f\"],[0.2222222222222222,\"#7201a8\"],[0.3333333333333333,\"#9c179e\"],[0.4444444444444444,\"#bd3786\"],[0.5555555555555556,\"#d8576b\"],[0.6666666666666666,\"#ed7953\"],[0.7777777777777778,\"#fb9f3a\"],[0.8888888888888888,\"#fdca26\"],[1.0,\"#f0f921\"]],\"sequentialminus\":[[0.0,\"#0d0887\"],[0.1111111111111111,\"#46039f\"],[0.2222222222222222,\"#7201a8\"],[0.3333333333333333,\"#9c179e\"],[0.4444444444444444,\"#bd3786\"],[0.5555555555555556,\"#d8576b\"],[0.6666666666666666,\"#ed7953\"],[0.7777777777777778,\"#fb9f3a\"],[0.8888888888888888,\"#fdca26\"],[1.0,\"#f0f921\"]],\"diverging\":[[0,\"#8e0152\"],[0.1,\"#c51b7d\"],[0.2,\"#de77ae\"],[0.3,\"#f1b6da\"],[0.4,\"#fde0ef\"],[0.5,\"#f7f7f7\"],[0.6,\"#e6f5d0\"],[0.7,\"#b8e186\"],[0.8,\"#7fbc41\"],[0.9,\"#4d9221\"],[1,\"#276419\"]]},\"xaxis\":{\"gridcolor\":\"white\",\"linecolor\":\"white\",\"ticks\":\"\",\"title\":{\"standoff\":15},\"zerolinecolor\":\"white\",\"automargin\":true,\"zerolinewidth\":2},\"yaxis\":{\"gridcolor\":\"white\",\"linecolor\":\"white\",\"ticks\":\"\",\"title\":{\"standoff\":15},\"zerolinecolor\":\"white\",\"automargin\":true,\"zerolinewidth\":2},\"scene\":{\"xaxis\":{\"backgroundcolor\":\"#E5ECF6\",\"gridcolor\":\"white\",\"linecolor\":\"white\",\"showbackground\":true,\"ticks\":\"\",\"zerolinecolor\":\"white\",\"gridwidth\":2},\"yaxis\":{\"backgroundcolor\":\"#E5ECF6\",\"gridcolor\":\"white\",\"linecolor\":\"white\",\"showbackground\":true,\"ticks\":\"\",\"zerolinecolor\":\"white\",\"gridwidth\":2},\"zaxis\":{\"backgroundcolor\":\"#E5ECF6\",\"gridcolor\":\"white\",\"linecolor\":\"white\",\"showbackground\":true,\"ticks\":\"\",\"zerolinecolor\":\"white\",\"gridwidth\":2}},\"shapedefaults\":{\"line\":{\"color\":\"#2a3f5f\"}},\"annotationdefaults\":{\"arrowcolor\":\"#2a3f5f\",\"arrowhead\":0,\"arrowwidth\":1},\"geo\":{\"bgcolor\":\"white\",\"landcolor\":\"#E5ECF6\",\"subunitcolor\":\"white\",\"showland\":true,\"showlakes\":true,\"lakecolor\":\"white\"},\"title\":{\"x\":0.05},\"mapbox\":{\"style\":\"light\"}}},\"xaxis\":{\"anchor\":\"y\",\"domain\":[0.0,1.0],\"title\":{\"text\":\"n_estimators\"}},\"yaxis\":{\"anchor\":\"x\",\"domain\":[0.0,1.0],\"title\":{\"text\":\"Score\"}},\"legend\":{\"tracegroupgap\":0},\"title\":{\"text\":\"Score vs n_estimators\"},\"height\":800,\"width\":1200},                        {\"responsive\": true}                    ).then(function(){\n",
       "                            \n",
       "var gd = document.getElementById('9e576d11-4e0d-4734-87f4-108084acee9b');\n",
       "var x = new MutationObserver(function (mutations, observer) {{\n",
       "        var display = window.getComputedStyle(gd).display;\n",
       "        if (!display || display === 'none') {{\n",
       "            console.log([gd, 'removed!']);\n",
       "            Plotly.purge(gd);\n",
       "            observer.disconnect();\n",
       "        }}\n",
       "}});\n",
       "\n",
       "// Listen for the removal of the full notebook cells\n",
       "var notebookContainer = gd.closest('#notebook-container');\n",
       "if (notebookContainer) {{\n",
       "    x.observe(notebookContainer, {childList: true});\n",
       "}}\n",
       "\n",
       "// Listen for the clearing of the current output cell\n",
       "var outputEl = gd.closest('.output');\n",
       "if (outputEl) {{\n",
       "    x.observe(outputEl, {childList: true});\n",
       "}}\n",
       "\n",
       "                        })                };                });            </script>        </div>"
      ]
     },
     "metadata": {},
     "output_type": "display_data"
    },
    {
     "name": "stdout",
     "output_type": "stream",
     "text": [
      "최적 n_estimators: 2\n",
      "최적 MAE: 128.11666666666648\n",
      "최적 RMSE: 169.0293934004772\n"
     ]
    }
   ],
   "source": [
    "import pandas as pd\n",
    "import numpy as np\n",
    "import matplotlib.pyplot as plt\n",
    "import plotly.express as px\n",
    "from sklearn.ensemble import RandomForestRegressor\n",
    "from sklearn.model_selection import train_test_split\n",
    "from sklearn.metrics import mean_absolute_error\n",
    "from math import sqrt\n",
    "\n",
    "y = df.iloc[:, 0]\n",
    "X = df[['3060_거주인구수', '2060_생활인구수', '1인가구']]\n",
    "\n",
    "# 데이터 분할 (random_state 설정)\n",
    "X_train, X_test, y_train, y_test = train_test_split(X, y, test_size=0.1, random_state=0)\n",
    "\n",
    "# n_estimators 범위\n",
    "n_estimators_range = list(range(1,26))\n",
    "best_n_estimators = None\n",
    "best_mae = float('inf')  # MAE 최소화\n",
    "best_rmse = float('inf')  # RMSE 최소화\n",
    "\n",
    "# n_estimators 범위 평가 및 MAE, RMSE 기록\n",
    "train_mae_scores = []  # 훈련 데이터 MAE를 기록할 리스트\n",
    "test_mae_scores = []   # 테스트 데이터 MAE를 기록할 리스트\n",
    "rmse_scores = []       # RMSE를 기록할 리스트\n",
    "\n",
    "for n_estimators in n_estimators_range:\n",
    "    model = RandomForestRegressor(n_estimators=n_estimators, max_depth=10, random_state=0)\n",
    "    model.fit(X_train, y_train)\n",
    "\n",
    "    # Train Data MAE\n",
    "    y_train_pred = model.predict(X_train)\n",
    "    train_mae = mean_absolute_error(y_train, y_train_pred)\n",
    "    train_mae_scores.append(train_mae)\n",
    "    \n",
    "    # Test Data MAE\n",
    "    y_test_pred = model.predict(X_test)\n",
    "    test_mae = mean_absolute_error(y_test, y_test_pred)\n",
    "    test_mae_scores.append(test_mae)\n",
    "\n",
    "    # RMSE 계산\n",
    "    train_rmse = sqrt(np.mean((y_train - y_train_pred) ** 2))\n",
    "    test_rmse = sqrt(np.mean((y_test - y_test_pred) ** 2))\n",
    "    rmse_scores.append(test_rmse)\n",
    "\n",
    "    # 현재의 n_estimators 값이 이전보다 더 좋으면 최적값 업데이트\n",
    "    if test_mae < best_mae:\n",
    "        best_mae = test_mae\n",
    "        best_n_estimators = n_estimators\n",
    "\n",
    "    if test_rmse < best_rmse:\n",
    "        best_rmse = test_rmse\n",
    "\n",
    "# 피처 중요도 계산\n",
    "model = RandomForestRegressor(n_estimators=best_n_estimators, max_depth=15, random_state=0)\n",
    "model.fit(X_train, y_train)\n",
    "feature_importance = model.feature_importances_\n",
    "\n",
    "# 피처 중요도를 내림차순으로 정렬\n",
    "sorted_indices = feature_importance.argsort()[::-1]\n",
    "sorted_features = X.columns[sorted_indices]\n",
    "sorted_importance = feature_importance[sorted_indices]\n",
    "\n",
    "# 피처 중요도 시각화\n",
    "fig, ax = plt.subplots(figsize=(10, 6))\n",
    "ax.barh(sorted_features, sorted_importance)\n",
    "ax.set_xlabel('Feature Importance')\n",
    "ax.set_title('Feature Importance')\n",
    "\n",
    "# 그래프 출력\n",
    "plt.show()\n",
    "\n",
    "\n",
    "# MAE, RMSE, n_estimators 관계 시각화\n",
    "fig = px.line(x=n_estimators_range, labels={'x': 'n_estimators', 'y': 'Score'}, title='Score vs n_estimators', width=1200, height=800)\n",
    "fig.add_scatter(x=n_estimators_range, y=train_mae_scores, mode='lines+markers', name='Train Data MAE')\n",
    "fig.add_scatter(x=n_estimators_range, y=test_mae_scores, mode='lines+markers', name='Test Data MAE')\n",
    "fig.add_scatter(x=n_estimators_range, y=rmse_scores, mode='lines+markers', name='RMSE')\n",
    "fig.update_traces(mode='lines+markers')\n",
    "\n",
    "# Display the figure\n",
    "fig.show()\n",
    "\n",
    "# 최적값 출력\n",
    "print(f\"최적 n_estimators: {best_n_estimators}\")\n",
    "print(f\"최적 MAE: {best_mae}\")\n",
    "print(f\"최적 RMSE: {best_rmse}\")\n"
   ]
  },
  {
   "cell_type": "code",
   "execution_count": 8,
   "id": "ee9cd41b-653e-4dc7-8cd1-5be6c07da8cd",
   "metadata": {},
   "outputs": [
    {
     "data": {
      "image/png": "[encoded data removed]",
      "text/plain": [
       "<Figure size 1000x600 with 1 Axes>"
      ]
     },
     "metadata": {},
     "output_type": "display_data"
    },
    {
     "data": {
      "application/vnd.plotly.v1+json": {
       "config": {
        "plotlyServerURL": "https://plot.ly"
       },
       "data": [
        {
         "hovertemplate": "n_estimators=%{x}<br>Score=%{y}<extra></extra>",
         "legendgroup": "",
         "line": {
          "color": "#636efa",
          "dash": "solid"
         },
         "marker": {
          "symbol": "circle"
         },
         "mode": "lines+markers",
         "name": "",
         "orientation": "h",
         "showlegend": false,
         "type": "scatter",
         "x": [
          1,
          2,
          3,
          4,
          5,
          6,
          7,
          8,
          9,
          10,
          11,
          12,
          13,
          14,
          15,
          16,
          17,
          18,
          19,
          20,
          21,
          22,
          23,
          24,
          25
         ],
         "xaxis": "x",
         "y": [
          0,
          1,
          2,
          3,
          4,
          5,
          6,
          7,
          8,
          9,
          10,
          11,
          12,
          13,
          14,
          15,
          16,
          17,
          18,
          19,
          20,
          21,
          22,
          23,
          24
         ],
         "yaxis": "y"
        },
        {
         "mode": "lines+markers",
         "name": "Train Data MAE",
         "type": "scatter",
         "x": [
          1,
          2,
          3,
          4,
          5,
          6,
          7,
          8,
          9,
          10,
          11,
          12,
          13,
          14,
          15,
          16,
          17,
          18,
          19,
          20,
          21,
          22,
          23,
          24,
          25
         ],
         "y": [
          220.1000000000001,
          186.26363636363638,
          172.83636363636367,
          181.84090909090912,
          153.36818181818185,
          161.07575757575762,
          154.79220779220788,
          156.18068181818182,
          148.09090909090912,
          142.65909090909093,
          149.00000000000003,
          147.55075757575761,
          147.70314685314688,
          142.33603896103898,
          148.10393939393944,
          143.85653409090912,
          139.8935828877006,
          137.8914141414142,
          140.48732057416268,
          138.10681818181817,
          137.55692640692638,
          135.95578512396693,
          139.14288537549402,
          141.6498106060606,
          140.26036363636356
         ]
        },
        {
         "mode": "lines+markers",
         "name": "Test Data MAE",
         "type": "scatter",
         "x": [
          1,
          2,
          3,
          4,
          5,
          6,
          7,
          8,
          9,
          10,
          11,
          12,
          13,
          14,
          15,
          16,
          17,
          18,
          19,
          20,
          21,
          22,
          23,
          24,
          25
         ],
         "y": [
          182.93333333333317,
          208.20000000000005,
          147.65555555555557,
          129.20833333333334,
          110.58666666666666,
          46.211111111111144,
          93.10952380952396,
          120.22083333333337,
          103.27407407407418,
          124.87000000000012,
          106.08484848484848,
          114.84444444444436,
          94.10512820512811,
          97.65238095238085,
          96.91111111111104,
          106.53749999999998,
          94.80980392156864,
          70.24259259259263,
          91.11052631578968,
          94.97666666666692,
          101.17936507936527,
          108.83484848484879,
          110.74347826086994,
          101.19027777777812,
          103.88000000000034
         ]
        },
        {
         "mode": "lines+markers",
         "name": "RMSE",
         "type": "scatter",
         "x": [
          1,
          2,
          3,
          4,
          5,
          6,
          7,
          8,
          9,
          10,
          11,
          12,
          13,
          14,
          15,
          16,
          17,
          18,
          19,
          20,
          21,
          22,
          23,
          24,
          25
         ],
         "y": [
          195.44854395296292,
          243.09918071985905,
          163.7535738937107,
          156.75946741744175,
          130.8216302196749,
          73.08145506264961,
          103.27604216057942,
          132.13169152875483,
          119.4640111449794,
          138.1506690778829,
          130.00100275095366,
          132.20580144299706,
          126.34172696455659,
          129.70923120527675,
          132.6813362073875,
          137.2849592127327,
          136.89546728046815,
          110.71287062587726,
          119.7268638603075,
          122.38703873368307,
          126.81846546209975,
          133.62770970227527,
          137.95031344366762,
          137.02717401239846,
          138.42116443184077
         ]
        }
       ],
       "layout": {
        "height": 800,
        "legend": {
         "tracegroupgap": 0
        },
        "template": {
         "data": {
          "bar": [
           {
            "error_x": {
             "color": "#2a3f5f"
            },
            "error_y": {
             "color": "#2a3f5f"
            },
            "marker": {
             "line": {
              "color": "#E5ECF6",
              "width": 0.5
             },
             "pattern": {
              "fillmode": "overlay",
              "size": 10,
              "solidity": 0.2
             }
            },
            "type": "bar"
           }
          ],
          "barpolar": [
           {
            "marker": {
             "line": {
              "color": "#E5ECF6",
              "width": 0.5
             },
             "pattern": {
              "fillmode": "overlay",
              "size": 10,
              "solidity": 0.2
             }
            },
            "type": "barpolar"
           }
          ],
          "carpet": [
           {
            "aaxis": {
             "endlinecolor": "#2a3f5f",
             "gridcolor": "white",
             "linecolor": "white",
             "minorgridcolor": "white",
             "startlinecolor": "#2a3f5f"
            },
            "baxis": {
             "endlinecolor": "#2a3f5f",
             "gridcolor": "white",
             "linecolor": "white",
             "minorgridcolor": "white",
             "startlinecolor": "#2a3f5f"
            },
            "type": "carpet"
           }
          ],
          "choropleth": [
           {
            "colorbar": {
             "outlinewidth": 0,
             "ticks": ""
            },
            "type": "choropleth"
           }
          ],
          "contour": [
           {
            "colorbar": {
             "outlinewidth": 0,
             "ticks": ""
            },
            "colorscale": [
             [
              0,
              "#0d0887"
             ],
             [
              0.1111111111111111,
              "#46039f"
             ],
             [
              0.2222222222222222,
              "#7201a8"
             ],
             [
              0.3333333333333333,
              "#9c179e"
             ],
             [
              0.4444444444444444,
              "#bd3786"
             ],
             [
              0.5555555555555556,
              "#d8576b"
             ],
             [
              0.6666666666666666,
              "#ed7953"
             ],
             [
              0.7777777777777778,
              "#fb9f3a"
             ],
             [
              0.8888888888888888,
              "#fdca26"
             ],
             [
              1,
              "#f0f921"
             ]
            ],
            "type": "contour"
           }
          ],
          "contourcarpet": [
           {
            "colorbar": {
             "outlinewidth": 0,
             "ticks": ""
            },
            "type": "contourcarpet"
           }
          ],
          "heatmap": [
           {
            "colorbar": {
             "outlinewidth": 0,
             "ticks": ""
            },
            "colorscale": [
             [
              0,
              "#0d0887"
             ],
             [
              0.1111111111111111,
              "#46039f"
             ],
             [
              0.2222222222222222,
              "#7201a8"
             ],
             [
              0.3333333333333333,
              "#9c179e"
             ],
             [
              0.4444444444444444,
              "#bd3786"
             ],
             [
              0.5555555555555556,
              "#d8576b"
             ],
             [
              0.6666666666666666,
              "#ed7953"
             ],
             [
              0.7777777777777778,
              "#fb9f3a"
             ],
             [
              0.8888888888888888,
              "#fdca26"
             ],
             [
              1,
              "#f0f921"
             ]
            ],
            "type": "heatmap"
           }
          ],
          "heatmapgl": [
           {
            "colorbar": {
             "outlinewidth": 0,
             "ticks": ""
            },
            "colorscale": [
             [
              0,
              "#0d0887"
             ],
             [
              0.1111111111111111,
              "#46039f"
             ],
             [
              0.2222222222222222,
              "#7201a8"
             ],
             [
              0.3333333333333333,
              "#9c179e"
             ],
             [
              0.4444444444444444,
              "#bd3786"
             ],
             [
              0.5555555555555556,
              "#d8576b"
             ],
             [
              0.6666666666666666,
              "#ed7953"
             ],
             [
              0.7777777777777778,
              "#fb9f3a"
             ],
             [
              0.8888888888888888,
              "#fdca26"
             ],
             [
              1,
              "#f0f921"
             ]
            ],
            "type": "heatmapgl"
           }
          ],
          "histogram": [
           {
            "marker": {
             "pattern": {
              "fillmode": "overlay",
              "size": 10,
              "solidity": 0.2
             }
            },
            "type": "histogram"
           }
          ],
          "histogram2d": [
           {
            "colorbar": {
             "outlinewidth": 0,
             "ticks": ""
            },
            "colorscale": [
             [
              0,
              "#0d0887"
             ],
             [
              0.1111111111111111,
              "#46039f"
             ],
             [
              0.2222222222222222,
              "#7201a8"
             ],
             [
              0.3333333333333333,
              "#9c179e"
             ],
             [
              0.4444444444444444,
              "#bd3786"
             ],
             [
              0.5555555555555556,
              "#d8576b"
             ],
             [
              0.6666666666666666,
              "#ed7953"
             ],
             [
              0.7777777777777778,
              "#fb9f3a"
             ],
             [
              0.8888888888888888,
              "#fdca26"
             ],
             [
              1,
              "#f0f921"
             ]
            ],
            "type": "histogram2d"
           }
          ],
          "histogram2dcontour": [
           {
            "colorbar": {
             "outlinewidth": 0,
             "ticks": ""
            },
            "colorscale": [
             [
              0,
              "#0d0887"
             ],
             [
              0.1111111111111111,
              "#46039f"
             ],
             [
              0.2222222222222222,
              "#7201a8"
             ],
             [
              0.3333333333333333,
              "#9c179e"
             ],
             [
              0.4444444444444444,
              "#bd3786"
             ],
             [
              0.5555555555555556,
              "#d8576b"
             ],
             [
              0.6666666666666666,
              "#ed7953"
             ],
             [
              0.7777777777777778,
              "#fb9f3a"
             ],
             [
              0.8888888888888888,
              "#fdca26"
             ],
             [
              1,
              "#f0f921"
             ]
            ],
            "type": "histogram2dcontour"
           }
          ],
          "mesh3d": [
           {
            "colorbar": {
             "outlinewidth": 0,
             "ticks": ""
            },
            "type": "mesh3d"
           }
          ],
          "parcoords": [
           {
            "line": {
             "colorbar": {
              "outlinewidth": 0,
              "ticks": ""
             }
            },
            "type": "parcoords"
           }
          ],
          "pie": [
           {
            "automargin": true,
            "type": "pie"
           }
          ],
          "scatter": [
           {
            "fillpattern": {
             "fillmode": "overlay",
             "size": 10,
             "solidity": 0.2
            },
            "type": "scatter"
           }
          ],
          "scatter3d": [
           {
            "line": {
             "colorbar": {
              "outlinewidth": 0,
              "ticks": ""
             }
            },
            "marker": {
             "colorbar": {
              "outlinewidth": 0,
              "ticks": ""
             }
            },
            "type": "scatter3d"
           }
          ],
          "scattercarpet": [
           {
            "marker": {
             "colorbar": {
              "outlinewidth": 0,
              "ticks": ""
             }
            },
            "type": "scattercarpet"
           }
          ],
          "scattergeo": [
           {
            "marker": {
             "colorbar": {
              "outlinewidth": 0,
              "ticks": ""
             }
            },
            "type": "scattergeo"
           }
          ],
          "scattergl": [
           {
            "marker": {
             "colorbar": {
              "outlinewidth": 0,
              "ticks": ""
             }
            },
            "type": "scattergl"
           }
          ],
          "scattermapbox": [
           {
            "marker": {
             "colorbar": {
              "outlinewidth": 0,
              "ticks": ""
             }
            },
            "type": "scattermapbox"
           }
          ],
          "scatterpolar": [
           {
            "marker": {
             "colorbar": {
              "outlinewidth": 0,
              "ticks": ""
             }
            },
            "type": "scatterpolar"
           }
          ],
          "scatterpolargl": [
           {
            "marker": {
             "colorbar": {
              "outlinewidth": 0,
              "ticks": ""
             }
            },
            "type": "scatterpolargl"
           }
          ],
          "scatterternary": [
           {
            "marker": {
             "colorbar": {
              "outlinewidth": 0,
              "ticks": ""
             }
            },
            "type": "scatterternary"
           }
          ],
          "surface": [
           {
            "colorbar": {
             "outlinewidth": 0,
             "ticks": ""
            },
            "colorscale": [
             [
              0,
              "#0d0887"
             ],
             [
              0.1111111111111111,
              "#46039f"
             ],
             [
              0.2222222222222222,
              "#7201a8"
             ],
             [
              0.3333333333333333,
              "#9c179e"
             ],
             [
              0.4444444444444444,
              "#bd3786"
             ],
             [
              0.5555555555555556,
              "#d8576b"
             ],
             [
              0.6666666666666666,
              "#ed7953"
             ],
             [
              0.7777777777777778,
              "#fb9f3a"
             ],
             [
              0.8888888888888888,
              "#fdca26"
             ],
             [
              1,
              "#f0f921"
             ]
            ],
            "type": "surface"
           }
          ],
          "table": [
           {
            "cells": {
             "fill": {
              "color": "#EBF0F8"
             },
             "line": {
              "color": "white"
             }
            },
            "header": {
             "fill": {
              "color": "#C8D4E3"
             },
             "line": {
              "color": "white"
             }
            },
            "type": "table"
           }
          ]
         },
         "layout": {
          "annotationdefaults": {
           "arrowcolor": "#2a3f5f",
           "arrowhead": 0,
           "arrowwidth": 1
          },
          "autotypenumbers": "strict",
          "coloraxis": {
           "colorbar": {
            "outlinewidth": 0,
            "ticks": ""
           }
          },
          "colorscale": {
           "diverging": [
            [
             0,
             "#8e0152"
            ],
            [
             0.1,
             "#c51b7d"
            ],
            [
             0.2,
             "#de77ae"
            ],
            [
             0.3,
             "#f1b6da"
            ],
            [
             0.4,
             "#fde0ef"
            ],
            [
             0.5,
             "#f7f7f7"
            ],
            [
             0.6,
             "#e6f5d0"
            ],
            [
             0.7,
             "#b8e186"
            ],
            [
             0.8,
             "#7fbc41"
            ],
            [
             0.9,
             "#4d9221"
            ],
            [
             1,
             "#276419"
            ]
           ],
           "sequential": [
            [
             0,
             "#0d0887"
            ],
            [
             0.1111111111111111,
             "#46039f"
            ],
            [
             0.2222222222222222,
             "#7201a8"
            ],
            [
             0.3333333333333333,
             "#9c179e"
            ],
            [
             0.4444444444444444,
             "#bd3786"
            ],
            [
             0.5555555555555556,
             "#d8576b"
            ],
            [
             0.6666666666666666,
             "#ed7953"
            ],
            [
             0.7777777777777778,
             "#fb9f3a"
            ],
            [
             0.8888888888888888,
             "#fdca26"
            ],
            [
             1,
             "#f0f921"
            ]
           ],
           "sequentialminus": [
            [
             0,
             "#0d0887"
            ],
            [
             0.1111111111111111,
             "#46039f"
            ],
            [
             0.2222222222222222,
             "#7201a8"
            ],
            [
             0.3333333333333333,
             "#9c179e"
            ],
            [
             0.4444444444444444,
             "#bd3786"
            ],
            [
             0.5555555555555556,
             "#d8576b"
            ],
            [
             0.6666666666666666,
             "#ed7953"
            ],
            [
             0.7777777777777778,
             "#fb9f3a"
            ],
            [
             0.8888888888888888,
             "#fdca26"
            ],
            [
             1,
             "#f0f921"
            ]
           ]
          },
          "colorway": [
           "#636efa",
           "#EF553B",
           "#00cc96",
           "#ab63fa",
           "#FFA15A",
           "#19d3f3",
           "#FF6692",
           "#B6E880",
           "#FF97FF",
           "#FECB52"
          ],
          "font": {
           "color": "#2a3f5f"
          },
          "geo": {
           "bgcolor": "white",
           "lakecolor": "white",
           "landcolor": "#E5ECF6",
           "showlakes": true,
           "showland": true,
           "subunitcolor": "white"
          },
          "hoverlabel": {
           "align": "left"
          },
          "hovermode": "closest",
          "mapbox": {
           "style": "light"
          },
          "paper_bgcolor": "white",
          "plot_bgcolor": "#E5ECF6",
          "polar": {
           "angularaxis": {
            "gridcolor": "white",
            "linecolor": "white",
            "ticks": ""
           },
           "bgcolor": "#E5ECF6",
           "radialaxis": {
            "gridcolor": "white",
            "linecolor": "white",
            "ticks": ""
           }
          },
          "scene": {
           "xaxis": {
            "backgroundcolor": "#E5ECF6",
            "gridcolor": "white",
            "gridwidth": 2,
            "linecolor": "white",
            "showbackground": true,
            "ticks": "",
            "zerolinecolor": "white"
           },
           "yaxis": {
            "backgroundcolor": "#E5ECF6",
            "gridcolor": "white",
            "gridwidth": 2,
            "linecolor": "white",
            "showbackground": true,
            "ticks": "",
            "zerolinecolor": "white"
           },
           "zaxis": {
            "backgroundcolor": "#E5ECF6",
            "gridcolor": "white",
            "gridwidth": 2,
            "linecolor": "white",
            "showbackground": true,
            "ticks": "",
            "zerolinecolor": "white"
           }
          },
          "shapedefaults": {
           "line": {
            "color": "#2a3f5f"
           }
          },
          "ternary": {
           "aaxis": {
            "gridcolor": "white",
            "linecolor": "white",
            "ticks": ""
           },
           "baxis": {
            "gridcolor": "white",
            "linecolor": "white",
            "ticks": ""
           },
           "bgcolor": "#E5ECF6",
           "caxis": {
            "gridcolor": "white",
            "linecolor": "white",
            "ticks": ""
           }
          },
          "title": {
           "x": 0.05
          },
          "xaxis": {
           "automargin": true,
           "gridcolor": "white",
           "linecolor": "white",
           "ticks": "",
           "title": {
            "standoff": 15
           },
           "zerolinecolor": "white",
           "zerolinewidth": 2
          },
          "yaxis": {
           "automargin": true,
           "gridcolor": "white",
           "linecolor": "white",
           "ticks": "",
           "title": {
            "standoff": 15
           },
           "zerolinecolor": "white",
           "zerolinewidth": 2
          }
         }
        },
        "title": {
         "text": "Score vs n_estimators"
        },
        "width": 1200,
        "xaxis": {
         "anchor": "y",
         "autorange": true,
         "domain": [
          0,
          1
         ],
         "range": [
          -0.4513274336283186,
          26.451327433628318
         ],
         "title": {
          "text": "n_estimators"
         },
         "type": "linear"
        },
        "yaxis": {
         "anchor": "x",
         "autorange": true,
         "domain": [
          0,
          1
         ],
         "range": [
          -15.345497783860312,
          258.4446785037194
         ],
         "title": {
          "text": "Score"
         },
         "type": "linear"
        }
       }
      },
      "text/html": [
       "<div>                            <div id=\"706845cd-9c76-4e44-a1a7-1b94ff145503\" class=\"plotly-graph-div\" style=\"height:800px; width:1200px;\"></div>            <script type=\"text/javascript\">                require([\"plotly\"], function(Plotly) {                    window.PLOTLYENV=window.PLOTLYENV || {};                                    if (document.getElementById(\"706845cd-9c76-4e44-a1a7-1b94ff145503\")) {                    Plotly.newPlot(                        \"706845cd-9c76-4e44-a1a7-1b94ff145503\",                        [{\"hovertemplate\":\"n_estimators=%{x}<br>Score=%{y}<extra></extra>\",\"legendgroup\":\"\",\"line\":{\"color\":\"#636efa\",\"dash\":\"solid\"},\"marker\":{\"symbol\":\"circle\"},\"mode\":\"lines+markers\",\"name\":\"\",\"orientation\":\"h\",\"showlegend\":false,\"x\":[1,2,3,4,5,6,7,8,9,10,11,12,13,14,15,16,17,18,19,20,21,22,23,24,25],\"xaxis\":\"x\",\"y\":[0,1,2,3,4,5,6,7,8,9,10,11,12,13,14,15,16,17,18,19,20,21,22,23,24],\"yaxis\":\"y\",\"type\":\"scatter\"},{\"mode\":\"lines+markers\",\"name\":\"Train Data MAE\",\"x\":[1,2,3,4,5,6,7,8,9,10,11,12,13,14,15,16,17,18,19,20,21,22,23,24,25],\"y\":[220.1000000000001,186.26363636363638,172.83636363636367,181.84090909090912,153.36818181818185,161.07575757575762,154.79220779220788,156.18068181818182,148.09090909090912,142.65909090909093,149.00000000000003,147.55075757575761,147.70314685314688,142.33603896103898,148.10393939393944,143.85653409090912,139.8935828877006,137.8914141414142,140.48732057416268,138.10681818181817,137.55692640692638,135.95578512396693,139.14288537549402,141.6498106060606,140.26036363636356],\"type\":\"scatter\"},{\"mode\":\"lines+markers\",\"name\":\"Test Data MAE\",\"x\":[1,2,3,4,5,6,7,8,9,10,11,12,13,14,15,16,17,18,19,20,21,22,23,24,25],\"y\":[182.93333333333317,208.20000000000005,147.65555555555557,129.20833333333334,110.58666666666666,46.211111111111144,93.10952380952396,120.22083333333337,103.27407407407418,124.87000000000012,106.08484848484848,114.84444444444436,94.10512820512811,97.65238095238085,96.91111111111104,106.53749999999998,94.80980392156864,70.24259259259263,91.11052631578968,94.97666666666692,101.17936507936527,108.83484848484879,110.74347826086994,101.19027777777812,103.88000000000034],\"type\":\"scatter\"},{\"mode\":\"lines+markers\",\"name\":\"RMSE\",\"x\":[1,2,3,4,5,6,7,8,9,10,11,12,13,14,15,16,17,18,19,20,21,22,23,24,25],\"y\":[195.44854395296292,243.09918071985905,163.7535738937107,156.75946741744175,130.8216302196749,73.08145506264961,103.27604216057942,132.13169152875483,119.4640111449794,138.1506690778829,130.00100275095366,132.20580144299706,126.34172696455659,129.70923120527675,132.6813362073875,137.2849592127327,136.89546728046815,110.71287062587726,119.7268638603075,122.38703873368307,126.81846546209975,133.62770970227527,137.95031344366762,137.02717401239846,138.42116443184077],\"type\":\"scatter\"}],                        {\"template\":{\"data\":{\"histogram2dcontour\":[{\"type\":\"histogram2dcontour\",\"colorbar\":{\"outlinewidth\":0,\"ticks\":\"\"},\"colorscale\":[[0.0,\"#0d0887\"],[0.1111111111111111,\"#46039f\"],[0.2222222222222222,\"#7201a8\"],[0.3333333333333333,\"#9c179e\"],[0.4444444444444444,\"#bd3786\"],[0.5555555555555556,\"#d8576b\"],[0.6666666666666666,\"#ed7953\"],[0.7777777777777778,\"#fb9f3a\"],[0.8888888888888888,\"#fdca26\"],[1.0,\"#f0f921\"]]}],\"choropleth\":[{\"type\":\"choropleth\",\"colorbar\":{\"outlinewidth\":0,\"ticks\":\"\"}}],\"histogram2d\":[{\"type\":\"histogram2d\",\"colorbar\":{\"outlinewidth\":0,\"ticks\":\"\"},\"colorscale\":[[0.0,\"#0d0887\"],[0.1111111111111111,\"#46039f\"],[0.2222222222222222,\"#7201a8\"],[0.3333333333333333,\"#9c179e\"],[0.4444444444444444,\"#bd3786\"],[0.5555555555555556,\"#d8576b\"],[0.6666666666666666,\"#ed7953\"],[0.7777777777777778,\"#fb9f3a\"],[0.8888888888888888,\"#fdca26\"],[1.0,\"#f0f921\"]]}],\"heatmap\":[{\"type\":\"heatmap\",\"colorbar\":{\"outlinewidth\":0,\"ticks\":\"\"},\"colorscale\":[[0.0,\"#0d0887\"],[0.1111111111111111,\"#46039f\"],[0.2222222222222222,\"#7201a8\"],[0.3333333333333333,\"#9c179e\"],[0.4444444444444444,\"#bd3786\"],[0.5555555555555556,\"#d8576b\"],[0.6666666666666666,\"#ed7953\"],[0.7777777777777778,\"#fb9f3a\"],[0.8888888888888888,\"#fdca26\"],[1.0,\"#f0f921\"]]}],\"heatmapgl\":[{\"type\":\"heatmapgl\",\"colorbar\":{\"outlinewidth\":0,\"ticks\":\"\"},\"colorscale\":[[0.0,\"#0d0887\"],[0.1111111111111111,\"#46039f\"],[0.2222222222222222,\"#7201a8\"],[0.3333333333333333,\"#9c179e\"],[0.4444444444444444,\"#bd3786\"],[0.5555555555555556,\"#d8576b\"],[0.6666666666666666,\"#ed7953\"],[0.7777777777777778,\"#fb9f3a\"],[0.8888888888888888,\"#fdca26\"],[1.0,\"#f0f921\"]]}],\"contourcarpet\":[{\"type\":\"contourcarpet\",\"colorbar\":{\"outlinewidth\":0,\"ticks\":\"\"}}],\"contour\":[{\"type\":\"contour\",\"colorbar\":{\"outlinewidth\":0,\"ticks\":\"\"},\"colorscale\":[[0.0,\"#0d0887\"],[0.1111111111111111,\"#46039f\"],[0.2222222222222222,\"#7201a8\"],[0.3333333333333333,\"#9c179e\"],[0.4444444444444444,\"#bd3786\"],[0.5555555555555556,\"#d8576b\"],[0.6666666666666666,\"#ed7953\"],[0.7777777777777778,\"#fb9f3a\"],[0.8888888888888888,\"#fdca26\"],[1.0,\"#f0f921\"]]}],\"surface\":[{\"type\":\"surface\",\"colorbar\":{\"outlinewidth\":0,\"ticks\":\"\"},\"colorscale\":[[0.0,\"#0d0887\"],[0.1111111111111111,\"#46039f\"],[0.2222222222222222,\"#7201a8\"],[0.3333333333333333,\"#9c179e\"],[0.4444444444444444,\"#bd3786\"],[0.5555555555555556,\"#d8576b\"],[0.6666666666666666,\"#ed7953\"],[0.7777777777777778,\"#fb9f3a\"],[0.8888888888888888,\"#fdca26\"],[1.0,\"#f0f921\"]]}],\"mesh3d\":[{\"type\":\"mesh3d\",\"colorbar\":{\"outlinewidth\":0,\"ticks\":\"\"}}],\"scatter\":[{\"fillpattern\":{\"fillmode\":\"overlay\",\"size\":10,\"solidity\":0.2},\"type\":\"scatter\"}],\"parcoords\":[{\"type\":\"parcoords\",\"line\":{\"colorbar\":{\"outlinewidth\":0,\"ticks\":\"\"}}}],\"scatterpolargl\":[{\"type\":\"scatterpolargl\",\"marker\":{\"colorbar\":{\"outlinewidth\":0,\"ticks\":\"\"}}}],\"bar\":[{\"error_x\":{\"color\":\"#2a3f5f\"},\"error_y\":{\"color\":\"#2a3f5f\"},\"marker\":{\"line\":{\"color\":\"#E5ECF6\",\"width\":0.5},\"pattern\":{\"fillmode\":\"overlay\",\"size\":10,\"solidity\":0.2}},\"type\":\"bar\"}],\"scattergeo\":[{\"type\":\"scattergeo\",\"marker\":{\"colorbar\":{\"outlinewidth\":0,\"ticks\":\"\"}}}],\"scatterpolar\":[{\"type\":\"scatterpolar\",\"marker\":{\"colorbar\":{\"outlinewidth\":0,\"ticks\":\"\"}}}],\"histogram\":[{\"marker\":{\"pattern\":{\"fillmode\":\"overlay\",\"size\":10,\"solidity\":0.2}},\"type\":\"histogram\"}],\"scattergl\":[{\"type\":\"scattergl\",\"marker\":{\"colorbar\":{\"outlinewidth\":0,\"ticks\":\"\"}}}],\"scatter3d\":[{\"type\":\"scatter3d\",\"line\":{\"colorbar\":{\"outlinewidth\":0,\"ticks\":\"\"}},\"marker\":{\"colorbar\":{\"outlinewidth\":0,\"ticks\":\"\"}}}],\"scattermapbox\":[{\"type\":\"scattermapbox\",\"marker\":{\"colorbar\":{\"outlinewidth\":0,\"ticks\":\"\"}}}],\"scatterternary\":[{\"type\":\"scatterternary\",\"marker\":{\"colorbar\":{\"outlinewidth\":0,\"ticks\":\"\"}}}],\"scattercarpet\":[{\"type\":\"scattercarpet\",\"marker\":{\"colorbar\":{\"outlinewidth\":0,\"ticks\":\"\"}}}],\"carpet\":[{\"aaxis\":{\"endlinecolor\":\"#2a3f5f\",\"gridcolor\":\"white\",\"linecolor\":\"white\",\"minorgridcolor\":\"white\",\"startlinecolor\":\"#2a3f5f\"},\"baxis\":{\"endlinecolor\":\"#2a3f5f\",\"gridcolor\":\"white\",\"linecolor\":\"white\",\"minorgridcolor\":\"white\",\"startlinecolor\":\"#2a3f5f\"},\"type\":\"carpet\"}],\"table\":[{\"cells\":{\"fill\":{\"color\":\"#EBF0F8\"},\"line\":{\"color\":\"white\"}},\"header\":{\"fill\":{\"color\":\"#C8D4E3\"},\"line\":{\"color\":\"white\"}},\"type\":\"table\"}],\"barpolar\":[{\"marker\":{\"line\":{\"color\":\"#E5ECF6\",\"width\":0.5},\"pattern\":{\"fillmode\":\"overlay\",\"size\":10,\"solidity\":0.2}},\"type\":\"barpolar\"}],\"pie\":[{\"automargin\":true,\"type\":\"pie\"}]},\"layout\":{\"autotypenumbers\":\"strict\",\"colorway\":[\"#636efa\",\"#EF553B\",\"#00cc96\",\"#ab63fa\",\"#FFA15A\",\"#19d3f3\",\"#FF6692\",\"#B6E880\",\"#FF97FF\",\"#FECB52\"],\"font\":{\"color\":\"#2a3f5f\"},\"hovermode\":\"closest\",\"hoverlabel\":{\"align\":\"left\"},\"paper_bgcolor\":\"white\",\"plot_bgcolor\":\"#E5ECF6\",\"polar\":{\"bgcolor\":\"#E5ECF6\",\"angularaxis\":{\"gridcolor\":\"white\",\"linecolor\":\"white\",\"ticks\":\"\"},\"radialaxis\":{\"gridcolor\":\"white\",\"linecolor\":\"white\",\"ticks\":\"\"}},\"ternary\":{\"bgcolor\":\"#E5ECF6\",\"aaxis\":{\"gridcolor\":\"white\",\"linecolor\":\"white\",\"ticks\":\"\"},\"baxis\":{\"gridcolor\":\"white\",\"linecolor\":\"white\",\"ticks\":\"\"},\"caxis\":{\"gridcolor\":\"white\",\"linecolor\":\"white\",\"ticks\":\"\"}},\"coloraxis\":{\"colorbar\":{\"outlinewidth\":0,\"ticks\":\"\"}},\"colorscale\":{\"sequential\":[[0.0,\"#0d0887\"],[0.1111111111111111,\"#46039f\"],[0.2222222222222222,\"#7201a8\"],[0.3333333333333333,\"#9c179e\"],[0.4444444444444444,\"#bd3786\"],[0.5555555555555556,\"#d8576b\"],[0.6666666666666666,\"#ed7953\"],[0.7777777777777778,\"#fb9f3a\"],[0.8888888888888888,\"#fdca26\"],[1.0,\"#f0f921\"]],\"sequentialminus\":[[0.0,\"#0d0887\"],[0.1111111111111111,\"#46039f\"],[0.2222222222222222,\"#7201a8\"],[0.3333333333333333,\"#9c179e\"],[0.4444444444444444,\"#bd3786\"],[0.5555555555555556,\"#d8576b\"],[0.6666666666666666,\"#ed7953\"],[0.7777777777777778,\"#fb9f3a\"],[0.8888888888888888,\"#fdca26\"],[1.0,\"#f0f921\"]],\"diverging\":[[0,\"#8e0152\"],[0.1,\"#c51b7d\"],[0.2,\"#de77ae\"],[0.3,\"#f1b6da\"],[0.4,\"#fde0ef\"],[0.5,\"#f7f7f7\"],[0.6,\"#e6f5d0\"],[0.7,\"#b8e186\"],[0.8,\"#7fbc41\"],[0.9,\"#4d9221\"],[1,\"#276419\"]]},\"xaxis\":{\"gridcolor\":\"white\",\"linecolor\":\"white\",\"ticks\":\"\",\"title\":{\"standoff\":15},\"zerolinecolor\":\"white\",\"automargin\":true,\"zerolinewidth\":2},\"yaxis\":{\"gridcolor\":\"white\",\"linecolor\":\"white\",\"ticks\":\"\",\"title\":{\"standoff\":15},\"zerolinecolor\":\"white\",\"automargin\":true,\"zerolinewidth\":2},\"scene\":{\"xaxis\":{\"backgroundcolor\":\"#E5ECF6\",\"gridcolor\":\"white\",\"linecolor\":\"white\",\"showbackground\":true,\"ticks\":\"\",\"zerolinecolor\":\"white\",\"gridwidth\":2},\"yaxis\":{\"backgroundcolor\":\"#E5ECF6\",\"gridcolor\":\"white\",\"linecolor\":\"white\",\"showbackground\":true,\"ticks\":\"\",\"zerolinecolor\":\"white\",\"gridwidth\":2},\"zaxis\":{\"backgroundcolor\":\"#E5ECF6\",\"gridcolor\":\"white\",\"linecolor\":\"white\",\"showbackground\":true,\"ticks\":\"\",\"zerolinecolor\":\"white\",\"gridwidth\":2}},\"shapedefaults\":{\"line\":{\"color\":\"#2a3f5f\"}},\"annotationdefaults\":{\"arrowcolor\":\"#2a3f5f\",\"arrowhead\":0,\"arrowwidth\":1},\"geo\":{\"bgcolor\":\"white\",\"landcolor\":\"#E5ECF6\",\"subunitcolor\":\"white\",\"showland\":true,\"showlakes\":true,\"lakecolor\":\"white\"},\"title\":{\"x\":0.05},\"mapbox\":{\"style\":\"light\"}}},\"xaxis\":{\"anchor\":\"y\",\"domain\":[0.0,1.0],\"title\":{\"text\":\"n_estimators\"}},\"yaxis\":{\"anchor\":\"x\",\"domain\":[0.0,1.0],\"title\":{\"text\":\"Score\"}},\"legend\":{\"tracegroupgap\":0},\"title\":{\"text\":\"Score vs n_estimators\"},\"height\":800,\"width\":1200},                        {\"responsive\": true}                    ).then(function(){\n",
       "                            \n",
       "var gd = document.getElementById('706845cd-9c76-4e44-a1a7-1b94ff145503');\n",
       "var x = new MutationObserver(function (mutations, observer) {{\n",
       "        var display = window.getComputedStyle(gd).display;\n",
       "        if (!display || display === 'none') {{\n",
       "            console.log([gd, 'removed!']);\n",
       "            Plotly.purge(gd);\n",
       "            observer.disconnect();\n",
       "        }}\n",
       "}});\n",
       "\n",
       "// Listen for the removal of the full notebook cells\n",
       "var notebookContainer = gd.closest('#notebook-container');\n",
       "if (notebookContainer) {{\n",
       "    x.observe(notebookContainer, {childList: true});\n",
       "}}\n",
       "\n",
       "// Listen for the clearing of the current output cell\n",
       "var outputEl = gd.closest('.output');\n",
       "if (outputEl) {{\n",
       "    x.observe(outputEl, {childList: true});\n",
       "}}\n",
       "\n",
       "                        })                };                });            </script>        </div>"
      ]
     },
     "metadata": {},
     "output_type": "display_data"
    },
    {
     "name": "stdout",
     "output_type": "stream",
     "text": [
      "최적 n_estimators: 6\n",
      "최적 MAE: 46.211111111111144\n",
      "최적 RMSE: 73.08145506264961\n"
     ]
    }
   ],
   "source": [
    "import pandas as pd\n",
    "import numpy as np\n",
    "import matplotlib.pyplot as plt\n",
    "import plotly.express as px\n",
    "from sklearn.ensemble import RandomForestRegressor\n",
    "from sklearn.model_selection import train_test_split\n",
    "from sklearn.metrics import mean_absolute_error\n",
    "from math import sqrt\n",
    "\n",
    "y = df.iloc[:, 0]\n",
    "X = df[['3060_거주인구수', '2060_생활인구수', '2인가구']]\n",
    "\n",
    "# 데이터 분할 (random_state 설정)\n",
    "X_train, X_test, y_train, y_test = train_test_split(X, y, test_size=0.1, random_state=0)\n",
    "\n",
    "# n_estimators 범위\n",
    "n_estimators_range = list(range(1,26))\n",
    "best_n_estimators = None\n",
    "best_mae = float('inf')  # MAE 최소화\n",
    "best_rmse = float('inf')  # RMSE 최소화\n",
    "\n",
    "# n_estimators 범위 평가 및 MAE, RMSE 기록\n",
    "train_mae_scores = []  # 훈련 데이터 MAE를 기록할 리스트\n",
    "test_mae_scores = []   # 테스트 데이터 MAE를 기록할 리스트\n",
    "rmse_scores = []       # RMSE를 기록할 리스트\n",
    "\n",
    "for n_estimators in n_estimators_range:\n",
    "    model = RandomForestRegressor(n_estimators=n_estimators, max_depth=10, random_state=0)\n",
    "    model.fit(X_train, y_train)\n",
    "\n",
    "    # Train Data MAE\n",
    "    y_train_pred = model.predict(X_train)\n",
    "    train_mae = mean_absolute_error(y_train, y_train_pred)\n",
    "    train_mae_scores.append(train_mae)\n",
    "    \n",
    "    # Test Data MAE\n",
    "    y_test_pred = model.predict(X_test)\n",
    "    test_mae = mean_absolute_error(y_test, y_test_pred)\n",
    "    test_mae_scores.append(test_mae)\n",
    "\n",
    "    # RMSE 계산\n",
    "    train_rmse = sqrt(np.mean((y_train - y_train_pred) ** 2))\n",
    "    test_rmse = sqrt(np.mean((y_test - y_test_pred) ** 2))\n",
    "    rmse_scores.append(test_rmse)\n",
    "\n",
    "    # 현재의 n_estimators 값이 이전보다 더 좋으면 최적값 업데이트\n",
    "    if test_mae < best_mae:\n",
    "        best_mae = test_mae\n",
    "        best_n_estimators = n_estimators\n",
    "\n",
    "    if test_rmse < best_rmse:\n",
    "        best_rmse = test_rmse\n",
    "\n",
    "# 피처 중요도 계산\n",
    "model = RandomForestRegressor(n_estimators=best_n_estimators, max_depth=15, random_state=0)\n",
    "model.fit(X_train, y_train)\n",
    "feature_importance = model.feature_importances_\n",
    "\n",
    "# 피처 중요도를 내림차순으로 정렬\n",
    "sorted_indices = feature_importance.argsort()[::-1]\n",
    "sorted_features = X.columns[sorted_indices]\n",
    "sorted_importance = feature_importance[sorted_indices]\n",
    "\n",
    "# 피처 중요도 시각화\n",
    "fig, ax = plt.subplots(figsize=(10, 6))\n",
    "ax.barh(sorted_features, sorted_importance)\n",
    "ax.set_xlabel('Feature Importance')\n",
    "ax.set_title('Feature Importance')\n",
    "\n",
    "# 그래프 출력\n",
    "plt.show()\n",
    "\n",
    "\n",
    "# MAE, RMSE, n_estimators 관계 시각화\n",
    "fig = px.line(x=n_estimators_range, labels={'x': 'n_estimators', 'y': 'Score'}, title='Score vs n_estimators', width=1200, height=800)\n",
    "fig.add_scatter(x=n_estimators_range, y=train_mae_scores, mode='lines+markers', name='Train Data MAE')\n",
    "fig.add_scatter(x=n_estimators_range, y=test_mae_scores, mode='lines+markers', name='Test Data MAE')\n",
    "fig.add_scatter(x=n_estimators_range, y=rmse_scores, mode='lines+markers', name='RMSE')\n",
    "fig.update_traces(mode='lines+markers')\n",
    "\n",
    "# Display the figure\n",
    "fig.show()\n",
    "\n",
    "# 최적값 출력\n",
    "print(f\"최적 n_estimators: {best_n_estimators}\")\n",
    "print(f\"최적 MAE: {best_mae}\")\n",
    "print(f\"최적 RMSE: {best_rmse}\")\n"
   ]
  },
  {
   "cell_type": "markdown",
   "id": "4997897e-4059-468a-a98b-2ad7af1421c3",
   "metadata": {},
   "source": [
    "## 1021 PCA => heatmap 0.65상향 = 본인은 Top5(공동5위로 6가지로 해보기)"
   ]
  },
  {
   "cell_type": "markdown",
   "id": "c5b84e28-f245-4a58-baca-09d2d45dfce0",
   "metadata": {},
   "source": [
    "1인가구"
   ]
  },
  {
   "cell_type": "code",
   "execution_count": 19,
   "id": "ebffdf1c-6f52-4604-ad45-5f864a0bf119",
   "metadata": {},
   "outputs": [
    {
     "data": {
      "text/html": [
       "<div>\n",
       "<style scoped>\n",
       "    .dataframe tbody tr th:only-of-type {\n",
       "        vertical-align: middle;\n",
       "    }\n",
       "\n",
       "    .dataframe tbody tr th {\n",
       "        vertical-align: top;\n",
       "    }\n",
       "\n",
       "    .dataframe thead th {\n",
       "        text-align: right;\n",
       "    }\n",
       "</style>\n",
       "<table border=\"1\" class=\"dataframe\">\n",
       "  <thead>\n",
       "    <tr style=\"text-align: right;\">\n",
       "      <th></th>\n",
       "      <th>PET 총량</th>\n",
       "      <th>월평균_총생활인구수</th>\n",
       "      <th>연령대0_평균</th>\n",
       "      <th>연령대10_평균</th>\n",
       "      <th>연령대20_평균</th>\n",
       "      <th>연령대30_평균</th>\n",
       "      <th>연령대40_평균</th>\n",
       "      <th>연령대50_평균</th>\n",
       "      <th>연령대60_평균</th>\n",
       "      <th>연령대70이상_평균</th>\n",
       "      <th>...</th>\n",
       "      <th>연령대_90_거주인구수</th>\n",
       "      <th>유흥주점영업</th>\n",
       "      <th>단란주점</th>\n",
       "      <th>제과점영업</th>\n",
       "      <th>집단급식소</th>\n",
       "      <th>일반음식점</th>\n",
       "      <th>휴게음식점</th>\n",
       "      <th>2030_거주인구수</th>\n",
       "      <th>3060_거주인구수</th>\n",
       "      <th>2060_생활인구수</th>\n",
       "    </tr>\n",
       "  </thead>\n",
       "  <tbody>\n",
       "    <tr>\n",
       "      <th>0</th>\n",
       "      <td>2680.0</td>\n",
       "      <td>5.892936e+08</td>\n",
       "      <td>3.542718e+07</td>\n",
       "      <td>5.912810e+07</td>\n",
       "      <td>9.170488e+07</td>\n",
       "      <td>1.144680e+08</td>\n",
       "      <td>1.135606e+08</td>\n",
       "      <td>7.744400e+07</td>\n",
       "      <td>5.143368e+07</td>\n",
       "      <td>4.612720e+07</td>\n",
       "      <td>...</td>\n",
       "      <td>2105.083333</td>\n",
       "      <td>2782.0</td>\n",
       "      <td>3645.0</td>\n",
       "      <td>6117.0</td>\n",
       "      <td>5555.0</td>\n",
       "      <td>165890.0</td>\n",
       "      <td>50825.0</td>\n",
       "      <td>147280.083333</td>\n",
       "      <td>134120.916667</td>\n",
       "      <td>1.431386e+08</td>\n",
       "    </tr>\n",
       "    <tr>\n",
       "      <th>1</th>\n",
       "      <td>2886.3</td>\n",
       "      <td>3.672376e+08</td>\n",
       "      <td>2.948711e+07</td>\n",
       "      <td>3.649162e+07</td>\n",
       "      <td>4.277418e+07</td>\n",
       "      <td>5.701898e+07</td>\n",
       "      <td>6.077971e+07</td>\n",
       "      <td>5.486420e+07</td>\n",
       "      <td>4.517363e+07</td>\n",
       "      <td>4.064814e+07</td>\n",
       "      <td>...</td>\n",
       "      <td>1619.916667</td>\n",
       "      <td>1606.0</td>\n",
       "      <td>1097.0</td>\n",
       "      <td>1855.0</td>\n",
       "      <td>3263.0</td>\n",
       "      <td>47030.0</td>\n",
       "      <td>13467.0</td>\n",
       "      <td>115867.750000</td>\n",
       "      <td>119676.333333</td>\n",
       "      <td>8.794781e+07</td>\n",
       "    </tr>\n",
       "    <tr>\n",
       "      <th>2</th>\n",
       "      <td>1147.1</td>\n",
       "      <td>2.147731e+08</td>\n",
       "      <td>1.359185e+07</td>\n",
       "      <td>1.758728e+07</td>\n",
       "      <td>2.864519e+07</td>\n",
       "      <td>2.739157e+07</td>\n",
       "      <td>3.246074e+07</td>\n",
       "      <td>3.419978e+07</td>\n",
       "      <td>2.725101e+07</td>\n",
       "      <td>3.364569e+07</td>\n",
       "      <td>...</td>\n",
       "      <td>1329.916667</td>\n",
       "      <td>864.0</td>\n",
       "      <td>1472.0</td>\n",
       "      <td>932.0</td>\n",
       "      <td>1983.0</td>\n",
       "      <td>43348.0</td>\n",
       "      <td>8292.0</td>\n",
       "      <td>72902.333333</td>\n",
       "      <td>77436.000000</td>\n",
       "      <td>5.589621e+07</td>\n",
       "    </tr>\n",
       "    <tr>\n",
       "      <th>3</th>\n",
       "      <td>1706.3</td>\n",
       "      <td>3.932681e+08</td>\n",
       "      <td>3.017993e+07</td>\n",
       "      <td>3.206075e+07</td>\n",
       "      <td>5.484733e+07</td>\n",
       "      <td>7.199565e+07</td>\n",
       "      <td>6.458018e+07</td>\n",
       "      <td>5.383710e+07</td>\n",
       "      <td>4.362611e+07</td>\n",
       "      <td>4.214109e+07</td>\n",
       "      <td>...</td>\n",
       "      <td>2298.833333</td>\n",
       "      <td>1561.0</td>\n",
       "      <td>2027.0</td>\n",
       "      <td>2501.0</td>\n",
       "      <td>4580.0</td>\n",
       "      <td>64909.0</td>\n",
       "      <td>19754.0</td>\n",
       "      <td>169298.083333</td>\n",
       "      <td>161954.916667</td>\n",
       "      <td>9.847344e+07</td>\n",
       "    </tr>\n",
       "    <tr>\n",
       "      <th>4</th>\n",
       "      <td>2877.2</td>\n",
       "      <td>3.680325e+08</td>\n",
       "      <td>1.803469e+07</td>\n",
       "      <td>2.493423e+07</td>\n",
       "      <td>8.159471e+07</td>\n",
       "      <td>6.884004e+07</td>\n",
       "      <td>5.407705e+07</td>\n",
       "      <td>4.650831e+07</td>\n",
       "      <td>3.582274e+07</td>\n",
       "      <td>3.822076e+07</td>\n",
       "      <td>...</td>\n",
       "      <td>1616.416667</td>\n",
       "      <td>2851.0</td>\n",
       "      <td>1798.0</td>\n",
       "      <td>3103.0</td>\n",
       "      <td>3266.0</td>\n",
       "      <td>94923.0</td>\n",
       "      <td>23939.0</td>\n",
       "      <td>182267.416667</td>\n",
       "      <td>137161.833333</td>\n",
       "      <td>1.174175e+08</td>\n",
       "    </tr>\n",
       "    <tr>\n",
       "      <th>5</th>\n",
       "      <td>1315.5</td>\n",
       "      <td>2.586844e+08</td>\n",
       "      <td>1.602181e+07</td>\n",
       "      <td>2.263567e+07</td>\n",
       "      <td>4.838317e+07</td>\n",
       "      <td>4.329571e+07</td>\n",
       "      <td>4.007139e+07</td>\n",
       "      <td>3.755222e+07</td>\n",
       "      <td>2.676349e+07</td>\n",
       "      <td>2.396088e+07</td>\n",
       "      <td>...</td>\n",
       "      <td>1127.000000</td>\n",
       "      <td>207.0</td>\n",
       "      <td>1004.0</td>\n",
       "      <td>1394.0</td>\n",
       "      <td>2141.0</td>\n",
       "      <td>49502.0</td>\n",
       "      <td>14033.0</td>\n",
       "      <td>107533.666667</td>\n",
       "      <td>90440.333333</td>\n",
       "      <td>7.514667e+07</td>\n",
       "    </tr>\n",
       "    <tr>\n",
       "      <th>6</th>\n",
       "      <td>1644.9</td>\n",
       "      <td>2.791766e+08</td>\n",
       "      <td>2.116669e+07</td>\n",
       "      <td>2.124486e+07</td>\n",
       "      <td>3.698564e+07</td>\n",
       "      <td>4.835033e+07</td>\n",
       "      <td>4.771972e+07</td>\n",
       "      <td>4.185870e+07</td>\n",
       "      <td>3.198917e+07</td>\n",
       "      <td>2.986146e+07</td>\n",
       "      <td>...</td>\n",
       "      <td>1352.250000</td>\n",
       "      <td>420.0</td>\n",
       "      <td>1160.0</td>\n",
       "      <td>1467.0</td>\n",
       "      <td>3097.0</td>\n",
       "      <td>51312.0</td>\n",
       "      <td>11901.0</td>\n",
       "      <td>101637.166667</td>\n",
       "      <td>103927.500000</td>\n",
       "      <td>6.897480e+07</td>\n",
       "    </tr>\n",
       "    <tr>\n",
       "      <th>7</th>\n",
       "      <td>811.7</td>\n",
       "      <td>1.596203e+08</td>\n",
       "      <td>8.063365e+06</td>\n",
       "      <td>9.202500e+06</td>\n",
       "      <td>2.543792e+07</td>\n",
       "      <td>3.087914e+07</td>\n",
       "      <td>2.728963e+07</td>\n",
       "      <td>2.555697e+07</td>\n",
       "      <td>1.802970e+07</td>\n",
       "      <td>1.516113e+07</td>\n",
       "      <td>...</td>\n",
       "      <td>798.750000</td>\n",
       "      <td>598.0</td>\n",
       "      <td>874.0</td>\n",
       "      <td>807.0</td>\n",
       "      <td>2300.0</td>\n",
       "      <td>34449.0</td>\n",
       "      <td>9065.0</td>\n",
       "      <td>66953.500000</td>\n",
       "      <td>64136.000000</td>\n",
       "      <td>4.346761e+07</td>\n",
       "    </tr>\n",
       "    <tr>\n",
       "      <th>8</th>\n",
       "      <td>1587.0</td>\n",
       "      <td>3.708985e+08</td>\n",
       "      <td>2.862122e+07</td>\n",
       "      <td>4.582537e+07</td>\n",
       "      <td>4.912459e+07</td>\n",
       "      <td>4.508514e+07</td>\n",
       "      <td>5.707942e+07</td>\n",
       "      <td>5.621155e+07</td>\n",
       "      <td>4.306797e+07</td>\n",
       "      <td>4.588322e+07</td>\n",
       "      <td>...</td>\n",
       "      <td>2316.666667</td>\n",
       "      <td>270.0</td>\n",
       "      <td>581.0</td>\n",
       "      <td>1777.0</td>\n",
       "      <td>3599.0</td>\n",
       "      <td>41563.0</td>\n",
       "      <td>14609.0</td>\n",
       "      <td>123713.666667</td>\n",
       "      <td>122239.416667</td>\n",
       "      <td>9.219256e+07</td>\n",
       "    </tr>\n",
       "    <tr>\n",
       "      <th>9</th>\n",
       "      <td>771.8</td>\n",
       "      <td>2.007010e+08</td>\n",
       "      <td>1.390507e+07</td>\n",
       "      <td>1.798793e+07</td>\n",
       "      <td>2.427823e+07</td>\n",
       "      <td>2.593962e+07</td>\n",
       "      <td>2.956132e+07</td>\n",
       "      <td>3.225372e+07</td>\n",
       "      <td>2.727839e+07</td>\n",
       "      <td>2.949675e+07</td>\n",
       "      <td>...</td>\n",
       "      <td>1535.166667</td>\n",
       "      <td>276.0</td>\n",
       "      <td>625.0</td>\n",
       "      <td>997.0</td>\n",
       "      <td>2440.0</td>\n",
       "      <td>28429.0</td>\n",
       "      <td>7358.0</td>\n",
       "      <td>75257.916667</td>\n",
       "      <td>83010.833333</td>\n",
       "      <td>5.155662e+07</td>\n",
       "    </tr>\n",
       "    <tr>\n",
       "      <th>10</th>\n",
       "      <td>1632.7</td>\n",
       "      <td>2.506434e+08</td>\n",
       "      <td>1.489139e+07</td>\n",
       "      <td>1.984034e+07</td>\n",
       "      <td>4.540185e+07</td>\n",
       "      <td>3.734034e+07</td>\n",
       "      <td>3.711684e+07</td>\n",
       "      <td>3.598062e+07</td>\n",
       "      <td>2.860666e+07</td>\n",
       "      <td>3.146531e+07</td>\n",
       "      <td>...</td>\n",
       "      <td>1343.833333</td>\n",
       "      <td>836.0</td>\n",
       "      <td>1142.0</td>\n",
       "      <td>1174.0</td>\n",
       "      <td>2392.0</td>\n",
       "      <td>49376.0</td>\n",
       "      <td>12614.0</td>\n",
       "      <td>96729.000000</td>\n",
       "      <td>88301.666667</td>\n",
       "      <td>7.400851e+07</td>\n",
       "    </tr>\n",
       "    <tr>\n",
       "      <th>11</th>\n",
       "      <td>1550.2</td>\n",
       "      <td>2.755241e+08</td>\n",
       "      <td>1.883500e+07</td>\n",
       "      <td>2.178775e+07</td>\n",
       "      <td>4.916039e+07</td>\n",
       "      <td>4.538081e+07</td>\n",
       "      <td>4.165431e+07</td>\n",
       "      <td>3.737787e+07</td>\n",
       "      <td>2.985787e+07</td>\n",
       "      <td>3.147007e+07</td>\n",
       "      <td>...</td>\n",
       "      <td>1629.833333</td>\n",
       "      <td>600.0</td>\n",
       "      <td>540.0</td>\n",
       "      <td>1584.0</td>\n",
       "      <td>2616.0</td>\n",
       "      <td>37912.0</td>\n",
       "      <td>11587.0</td>\n",
       "      <td>116301.333333</td>\n",
       "      <td>102199.666667</td>\n",
       "      <td>7.901826e+07</td>\n",
       "    </tr>\n",
       "    <tr>\n",
       "      <th>12</th>\n",
       "      <td>1786.8</td>\n",
       "      <td>3.200706e+08</td>\n",
       "      <td>1.903453e+07</td>\n",
       "      <td>2.499103e+07</td>\n",
       "      <td>6.123097e+07</td>\n",
       "      <td>6.291100e+07</td>\n",
       "      <td>5.592495e+07</td>\n",
       "      <td>4.135801e+07</td>\n",
       "      <td>2.718106e+07</td>\n",
       "      <td>2.743905e+07</td>\n",
       "      <td>...</td>\n",
       "      <td>1473.416667</td>\n",
       "      <td>744.0</td>\n",
       "      <td>944.0</td>\n",
       "      <td>2772.0</td>\n",
       "      <td>2431.0</td>\n",
       "      <td>95801.0</td>\n",
       "      <td>23024.0</td>\n",
       "      <td>115111.333333</td>\n",
       "      <td>95711.583333</td>\n",
       "      <td>8.841204e+07</td>\n",
       "    </tr>\n",
       "    <tr>\n",
       "      <th>13</th>\n",
       "      <td>1412.1</td>\n",
       "      <td>2.581368e+08</td>\n",
       "      <td>1.611004e+07</td>\n",
       "      <td>2.177085e+07</td>\n",
       "      <td>4.639587e+07</td>\n",
       "      <td>4.199185e+07</td>\n",
       "      <td>4.115962e+07</td>\n",
       "      <td>3.695052e+07</td>\n",
       "      <td>2.581251e+07</td>\n",
       "      <td>2.794549e+07</td>\n",
       "      <td>...</td>\n",
       "      <td>1435.500000</td>\n",
       "      <td>360.0</td>\n",
       "      <td>735.0</td>\n",
       "      <td>1421.0</td>\n",
       "      <td>2305.0</td>\n",
       "      <td>45626.0</td>\n",
       "      <td>14146.0</td>\n",
       "      <td>86139.416667</td>\n",
       "      <td>76798.000000</td>\n",
       "      <td>7.220838e+07</td>\n",
       "    </tr>\n",
       "    <tr>\n",
       "      <th>14</th>\n",
       "      <td>776.5</td>\n",
       "      <td>4.056659e+08</td>\n",
       "      <td>2.864869e+07</td>\n",
       "      <td>3.730751e+07</td>\n",
       "      <td>5.623171e+07</td>\n",
       "      <td>7.266123e+07</td>\n",
       "      <td>7.833800e+07</td>\n",
       "      <td>5.788763e+07</td>\n",
       "      <td>3.910321e+07</td>\n",
       "      <td>3.548788e+07</td>\n",
       "      <td>...</td>\n",
       "      <td>1617.583333</td>\n",
       "      <td>824.0</td>\n",
       "      <td>1349.0</td>\n",
       "      <td>3233.0</td>\n",
       "      <td>3774.0</td>\n",
       "      <td>79268.0</td>\n",
       "      <td>27400.0</td>\n",
       "      <td>104995.250000</td>\n",
       "      <td>100102.500000</td>\n",
       "      <td>9.533492e+07</td>\n",
       "    </tr>\n",
       "    <tr>\n",
       "      <th>15</th>\n",
       "      <td>1671.3</td>\n",
       "      <td>2.482775e+08</td>\n",
       "      <td>1.646231e+07</td>\n",
       "      <td>1.752293e+07</td>\n",
       "      <td>4.118650e+07</td>\n",
       "      <td>4.596094e+07</td>\n",
       "      <td>4.117393e+07</td>\n",
       "      <td>3.598867e+07</td>\n",
       "      <td>2.556697e+07</td>\n",
       "      <td>2.441528e+07</td>\n",
       "      <td>...</td>\n",
       "      <td>1053.083333</td>\n",
       "      <td>261.0</td>\n",
       "      <td>492.0</td>\n",
       "      <td>1283.0</td>\n",
       "      <td>2436.0</td>\n",
       "      <td>39656.0</td>\n",
       "      <td>10554.0</td>\n",
       "      <td>84187.916667</td>\n",
       "      <td>77864.916667</td>\n",
       "      <td>6.675348e+07</td>\n",
       "    </tr>\n",
       "    <tr>\n",
       "      <th>16</th>\n",
       "      <td>951.8</td>\n",
       "      <td>3.035953e+08</td>\n",
       "      <td>2.319125e+07</td>\n",
       "      <td>3.132196e+07</td>\n",
       "      <td>4.894565e+07</td>\n",
       "      <td>4.163364e+07</td>\n",
       "      <td>4.629512e+07</td>\n",
       "      <td>4.313069e+07</td>\n",
       "      <td>3.251829e+07</td>\n",
       "      <td>3.655874e+07</td>\n",
       "      <td>...</td>\n",
       "      <td>1847.666667</td>\n",
       "      <td>96.0</td>\n",
       "      <td>776.0</td>\n",
       "      <td>1478.0</td>\n",
       "      <td>3288.0</td>\n",
       "      <td>46572.0</td>\n",
       "      <td>13285.0</td>\n",
       "      <td>114845.416667</td>\n",
       "      <td>105697.166667</td>\n",
       "      <td>8.146394e+07</td>\n",
       "    </tr>\n",
       "    <tr>\n",
       "      <th>17</th>\n",
       "      <td>2382.6</td>\n",
       "      <td>5.366340e+08</td>\n",
       "      <td>4.330439e+07</td>\n",
       "      <td>5.089801e+07</td>\n",
       "      <td>7.094135e+07</td>\n",
       "      <td>9.391043e+07</td>\n",
       "      <td>9.164529e+07</td>\n",
       "      <td>7.788450e+07</td>\n",
       "      <td>5.911379e+07</td>\n",
       "      <td>4.893623e+07</td>\n",
       "      <td>...</td>\n",
       "      <td>2308.166667</td>\n",
       "      <td>1145.0</td>\n",
       "      <td>1877.0</td>\n",
       "      <td>3139.0</td>\n",
       "      <td>4492.0</td>\n",
       "      <td>78244.0</td>\n",
       "      <td>26811.0</td>\n",
       "      <td>183057.750000</td>\n",
       "      <td>177820.583333</td>\n",
       "      <td>1.300551e+08</td>\n",
       "    </tr>\n",
       "    <tr>\n",
       "      <th>18</th>\n",
       "      <td>1567.8</td>\n",
       "      <td>2.804564e+08</td>\n",
       "      <td>2.434086e+07</td>\n",
       "      <td>3.794172e+07</td>\n",
       "      <td>3.158052e+07</td>\n",
       "      <td>3.742505e+07</td>\n",
       "      <td>4.821145e+07</td>\n",
       "      <td>4.160823e+07</td>\n",
       "      <td>3.057072e+07</td>\n",
       "      <td>2.877786e+07</td>\n",
       "      <td>...</td>\n",
       "      <td>1550.333333</td>\n",
       "      <td>60.0</td>\n",
       "      <td>854.0</td>\n",
       "      <td>1686.0</td>\n",
       "      <td>2907.0</td>\n",
       "      <td>37910.0</td>\n",
       "      <td>11813.0</td>\n",
       "      <td>105472.666667</td>\n",
       "      <td>106373.500000</td>\n",
       "      <td>6.215124e+07</td>\n",
       "    </tr>\n",
       "    <tr>\n",
       "      <th>19</th>\n",
       "      <td>1974.0</td>\n",
       "      <td>3.344766e+08</td>\n",
       "      <td>1.901272e+07</td>\n",
       "      <td>2.005468e+07</td>\n",
       "      <td>5.171734e+07</td>\n",
       "      <td>7.002375e+07</td>\n",
       "      <td>5.931511e+07</td>\n",
       "      <td>4.978889e+07</td>\n",
       "      <td>3.404166e+07</td>\n",
       "      <td>3.052244e+07</td>\n",
       "      <td>...</td>\n",
       "      <td>1397.083333</td>\n",
       "      <td>1915.0</td>\n",
       "      <td>2632.0</td>\n",
       "      <td>1947.0</td>\n",
       "      <td>3724.0</td>\n",
       "      <td>75415.0</td>\n",
       "      <td>22123.0</td>\n",
       "      <td>117699.000000</td>\n",
       "      <td>107390.583333</td>\n",
       "      <td>8.575900e+07</td>\n",
       "    </tr>\n",
       "    <tr>\n",
       "      <th>20</th>\n",
       "      <td>973.0</td>\n",
       "      <td>2.033384e+08</td>\n",
       "      <td>1.018726e+07</td>\n",
       "      <td>1.309833e+07</td>\n",
       "      <td>3.257329e+07</td>\n",
       "      <td>4.142131e+07</td>\n",
       "      <td>3.659707e+07</td>\n",
       "      <td>2.940497e+07</td>\n",
       "      <td>2.015645e+07</td>\n",
       "      <td>1.989973e+07</td>\n",
       "      <td>...</td>\n",
       "      <td>1320.166667</td>\n",
       "      <td>332.0</td>\n",
       "      <td>1213.0</td>\n",
       "      <td>1299.0</td>\n",
       "      <td>1841.0</td>\n",
       "      <td>53848.0</td>\n",
       "      <td>11047.0</td>\n",
       "      <td>65377.666667</td>\n",
       "      <td>61450.000000</td>\n",
       "      <td>5.272973e+07</td>\n",
       "    </tr>\n",
       "    <tr>\n",
       "      <th>21</th>\n",
       "      <td>1970.2</td>\n",
       "      <td>3.176823e+08</td>\n",
       "      <td>2.335804e+07</td>\n",
       "      <td>3.038748e+07</td>\n",
       "      <td>4.001076e+07</td>\n",
       "      <td>4.759752e+07</td>\n",
       "      <td>5.085419e+07</td>\n",
       "      <td>4.741682e+07</td>\n",
       "      <td>3.703734e+07</td>\n",
       "      <td>4.102016e+07</td>\n",
       "      <td>...</td>\n",
       "      <td>1894.750000</td>\n",
       "      <td>1004.0</td>\n",
       "      <td>1616.0</td>\n",
       "      <td>2124.0</td>\n",
       "      <td>3023.0</td>\n",
       "      <td>45979.0</td>\n",
       "      <td>13861.0</td>\n",
       "      <td>122332.916667</td>\n",
       "      <td>122214.833333</td>\n",
       "      <td>7.704810e+07</td>\n",
       "    </tr>\n",
       "    <tr>\n",
       "      <th>22</th>\n",
       "      <td>738.6</td>\n",
       "      <td>1.946915e+08</td>\n",
       "      <td>7.249076e+06</td>\n",
       "      <td>1.316731e+07</td>\n",
       "      <td>3.335730e+07</td>\n",
       "      <td>3.254749e+07</td>\n",
       "      <td>3.405903e+07</td>\n",
       "      <td>3.165307e+07</td>\n",
       "      <td>2.150338e+07</td>\n",
       "      <td>2.115479e+07</td>\n",
       "      <td>...</td>\n",
       "      <td>892.916667</td>\n",
       "      <td>2517.0</td>\n",
       "      <td>1553.0</td>\n",
       "      <td>1367.0</td>\n",
       "      <td>2284.0</td>\n",
       "      <td>83493.0</td>\n",
       "      <td>19170.0</td>\n",
       "      <td>39143.833333</td>\n",
       "      <td>36524.916667</td>\n",
       "      <td>5.486069e+07</td>\n",
       "    </tr>\n",
       "    <tr>\n",
       "      <th>23</th>\n",
       "      <td>712.8</td>\n",
       "      <td>1.780641e+08</td>\n",
       "      <td>5.721392e+06</td>\n",
       "      <td>7.095913e+06</td>\n",
       "      <td>2.910013e+07</td>\n",
       "      <td>3.816941e+07</td>\n",
       "      <td>3.499494e+07</td>\n",
       "      <td>2.874309e+07</td>\n",
       "      <td>1.846743e+07</td>\n",
       "      <td>1.577180e+07</td>\n",
       "      <td>...</td>\n",
       "      <td>763.083333</td>\n",
       "      <td>2788.0</td>\n",
       "      <td>1068.0</td>\n",
       "      <td>1806.0</td>\n",
       "      <td>2313.0</td>\n",
       "      <td>74234.0</td>\n",
       "      <td>26791.0</td>\n",
       "      <td>35100.666667</td>\n",
       "      <td>34643.166667</td>\n",
       "      <td>4.756756e+07</td>\n",
       "    </tr>\n",
       "    <tr>\n",
       "      <th>24</th>\n",
       "      <td>1924.0</td>\n",
       "      <td>2.565494e+08</td>\n",
       "      <td>1.799453e+07</td>\n",
       "      <td>1.976582e+07</td>\n",
       "      <td>3.361434e+07</td>\n",
       "      <td>3.850564e+07</td>\n",
       "      <td>3.839228e+07</td>\n",
       "      <td>4.252957e+07</td>\n",
       "      <td>3.299374e+07</td>\n",
       "      <td>3.275346e+07</td>\n",
       "      <td>...</td>\n",
       "      <td>1476.416667</td>\n",
       "      <td>270.0</td>\n",
       "      <td>1235.0</td>\n",
       "      <td>1135.0</td>\n",
       "      <td>2546.0</td>\n",
       "      <td>43654.0</td>\n",
       "      <td>9498.0</td>\n",
       "      <td>103009.916667</td>\n",
       "      <td>107302.000000</td>\n",
       "      <td>6.660808e+07</td>\n",
       "    </tr>\n",
       "  </tbody>\n",
       "</table>\n",
       "<p>25 rows × 37 columns</p>\n",
       "</div>"
      ],
      "text/plain": [
       "    PET 총량    월평균_총생활인구수       연령대0_평균      연령대10_평균      연령대20_평균  \\\n",
       "0   2680.0  5.892936e+08  3.542718e+07  5.912810e+07  9.170488e+07   \n",
       "1   2886.3  3.672376e+08  2.948711e+07  3.649162e+07  4.277418e+07   \n",
       "2   1147.1  2.147731e+08  1.359185e+07  1.758728e+07  2.864519e+07   \n",
       "3   1706.3  3.932681e+08  3.017993e+07  3.206075e+07  5.484733e+07   \n",
       "4   2877.2  3.680325e+08  1.803469e+07  2.493423e+07  8.159471e+07   \n",
       "5   1315.5  2.586844e+08  1.602181e+07  2.263567e+07  4.838317e+07   \n",
       "6   1644.9  2.791766e+08  2.116669e+07  2.124486e+07  3.698564e+07   \n",
       "7    811.7  1.596203e+08  8.063365e+06  9.202500e+06  2.543792e+07   \n",
       "8   1587.0  3.708985e+08  2.862122e+07  4.582537e+07  4.912459e+07   \n",
       "9    771.8  2.007010e+08  1.390507e+07  1.798793e+07  2.427823e+07   \n",
       "10  1632.7  2.506434e+08  1.489139e+07  1.984034e+07  4.540185e+07   \n",
       "11  1550.2  2.755241e+08  1.883500e+07  2.178775e+07  4.916039e+07   \n",
       "12  1786.8  3.200706e+08  1.903453e+07  2.499103e+07  6.123097e+07   \n",
       "13  1412.1  2.581368e+08  1.611004e+07  2.177085e+07  4.639587e+07   \n",
       "14   776.5  4.056659e+08  2.864869e+07  3.730751e+07  5.623171e+07   \n",
       "15  1671.3  2.482775e+08  1.646231e+07  1.752293e+07  4.118650e+07   \n",
       "16   951.8  3.035953e+08  2.319125e+07  3.132196e+07  4.894565e+07   \n",
       "17  2382.6  5.366340e+08  4.330439e+07  5.089801e+07  7.094135e+07   \n",
       "18  1567.8  2.804564e+08  2.434086e+07  3.794172e+07  3.158052e+07   \n",
       "19  1974.0  3.344766e+08  1.901272e+07  2.005468e+07  5.171734e+07   \n",
       "20   973.0  2.033384e+08  1.018726e+07  1.309833e+07  3.257329e+07   \n",
       "21  1970.2  3.176823e+08  2.335804e+07  3.038748e+07  4.001076e+07   \n",
       "22   738.6  1.946915e+08  7.249076e+06  1.316731e+07  3.335730e+07   \n",
       "23   712.8  1.780641e+08  5.721392e+06  7.095913e+06  2.910013e+07   \n",
       "24  1924.0  2.565494e+08  1.799453e+07  1.976582e+07  3.361434e+07   \n",
       "\n",
       "        연령대30_평균      연령대40_평균      연령대50_평균      연령대60_평균    연령대70이상_평균  ...  \\\n",
       "0   1.144680e+08  1.135606e+08  7.744400e+07  5.143368e+07  4.612720e+07  ...   \n",
       "1   5.701898e+07  6.077971e+07  5.486420e+07  4.517363e+07  4.064814e+07  ...   \n",
       "2   2.739157e+07  3.246074e+07  3.419978e+07  2.725101e+07  3.364569e+07  ...   \n",
       "3   7.199565e+07  6.458018e+07  5.383710e+07  4.362611e+07  4.214109e+07  ...   \n",
       "4   6.884004e+07  5.407705e+07  4.650831e+07  3.582274e+07  3.822076e+07  ...   \n",
       "5   4.329571e+07  4.007139e+07  3.755222e+07  2.676349e+07  2.396088e+07  ...   \n",
       "6   4.835033e+07  4.771972e+07  4.185870e+07  3.198917e+07  2.986146e+07  ...   \n",
       "7   3.087914e+07  2.728963e+07  2.555697e+07  1.802970e+07  1.516113e+07  ...   \n",
       "8   4.508514e+07  5.707942e+07  5.621155e+07  4.306797e+07  4.588322e+07  ...   \n",
       "9   2.593962e+07  2.956132e+07  3.225372e+07  2.727839e+07  2.949675e+07  ...   \n",
       "10  3.734034e+07  3.711684e+07  3.598062e+07  2.860666e+07  3.146531e+07  ...   \n",
       "11  4.538081e+07  4.165431e+07  3.737787e+07  2.985787e+07  3.147007e+07  ...   \n",
       "12  6.291100e+07  5.592495e+07  4.135801e+07  2.718106e+07  2.743905e+07  ...   \n",
       "13  4.199185e+07  4.115962e+07  3.695052e+07  2.581251e+07  2.794549e+07  ...   \n",
       "14  7.266123e+07  7.833800e+07  5.788763e+07  3.910321e+07  3.548788e+07  ...   \n",
       "15  4.596094e+07  4.117393e+07  3.598867e+07  2.556697e+07  2.441528e+07  ...   \n",
       "16  4.163364e+07  4.629512e+07  4.313069e+07  3.251829e+07  3.655874e+07  ...   \n",
       "17  9.391043e+07  9.164529e+07  7.788450e+07  5.911379e+07  4.893623e+07  ...   \n",
       "18  3.742505e+07  4.821145e+07  4.160823e+07  3.057072e+07  2.877786e+07  ...   \n",
       "19  7.002375e+07  5.931511e+07  4.978889e+07  3.404166e+07  3.052244e+07  ...   \n",
       "20  4.142131e+07  3.659707e+07  2.940497e+07  2.015645e+07  1.989973e+07  ...   \n",
       "21  4.759752e+07  5.085419e+07  4.741682e+07  3.703734e+07  4.102016e+07  ...   \n",
       "22  3.254749e+07  3.405903e+07  3.165307e+07  2.150338e+07  2.115479e+07  ...   \n",
       "23  3.816941e+07  3.499494e+07  2.874309e+07  1.846743e+07  1.577180e+07  ...   \n",
       "24  3.850564e+07  3.839228e+07  4.252957e+07  3.299374e+07  3.275346e+07  ...   \n",
       "\n",
       "    연령대_90_거주인구수  유흥주점영업    단란주점   제과점영업   집단급식소     일반음식점    휴게음식점  \\\n",
       "0    2105.083333  2782.0  3645.0  6117.0  5555.0  165890.0  50825.0   \n",
       "1    1619.916667  1606.0  1097.0  1855.0  3263.0   47030.0  13467.0   \n",
       "2    1329.916667   864.0  1472.0   932.0  1983.0   43348.0   8292.0   \n",
       "3    2298.833333  1561.0  2027.0  2501.0  4580.0   64909.0  19754.0   \n",
       "4    1616.416667  2851.0  1798.0  3103.0  3266.0   94923.0  23939.0   \n",
       "5    1127.000000   207.0  1004.0  1394.0  2141.0   49502.0  14033.0   \n",
       "6    1352.250000   420.0  1160.0  1467.0  3097.0   51312.0  11901.0   \n",
       "7     798.750000   598.0   874.0   807.0  2300.0   34449.0   9065.0   \n",
       "8    2316.666667   270.0   581.0  1777.0  3599.0   41563.0  14609.0   \n",
       "9    1535.166667   276.0   625.0   997.0  2440.0   28429.0   7358.0   \n",
       "10   1343.833333   836.0  1142.0  1174.0  2392.0   49376.0  12614.0   \n",
       "11   1629.833333   600.0   540.0  1584.0  2616.0   37912.0  11587.0   \n",
       "12   1473.416667   744.0   944.0  2772.0  2431.0   95801.0  23024.0   \n",
       "13   1435.500000   360.0   735.0  1421.0  2305.0   45626.0  14146.0   \n",
       "14   1617.583333   824.0  1349.0  3233.0  3774.0   79268.0  27400.0   \n",
       "15   1053.083333   261.0   492.0  1283.0  2436.0   39656.0  10554.0   \n",
       "16   1847.666667    96.0   776.0  1478.0  3288.0   46572.0  13285.0   \n",
       "17   2308.166667  1145.0  1877.0  3139.0  4492.0   78244.0  26811.0   \n",
       "18   1550.333333    60.0   854.0  1686.0  2907.0   37910.0  11813.0   \n",
       "19   1397.083333  1915.0  2632.0  1947.0  3724.0   75415.0  22123.0   \n",
       "20   1320.166667   332.0  1213.0  1299.0  1841.0   53848.0  11047.0   \n",
       "21   1894.750000  1004.0  1616.0  2124.0  3023.0   45979.0  13861.0   \n",
       "22    892.916667  2517.0  1553.0  1367.0  2284.0   83493.0  19170.0   \n",
       "23    763.083333  2788.0  1068.0  1806.0  2313.0   74234.0  26791.0   \n",
       "24   1476.416667   270.0  1235.0  1135.0  2546.0   43654.0   9498.0   \n",
       "\n",
       "       2030_거주인구수     3060_거주인구수    2060_생활인구수  \n",
       "0   147280.083333  134120.916667  1.431386e+08  \n",
       "1   115867.750000  119676.333333  8.794781e+07  \n",
       "2    72902.333333   77436.000000  5.589621e+07  \n",
       "3   169298.083333  161954.916667  9.847344e+07  \n",
       "4   182267.416667  137161.833333  1.174175e+08  \n",
       "5   107533.666667   90440.333333  7.514667e+07  \n",
       "6   101637.166667  103927.500000  6.897480e+07  \n",
       "7    66953.500000   64136.000000  4.346761e+07  \n",
       "8   123713.666667  122239.416667  9.219256e+07  \n",
       "9    75257.916667   83010.833333  5.155662e+07  \n",
       "10   96729.000000   88301.666667  7.400851e+07  \n",
       "11  116301.333333  102199.666667  7.901826e+07  \n",
       "12  115111.333333   95711.583333  8.841204e+07  \n",
       "13   86139.416667   76798.000000  7.220838e+07  \n",
       "14  104995.250000  100102.500000  9.533492e+07  \n",
       "15   84187.916667   77864.916667  6.675348e+07  \n",
       "16  114845.416667  105697.166667  8.146394e+07  \n",
       "17  183057.750000  177820.583333  1.300551e+08  \n",
       "18  105472.666667  106373.500000  6.215124e+07  \n",
       "19  117699.000000  107390.583333  8.575900e+07  \n",
       "20   65377.666667   61450.000000  5.272973e+07  \n",
       "21  122332.916667  122214.833333  7.704810e+07  \n",
       "22   39143.833333   36524.916667  5.486069e+07  \n",
       "23   35100.666667   34643.166667  4.756756e+07  \n",
       "24  103009.916667  107302.000000  6.660808e+07  \n",
       "\n",
       "[25 rows x 37 columns]"
      ]
     },
     "execution_count": 19,
     "metadata": {},
     "output_type": "execute_result"
    }
   ],
   "source": [
    "df"
   ]
  },
  {
   "cell_type": "code",
   "execution_count": 9,
   "id": "bb79cbde-117f-42c3-8246-863533297765",
   "metadata": {},
   "outputs": [
    {
     "data": {
      "image/png": "[encoded data removed]",
      "text/plain": [
       "<Figure size 1000x600 with 1 Axes>"
      ]
     },
     "metadata": {},
     "output_type": "display_data"
    },
    {
     "data": {
      "application/vnd.plotly.v1+json": {
       "config": {
        "plotlyServerURL": "https://plot.ly"
       },
       "data": [
        {
         "hovertemplate": "n_estimators=%{x}<br>Score=%{y}<extra></extra>",
         "legendgroup": "",
         "line": {
          "color": "#636efa",
          "dash": "solid"
         },
         "marker": {
          "symbol": "circle"
         },
         "mode": "lines+markers",
         "name": "",
         "orientation": "h",
         "showlegend": false,
         "type": "scatter",
         "x": [
          1,
          2,
          3,
          4,
          5,
          6,
          7,
          8,
          9,
          10,
          11,
          12,
          13,
          14,
          15,
          16,
          17,
          18,
          19,
          20,
          21,
          22,
          23,
          24,
          25
         ],
         "xaxis": "x",
         "y": [
          0,
          1,
          2,
          3,
          4,
          5,
          6,
          7,
          8,
          9,
          10,
          11,
          12,
          13,
          14,
          15,
          16,
          17,
          18,
          19,
          20,
          21,
          22,
          23,
          24
         ],
         "yaxis": "y"
        },
        {
         "mode": "lines+markers",
         "name": "Train Data MAE",
         "type": "scatter",
         "x": [
          1,
          2,
          3,
          4,
          5,
          6,
          7,
          8,
          9,
          10,
          11,
          12,
          13,
          14,
          15,
          16,
          17,
          18,
          19,
          20,
          21,
          22,
          23,
          24,
          25
         ],
         "y": [
          179.51818181818192,
          153.19090909090912,
          176.56363636363642,
          196.75795454545457,
          181.8527272727273,
          183.0007575757576,
          167.35259740259735,
          167.35227272727272,
          167.15454545454548,
          157.42863636363643,
          163.1913223140496,
          176.657196969697,
          175.95979020979027,
          170.86428571428576,
          173.73575757575762,
          169.14687500000008,
          166.09518716577546,
          170.41717171717175,
          170.2466507177034,
          167.52522727272734,
          164.89372294372296,
          159.10557851239676,
          162.90474308300398,
          162.69678030303027,
          160.03
         ]
        },
        {
         "mode": "lines+markers",
         "name": "Test Data MAE",
         "type": "scatter",
         "x": [
          1,
          2,
          3,
          4,
          5,
          6,
          7,
          8,
          9,
          10,
          11,
          12,
          13,
          14,
          15,
          16,
          17,
          18,
          19,
          20,
          21,
          22,
          23,
          24,
          25
         ],
         "y": [
          231.49999999999986,
          173.8166666666667,
          178.35555555555547,
          234.29999999999995,
          231.0666666666666,
          239.88888888888889,
          245.26666666666668,
          180.10833333333326,
          168.77037037037027,
          114.58333333333333,
          130.8242424242425,
          155.83611111111108,
          154.42820512820512,
          140.30952380952377,
          148.00666666666675,
          136.625,
          141.89215686274505,
          151.9685185185186,
          152.87017543859656,
          159.88833333333332,
          174.03333333333345,
          151.87121212121224,
          141.7840579710145,
          147.54027777777773,
          141.60666666666657
         ]
        },
        {
         "mode": "lines+markers",
         "name": "RMSE",
         "type": "scatter",
         "x": [
          1,
          2,
          3,
          4,
          5,
          6,
          7,
          8,
          9,
          10,
          11,
          12,
          13,
          14,
          15,
          16,
          17,
          18,
          19,
          20,
          21,
          22,
          23,
          24,
          25
         ],
         "y": [
          270.33855934118355,
          176.87740811081557,
          183.22958074301002,
          238.46614801686212,
          232.06039386332165,
          239.97755334845615,
          245.98916380093453,
          203.57837173309926,
          175.65043193423432,
          148.32866670561907,
          158.03981278223037,
          166.78347080648976,
          165.55544731032643,
          168.4190313950724,
          178.30929852573797,
          172.41751862605685,
          175.209398299849,
          186.5885241256572,
          187.33135080755494,
          190.5187162503114,
          202.62385208710822,
          181.7802235187714,
          172.92395440644265,
          176.13738842362352,
          163.7057192729278
         ]
        }
       ],
       "layout": {
        "height": 800,
        "legend": {
         "tracegroupgap": 0
        },
        "template": {
         "data": {
          "bar": [
           {
            "error_x": {
             "color": "#2a3f5f"
            },
            "error_y": {
             "color": "#2a3f5f"
            },
            "marker": {
             "line": {
              "color": "#E5ECF6",
              "width": 0.5
             },
             "pattern": {
              "fillmode": "overlay",
              "size": 10,
              "solidity": 0.2
             }
            },
            "type": "bar"
           }
          ],
          "barpolar": [
           {
            "marker": {
             "line": {
              "color": "#E5ECF6",
              "width": 0.5
             },
             "pattern": {
              "fillmode": "overlay",
              "size": 10,
              "solidity": 0.2
             }
            },
            "type": "barpolar"
           }
          ],
          "carpet": [
           {
            "aaxis": {
             "endlinecolor": "#2a3f5f",
             "gridcolor": "white",
             "linecolor": "white",
             "minorgridcolor": "white",
             "startlinecolor": "#2a3f5f"
            },
            "baxis": {
             "endlinecolor": "#2a3f5f",
             "gridcolor": "white",
             "linecolor": "white",
             "minorgridcolor": "white",
             "startlinecolor": "#2a3f5f"
            },
            "type": "carpet"
           }
          ],
          "choropleth": [
           {
            "colorbar": {
             "outlinewidth": 0,
             "ticks": ""
            },
            "type": "choropleth"
           }
          ],
          "contour": [
           {
            "colorbar": {
             "outlinewidth": 0,
             "ticks": ""
            },
            "colorscale": [
             [
              0,
              "#0d0887"
             ],
             [
              0.1111111111111111,
              "#46039f"
             ],
             [
              0.2222222222222222,
              "#7201a8"
             ],
             [
              0.3333333333333333,
              "#9c179e"
             ],
             [
              0.4444444444444444,
              "#bd3786"
             ],
             [
              0.5555555555555556,
              "#d8576b"
             ],
             [
              0.6666666666666666,
              "#ed7953"
             ],
             [
              0.7777777777777778,
              "#fb9f3a"
             ],
             [
              0.8888888888888888,
              "#fdca26"
             ],
             [
              1,
              "#f0f921"
             ]
            ],
            "type": "contour"
           }
          ],
          "contourcarpet": [
           {
            "colorbar": {
             "outlinewidth": 0,
             "ticks": ""
            },
            "type": "contourcarpet"
           }
          ],
          "heatmap": [
           {
            "colorbar": {
             "outlinewidth": 0,
             "ticks": ""
            },
            "colorscale": [
             [
              0,
              "#0d0887"
             ],
             [
              0.1111111111111111,
              "#46039f"
             ],
             [
              0.2222222222222222,
              "#7201a8"
             ],
             [
              0.3333333333333333,
              "#9c179e"
             ],
             [
              0.4444444444444444,
              "#bd3786"
             ],
             [
              0.5555555555555556,
              "#d8576b"
             ],
             [
              0.6666666666666666,
              "#ed7953"
             ],
             [
              0.7777777777777778,
              "#fb9f3a"
             ],
             [
              0.8888888888888888,
              "#fdca26"
             ],
             [
              1,
              "#f0f921"
             ]
            ],
            "type": "heatmap"
           }
          ],
          "heatmapgl": [
           {
            "colorbar": {
             "outlinewidth": 0,
             "ticks": ""
            },
            "colorscale": [
             [
              0,
              "#0d0887"
             ],
             [
              0.1111111111111111,
              "#46039f"
             ],
             [
              0.2222222222222222,
              "#7201a8"
             ],
             [
              0.3333333333333333,
              "#9c179e"
             ],
             [
              0.4444444444444444,
              "#bd3786"
             ],
             [
              0.5555555555555556,
              "#d8576b"
             ],
             [
              0.6666666666666666,
              "#ed7953"
             ],
             [
              0.7777777777777778,
              "#fb9f3a"
             ],
             [
              0.8888888888888888,
              "#fdca26"
             ],
             [
              1,
              "#f0f921"
             ]
            ],
            "type": "heatmapgl"
           }
          ],
          "histogram": [
           {
            "marker": {
             "pattern": {
              "fillmode": "overlay",
              "size": 10,
              "solidity": 0.2
             }
            },
            "type": "histogram"
           }
          ],
          "histogram2d": [
           {
            "colorbar": {
             "outlinewidth": 0,
             "ticks": ""
            },
            "colorscale": [
             [
              0,
              "#0d0887"
             ],
             [
              0.1111111111111111,
              "#46039f"
             ],
             [
              0.2222222222222222,
              "#7201a8"
             ],
             [
              0.3333333333333333,
              "#9c179e"
             ],
             [
              0.4444444444444444,
              "#bd3786"
             ],
             [
              0.5555555555555556,
              "#d8576b"
             ],
             [
              0.6666666666666666,
              "#ed7953"
             ],
             [
              0.7777777777777778,
              "#fb9f3a"
             ],
             [
              0.8888888888888888,
              "#fdca26"
             ],
             [
              1,
              "#f0f921"
             ]
            ],
            "type": "histogram2d"
           }
          ],
          "histogram2dcontour": [
           {
            "colorbar": {
             "outlinewidth": 0,
             "ticks": ""
            },
            "colorscale": [
             [
              0,
              "#0d0887"
             ],
             [
              0.1111111111111111,
              "#46039f"
             ],
             [
              0.2222222222222222,
              "#7201a8"
             ],
             [
              0.3333333333333333,
              "#9c179e"
             ],
             [
              0.4444444444444444,
              "#bd3786"
             ],
             [
              0.5555555555555556,
              "#d8576b"
             ],
             [
              0.6666666666666666,
              "#ed7953"
             ],
             [
              0.7777777777777778,
              "#fb9f3a"
             ],
             [
              0.8888888888888888,
              "#fdca26"
             ],
             [
              1,
              "#f0f921"
             ]
            ],
            "type": "histogram2dcontour"
           }
          ],
          "mesh3d": [
           {
            "colorbar": {
             "outlinewidth": 0,
             "ticks": ""
            },
            "type": "mesh3d"
           }
          ],
          "parcoords": [
           {
            "line": {
             "colorbar": {
              "outlinewidth": 0,
              "ticks": ""
             }
            },
            "type": "parcoords"
           }
          ],
          "pie": [
           {
            "automargin": true,
            "type": "pie"
           }
          ],
          "scatter": [
           {
            "fillpattern": {
             "fillmode": "overlay",
             "size": 10,
             "solidity": 0.2
            },
            "type": "scatter"
           }
          ],
          "scatter3d": [
           {
            "line": {
             "colorbar": {
              "outlinewidth": 0,
              "ticks": ""
             }
            },
            "marker": {
             "colorbar": {
              "outlinewidth": 0,
              "ticks": ""
             }
            },
            "type": "scatter3d"
           }
          ],
          "scattercarpet": [
           {
            "marker": {
             "colorbar": {
              "outlinewidth": 0,
              "ticks": ""
             }
            },
            "type": "scattercarpet"
           }
          ],
          "scattergeo": [
           {
            "marker": {
             "colorbar": {
              "outlinewidth": 0,
              "ticks": ""
             }
            },
            "type": "scattergeo"
           }
          ],
          "scattergl": [
           {
            "marker": {
             "colorbar": {
              "outlinewidth": 0,
              "ticks": ""
             }
            },
            "type": "scattergl"
           }
          ],
          "scattermapbox": [
           {
            "marker": {
             "colorbar": {
              "outlinewidth": 0,
              "ticks": ""
             }
            },
            "type": "scattermapbox"
           }
          ],
          "scatterpolar": [
           {
            "marker": {
             "colorbar": {
              "outlinewidth": 0,
              "ticks": ""
             }
            },
            "type": "scatterpolar"
           }
          ],
          "scatterpolargl": [
           {
            "marker": {
             "colorbar": {
              "outlinewidth": 0,
              "ticks": ""
             }
            },
            "type": "scatterpolargl"
           }
          ],
          "scatterternary": [
           {
            "marker": {
             "colorbar": {
              "outlinewidth": 0,
              "ticks": ""
             }
            },
            "type": "scatterternary"
           }
          ],
          "surface": [
           {
            "colorbar": {
             "outlinewidth": 0,
             "ticks": ""
            },
            "colorscale": [
             [
              0,
              "#0d0887"
             ],
             [
              0.1111111111111111,
              "#46039f"
             ],
             [
              0.2222222222222222,
              "#7201a8"
             ],
             [
              0.3333333333333333,
              "#9c179e"
             ],
             [
              0.4444444444444444,
              "#bd3786"
             ],
             [
              0.5555555555555556,
              "#d8576b"
             ],
             [
              0.6666666666666666,
              "#ed7953"
             ],
             [
              0.7777777777777778,
              "#fb9f3a"
             ],
             [
              0.8888888888888888,
              "#fdca26"
             ],
             [
              1,
              "#f0f921"
             ]
            ],
            "type": "surface"
           }
          ],
          "table": [
           {
            "cells": {
             "fill": {
              "color": "#EBF0F8"
             },
             "line": {
              "color": "white"
             }
            },
            "header": {
             "fill": {
              "color": "#C8D4E3"
             },
             "line": {
              "color": "white"
             }
            },
            "type": "table"
           }
          ]
         },
         "layout": {
          "annotationdefaults": {
           "arrowcolor": "#2a3f5f",
           "arrowhead": 0,
           "arrowwidth": 1
          },
          "autotypenumbers": "strict",
          "coloraxis": {
           "colorbar": {
            "outlinewidth": 0,
            "ticks": ""
           }
          },
          "colorscale": {
           "diverging": [
            [
             0,
             "#8e0152"
            ],
            [
             0.1,
             "#c51b7d"
            ],
            [
             0.2,
             "#de77ae"
            ],
            [
             0.3,
             "#f1b6da"
            ],
            [
             0.4,
             "#fde0ef"
            ],
            [
             0.5,
             "#f7f7f7"
            ],
            [
             0.6,
             "#e6f5d0"
            ],
            [
             0.7,
             "#b8e186"
            ],
            [
             0.8,
             "#7fbc41"
            ],
            [
             0.9,
             "#4d9221"
            ],
            [
             1,
             "#276419"
            ]
           ],
           "sequential": [
            [
             0,
             "#0d0887"
            ],
            [
             0.1111111111111111,
             "#46039f"
            ],
            [
             0.2222222222222222,
             "#7201a8"
            ],
            [
             0.3333333333333333,
             "#9c179e"
            ],
            [
             0.4444444444444444,
             "#bd3786"
            ],
            [
             0.5555555555555556,
             "#d8576b"
            ],
            [
             0.6666666666666666,
             "#ed7953"
            ],
            [
             0.7777777777777778,
             "#fb9f3a"
            ],
            [
             0.8888888888888888,
             "#fdca26"
            ],
            [
             1,
             "#f0f921"
            ]
           ],
           "sequentialminus": [
            [
             0,
             "#0d0887"
            ],
            [
             0.1111111111111111,
             "#46039f"
            ],
            [
             0.2222222222222222,
             "#7201a8"
            ],
            [
             0.3333333333333333,
             "#9c179e"
            ],
            [
             0.4444444444444444,
             "#bd3786"
            ],
            [
             0.5555555555555556,
             "#d8576b"
            ],
            [
             0.6666666666666666,
             "#ed7953"
            ],
            [
             0.7777777777777778,
             "#fb9f3a"
            ],
            [
             0.8888888888888888,
             "#fdca26"
            ],
            [
             1,
             "#f0f921"
            ]
           ]
          },
          "colorway": [
           "#636efa",
           "#EF553B",
           "#00cc96",
           "#ab63fa",
           "#FFA15A",
           "#19d3f3",
           "#FF6692",
           "#B6E880",
           "#FF97FF",
           "#FECB52"
          ],
          "font": {
           "color": "#2a3f5f"
          },
          "geo": {
           "bgcolor": "white",
           "lakecolor": "white",
           "landcolor": "#E5ECF6",
           "showlakes": true,
           "showland": true,
           "subunitcolor": "white"
          },
          "hoverlabel": {
           "align": "left"
          },
          "hovermode": "closest",
          "mapbox": {
           "style": "light"
          },
          "paper_bgcolor": "white",
          "plot_bgcolor": "#E5ECF6",
          "polar": {
           "angularaxis": {
            "gridcolor": "white",
            "linecolor": "white",
            "ticks": ""
           },
           "bgcolor": "#E5ECF6",
           "radialaxis": {
            "gridcolor": "white",
            "linecolor": "white",
            "ticks": ""
           }
          },
          "scene": {
           "xaxis": {
            "backgroundcolor": "#E5ECF6",
            "gridcolor": "white",
            "gridwidth": 2,
            "linecolor": "white",
            "showbackground": true,
            "ticks": "",
            "zerolinecolor": "white"
           },
           "yaxis": {
            "backgroundcolor": "#E5ECF6",
            "gridcolor": "white",
            "gridwidth": 2,
            "linecolor": "white",
            "showbackground": true,
            "ticks": "",
            "zerolinecolor": "white"
           },
           "zaxis": {
            "backgroundcolor": "#E5ECF6",
            "gridcolor": "white",
            "gridwidth": 2,
            "linecolor": "white",
            "showbackground": true,
            "ticks": "",
            "zerolinecolor": "white"
           }
          },
          "shapedefaults": {
           "line": {
            "color": "#2a3f5f"
           }
          },
          "ternary": {
           "aaxis": {
            "gridcolor": "white",
            "linecolor": "white",
            "ticks": ""
           },
           "baxis": {
            "gridcolor": "white",
            "linecolor": "white",
            "ticks": ""
           },
           "bgcolor": "#E5ECF6",
           "caxis": {
            "gridcolor": "white",
            "linecolor": "white",
            "ticks": ""
           }
          },
          "title": {
           "x": 0.05
          },
          "xaxis": {
           "automargin": true,
           "gridcolor": "white",
           "linecolor": "white",
           "ticks": "",
           "title": {
            "standoff": 15
           },
           "zerolinecolor": "white",
           "zerolinewidth": 2
          },
          "yaxis": {
           "automargin": true,
           "gridcolor": "white",
           "linecolor": "white",
           "ticks": "",
           "title": {
            "standoff": 15
           },
           "zerolinecolor": "white",
           "zerolinewidth": 2
          }
         }
        },
        "title": {
         "text": "Score vs n_estimators"
        },
        "width": 1200,
        "xaxis": {
         "anchor": "y",
         "autorange": true,
         "domain": [
          0,
          1
         ],
         "range": [
          -0.4513274336283186,
          26.451327433628318
         ],
         "title": {
          "text": "n_estimators"
         },
         "type": "linear"
        },
        "yaxis": {
         "anchor": "x",
         "autorange": true,
         "domain": [
          0,
          1
         ],
         "range": [
          -17.0649680964689,
          287.40352743765243
         ],
         "title": {
          "text": "Score"
         },
         "type": "linear"
        }
       }
      },
      "text/html": [
       "<div>                            <div id=\"8ef009e4-f4f5-4d68-87ed-0de2fb2f0f89\" class=\"plotly-graph-div\" style=\"height:800px; width:1200px;\"></div>            <script type=\"text/javascript\">                require([\"plotly\"], function(Plotly) {                    window.PLOTLYENV=window.PLOTLYENV || {};                                    if (document.getElementById(\"8ef009e4-f4f5-4d68-87ed-0de2fb2f0f89\")) {                    Plotly.newPlot(                        \"8ef009e4-f4f5-4d68-87ed-0de2fb2f0f89\",                        [{\"hovertemplate\":\"n_estimators=%{x}<br>Score=%{y}<extra></extra>\",\"legendgroup\":\"\",\"line\":{\"color\":\"#636efa\",\"dash\":\"solid\"},\"marker\":{\"symbol\":\"circle\"},\"mode\":\"lines+markers\",\"name\":\"\",\"orientation\":\"h\",\"showlegend\":false,\"x\":[1,2,3,4,5,6,7,8,9,10,11,12,13,14,15,16,17,18,19,20,21,22,23,24,25],\"xaxis\":\"x\",\"y\":[0,1,2,3,4,5,6,7,8,9,10,11,12,13,14,15,16,17,18,19,20,21,22,23,24],\"yaxis\":\"y\",\"type\":\"scatter\"},{\"mode\":\"lines+markers\",\"name\":\"Train Data MAE\",\"x\":[1,2,3,4,5,6,7,8,9,10,11,12,13,14,15,16,17,18,19,20,21,22,23,24,25],\"y\":[179.51818181818192,153.19090909090912,176.56363636363642,196.75795454545457,181.8527272727273,183.0007575757576,167.35259740259735,167.35227272727272,167.15454545454548,157.42863636363643,163.1913223140496,176.657196969697,175.95979020979027,170.86428571428576,173.73575757575762,169.14687500000008,166.09518716577546,170.41717171717175,170.2466507177034,167.52522727272734,164.89372294372296,159.10557851239676,162.90474308300398,162.69678030303027,160.03],\"type\":\"scatter\"},{\"mode\":\"lines+markers\",\"name\":\"Test Data MAE\",\"x\":[1,2,3,4,5,6,7,8,9,10,11,12,13,14,15,16,17,18,19,20,21,22,23,24,25],\"y\":[231.49999999999986,173.8166666666667,178.35555555555547,234.29999999999995,231.0666666666666,239.88888888888889,245.26666666666668,180.10833333333326,168.77037037037027,114.58333333333333,130.8242424242425,155.83611111111108,154.42820512820512,140.30952380952377,148.00666666666675,136.625,141.89215686274505,151.9685185185186,152.87017543859656,159.88833333333332,174.03333333333345,151.87121212121224,141.7840579710145,147.54027777777773,141.60666666666657],\"type\":\"scatter\"},{\"mode\":\"lines+markers\",\"name\":\"RMSE\",\"x\":[1,2,3,4,5,6,7,8,9,10,11,12,13,14,15,16,17,18,19,20,21,22,23,24,25],\"y\":[270.33855934118355,176.87740811081557,183.22958074301002,238.46614801686212,232.06039386332165,239.97755334845615,245.98916380093453,203.57837173309926,175.65043193423432,148.32866670561907,158.03981278223037,166.78347080648976,165.55544731032643,168.4190313950724,178.30929852573797,172.41751862605685,175.209398299849,186.5885241256572,187.33135080755494,190.5187162503114,202.62385208710822,181.7802235187714,172.92395440644265,176.13738842362352,163.7057192729278],\"type\":\"scatter\"}],                        {\"template\":{\"data\":{\"histogram2dcontour\":[{\"type\":\"histogram2dcontour\",\"colorbar\":{\"outlinewidth\":0,\"ticks\":\"\"},\"colorscale\":[[0.0,\"#0d0887\"],[0.1111111111111111,\"#46039f\"],[0.2222222222222222,\"#7201a8\"],[0.3333333333333333,\"#9c179e\"],[0.4444444444444444,\"#bd3786\"],[0.5555555555555556,\"#d8576b\"],[0.6666666666666666,\"#ed7953\"],[0.7777777777777778,\"#fb9f3a\"],[0.8888888888888888,\"#fdca26\"],[1.0,\"#f0f921\"]]}],\"choropleth\":[{\"type\":\"choropleth\",\"colorbar\":{\"outlinewidth\":0,\"ticks\":\"\"}}],\"histogram2d\":[{\"type\":\"histogram2d\",\"colorbar\":{\"outlinewidth\":0,\"ticks\":\"\"},\"colorscale\":[[0.0,\"#0d0887\"],[0.1111111111111111,\"#46039f\"],[0.2222222222222222,\"#7201a8\"],[0.3333333333333333,\"#9c179e\"],[0.4444444444444444,\"#bd3786\"],[0.5555555555555556,\"#d8576b\"],[0.6666666666666666,\"#ed7953\"],[0.7777777777777778,\"#fb9f3a\"],[0.8888888888888888,\"#fdca26\"],[1.0,\"#f0f921\"]]}],\"heatmap\":[{\"type\":\"heatmap\",\"colorbar\":{\"outlinewidth\":0,\"ticks\":\"\"},\"colorscale\":[[0.0,\"#0d0887\"],[0.1111111111111111,\"#46039f\"],[0.2222222222222222,\"#7201a8\"],[0.3333333333333333,\"#9c179e\"],[0.4444444444444444,\"#bd3786\"],[0.5555555555555556,\"#d8576b\"],[0.6666666666666666,\"#ed7953\"],[0.7777777777777778,\"#fb9f3a\"],[0.8888888888888888,\"#fdca26\"],[1.0,\"#f0f921\"]]}],\"heatmapgl\":[{\"type\":\"heatmapgl\",\"colorbar\":{\"outlinewidth\":0,\"ticks\":\"\"},\"colorscale\":[[0.0,\"#0d0887\"],[0.1111111111111111,\"#46039f\"],[0.2222222222222222,\"#7201a8\"],[0.3333333333333333,\"#9c179e\"],[0.4444444444444444,\"#bd3786\"],[0.5555555555555556,\"#d8576b\"],[0.6666666666666666,\"#ed7953\"],[0.7777777777777778,\"#fb9f3a\"],[0.8888888888888888,\"#fdca26\"],[1.0,\"#f0f921\"]]}],\"contourcarpet\":[{\"type\":\"contourcarpet\",\"colorbar\":{\"outlinewidth\":0,\"ticks\":\"\"}}],\"contour\":[{\"type\":\"contour\",\"colorbar\":{\"outlinewidth\":0,\"ticks\":\"\"},\"colorscale\":[[0.0,\"#0d0887\"],[0.1111111111111111,\"#46039f\"],[0.2222222222222222,\"#7201a8\"],[0.3333333333333333,\"#9c179e\"],[0.4444444444444444,\"#bd3786\"],[0.5555555555555556,\"#d8576b\"],[0.6666666666666666,\"#ed7953\"],[0.7777777777777778,\"#fb9f3a\"],[0.8888888888888888,\"#fdca26\"],[1.0,\"#f0f921\"]]}],\"surface\":[{\"type\":\"surface\",\"colorbar\":{\"outlinewidth\":0,\"ticks\":\"\"},\"colorscale\":[[0.0,\"#0d0887\"],[0.1111111111111111,\"#46039f\"],[0.2222222222222222,\"#7201a8\"],[0.3333333333333333,\"#9c179e\"],[0.4444444444444444,\"#bd3786\"],[0.5555555555555556,\"#d8576b\"],[0.6666666666666666,\"#ed7953\"],[0.7777777777777778,\"#fb9f3a\"],[0.8888888888888888,\"#fdca26\"],[1.0,\"#f0f921\"]]}],\"mesh3d\":[{\"type\":\"mesh3d\",\"colorbar\":{\"outlinewidth\":0,\"ticks\":\"\"}}],\"scatter\":[{\"fillpattern\":{\"fillmode\":\"overlay\",\"size\":10,\"solidity\":0.2},\"type\":\"scatter\"}],\"parcoords\":[{\"type\":\"parcoords\",\"line\":{\"colorbar\":{\"outlinewidth\":0,\"ticks\":\"\"}}}],\"scatterpolargl\":[{\"type\":\"scatterpolargl\",\"marker\":{\"colorbar\":{\"outlinewidth\":0,\"ticks\":\"\"}}}],\"bar\":[{\"error_x\":{\"color\":\"#2a3f5f\"},\"error_y\":{\"color\":\"#2a3f5f\"},\"marker\":{\"line\":{\"color\":\"#E5ECF6\",\"width\":0.5},\"pattern\":{\"fillmode\":\"overlay\",\"size\":10,\"solidity\":0.2}},\"type\":\"bar\"}],\"scattergeo\":[{\"type\":\"scattergeo\",\"marker\":{\"colorbar\":{\"outlinewidth\":0,\"ticks\":\"\"}}}],\"scatterpolar\":[{\"type\":\"scatterpolar\",\"marker\":{\"colorbar\":{\"outlinewidth\":0,\"ticks\":\"\"}}}],\"histogram\":[{\"marker\":{\"pattern\":{\"fillmode\":\"overlay\",\"size\":10,\"solidity\":0.2}},\"type\":\"histogram\"}],\"scattergl\":[{\"type\":\"scattergl\",\"marker\":{\"colorbar\":{\"outlinewidth\":0,\"ticks\":\"\"}}}],\"scatter3d\":[{\"type\":\"scatter3d\",\"line\":{\"colorbar\":{\"outlinewidth\":0,\"ticks\":\"\"}},\"marker\":{\"colorbar\":{\"outlinewidth\":0,\"ticks\":\"\"}}}],\"scattermapbox\":[{\"type\":\"scattermapbox\",\"marker\":{\"colorbar\":{\"outlinewidth\":0,\"ticks\":\"\"}}}],\"scatterternary\":[{\"type\":\"scatterternary\",\"marker\":{\"colorbar\":{\"outlinewidth\":0,\"ticks\":\"\"}}}],\"scattercarpet\":[{\"type\":\"scattercarpet\",\"marker\":{\"colorbar\":{\"outlinewidth\":0,\"ticks\":\"\"}}}],\"carpet\":[{\"aaxis\":{\"endlinecolor\":\"#2a3f5f\",\"gridcolor\":\"white\",\"linecolor\":\"white\",\"minorgridcolor\":\"white\",\"startlinecolor\":\"#2a3f5f\"},\"baxis\":{\"endlinecolor\":\"#2a3f5f\",\"gridcolor\":\"white\",\"linecolor\":\"white\",\"minorgridcolor\":\"white\",\"startlinecolor\":\"#2a3f5f\"},\"type\":\"carpet\"}],\"table\":[{\"cells\":{\"fill\":{\"color\":\"#EBF0F8\"},\"line\":{\"color\":\"white\"}},\"header\":{\"fill\":{\"color\":\"#C8D4E3\"},\"line\":{\"color\":\"white\"}},\"type\":\"table\"}],\"barpolar\":[{\"marker\":{\"line\":{\"color\":\"#E5ECF6\",\"width\":0.5},\"pattern\":{\"fillmode\":\"overlay\",\"size\":10,\"solidity\":0.2}},\"type\":\"barpolar\"}],\"pie\":[{\"automargin\":true,\"type\":\"pie\"}]},\"layout\":{\"autotypenumbers\":\"strict\",\"colorway\":[\"#636efa\",\"#EF553B\",\"#00cc96\",\"#ab63fa\",\"#FFA15A\",\"#19d3f3\",\"#FF6692\",\"#B6E880\",\"#FF97FF\",\"#FECB52\"],\"font\":{\"color\":\"#2a3f5f\"},\"hovermode\":\"closest\",\"hoverlabel\":{\"align\":\"left\"},\"paper_bgcolor\":\"white\",\"plot_bgcolor\":\"#E5ECF6\",\"polar\":{\"bgcolor\":\"#E5ECF6\",\"angularaxis\":{\"gridcolor\":\"white\",\"linecolor\":\"white\",\"ticks\":\"\"},\"radialaxis\":{\"gridcolor\":\"white\",\"linecolor\":\"white\",\"ticks\":\"\"}},\"ternary\":{\"bgcolor\":\"#E5ECF6\",\"aaxis\":{\"gridcolor\":\"white\",\"linecolor\":\"white\",\"ticks\":\"\"},\"baxis\":{\"gridcolor\":\"white\",\"linecolor\":\"white\",\"ticks\":\"\"},\"caxis\":{\"gridcolor\":\"white\",\"linecolor\":\"white\",\"ticks\":\"\"}},\"coloraxis\":{\"colorbar\":{\"outlinewidth\":0,\"ticks\":\"\"}},\"colorscale\":{\"sequential\":[[0.0,\"#0d0887\"],[0.1111111111111111,\"#46039f\"],[0.2222222222222222,\"#7201a8\"],[0.3333333333333333,\"#9c179e\"],[0.4444444444444444,\"#bd3786\"],[0.5555555555555556,\"#d8576b\"],[0.6666666666666666,\"#ed7953\"],[0.7777777777777778,\"#fb9f3a\"],[0.8888888888888888,\"#fdca26\"],[1.0,\"#f0f921\"]],\"sequentialminus\":[[0.0,\"#0d0887\"],[0.1111111111111111,\"#46039f\"],[0.2222222222222222,\"#7201a8\"],[0.3333333333333333,\"#9c179e\"],[0.4444444444444444,\"#bd3786\"],[0.5555555555555556,\"#d8576b\"],[0.6666666666666666,\"#ed7953\"],[0.7777777777777778,\"#fb9f3a\"],[0.8888888888888888,\"#fdca26\"],[1.0,\"#f0f921\"]],\"diverging\":[[0,\"#8e0152\"],[0.1,\"#c51b7d\"],[0.2,\"#de77ae\"],[0.3,\"#f1b6da\"],[0.4,\"#fde0ef\"],[0.5,\"#f7f7f7\"],[0.6,\"#e6f5d0\"],[0.7,\"#b8e186\"],[0.8,\"#7fbc41\"],[0.9,\"#4d9221\"],[1,\"#276419\"]]},\"xaxis\":{\"gridcolor\":\"white\",\"linecolor\":\"white\",\"ticks\":\"\",\"title\":{\"standoff\":15},\"zerolinecolor\":\"white\",\"automargin\":true,\"zerolinewidth\":2},\"yaxis\":{\"gridcolor\":\"white\",\"linecolor\":\"white\",\"ticks\":\"\",\"title\":{\"standoff\":15},\"zerolinecolor\":\"white\",\"automargin\":true,\"zerolinewidth\":2},\"scene\":{\"xaxis\":{\"backgroundcolor\":\"#E5ECF6\",\"gridcolor\":\"white\",\"linecolor\":\"white\",\"showbackground\":true,\"ticks\":\"\",\"zerolinecolor\":\"white\",\"gridwidth\":2},\"yaxis\":{\"backgroundcolor\":\"#E5ECF6\",\"gridcolor\":\"white\",\"linecolor\":\"white\",\"showbackground\":true,\"ticks\":\"\",\"zerolinecolor\":\"white\",\"gridwidth\":2},\"zaxis\":{\"backgroundcolor\":\"#E5ECF6\",\"gridcolor\":\"white\",\"linecolor\":\"white\",\"showbackground\":true,\"ticks\":\"\",\"zerolinecolor\":\"white\",\"gridwidth\":2}},\"shapedefaults\":{\"line\":{\"color\":\"#2a3f5f\"}},\"annotationdefaults\":{\"arrowcolor\":\"#2a3f5f\",\"arrowhead\":0,\"arrowwidth\":1},\"geo\":{\"bgcolor\":\"white\",\"landcolor\":\"#E5ECF6\",\"subunitcolor\":\"white\",\"showland\":true,\"showlakes\":true,\"lakecolor\":\"white\"},\"title\":{\"x\":0.05},\"mapbox\":{\"style\":\"light\"}}},\"xaxis\":{\"anchor\":\"y\",\"domain\":[0.0,1.0],\"title\":{\"text\":\"n_estimators\"}},\"yaxis\":{\"anchor\":\"x\",\"domain\":[0.0,1.0],\"title\":{\"text\":\"Score\"}},\"legend\":{\"tracegroupgap\":0},\"title\":{\"text\":\"Score vs n_estimators\"},\"height\":800,\"width\":1200},                        {\"responsive\": true}                    ).then(function(){\n",
       "                            \n",
       "var gd = document.getElementById('8ef009e4-f4f5-4d68-87ed-0de2fb2f0f89');\n",
       "var x = new MutationObserver(function (mutations, observer) {{\n",
       "        var display = window.getComputedStyle(gd).display;\n",
       "        if (!display || display === 'none') {{\n",
       "            console.log([gd, 'removed!']);\n",
       "            Plotly.purge(gd);\n",
       "            observer.disconnect();\n",
       "        }}\n",
       "}});\n",
       "\n",
       "// Listen for the removal of the full notebook cells\n",
       "var notebookContainer = gd.closest('#notebook-container');\n",
       "if (notebookContainer) {{\n",
       "    x.observe(notebookContainer, {childList: true});\n",
       "}}\n",
       "\n",
       "// Listen for the clearing of the current output cell\n",
       "var outputEl = gd.closest('.output');\n",
       "if (outputEl) {{\n",
       "    x.observe(outputEl, {childList: true});\n",
       "}}\n",
       "\n",
       "                        })                };                });            </script>        </div>"
      ]
     },
     "metadata": {},
     "output_type": "display_data"
    },
    {
     "name": "stdout",
     "output_type": "stream",
     "text": [
      "최적 n_estimators: 10\n",
      "최적 MAE: 114.58333333333333\n",
      "최적 RMSE: 148.32866670561907\n"
     ]
    }
   ],
   "source": [
    "import pandas as pd\n",
    "import numpy as np\n",
    "import matplotlib.pyplot as plt\n",
    "import plotly.express as px\n",
    "from sklearn.ensemble import RandomForestRegressor\n",
    "from sklearn.model_selection import train_test_split\n",
    "from sklearn.metrics import mean_absolute_error\n",
    "from math import sqrt\n",
    "\n",
    "# X = df[['월평균_총생활인구수', '연령대60_평균', '연령대_20_거주인구수', '연령대_30_거주인구수', '1인가구','2인가구']]\n",
    "\n",
    "y = df.iloc[:, 0]\n",
    "X = df[['월평균_총생활인구수', '2030_거주인구수', '1인가구']]\n",
    "\n",
    "# 데이터 분할 (random_state 설정)\n",
    "X_train, X_test, y_train, y_test = train_test_split(X, y, test_size=0.1, random_state=0)\n",
    "\n",
    "# n_estimators 범위\n",
    "n_estimators_range = list(range(1,26))\n",
    "best_n_estimators = None\n",
    "best_mae = float('inf')  # MAE 최소화\n",
    "best_rmse = float('inf')  # RMSE 최소화\n",
    "\n",
    "# n_estimators 범위 평가 및 MAE, RMSE 기록\n",
    "train_mae_scores = []  # 훈련 데이터 MAE를 기록할 리스트\n",
    "test_mae_scores = []   # 테스트 데이터 MAE를 기록할 리스트\n",
    "rmse_scores = []       # RMSE를 기록할 리스트\n",
    "\n",
    "for n_estimators in n_estimators_range:\n",
    "    model = RandomForestRegressor(n_estimators=n_estimators, max_depth=10, random_state=0)\n",
    "    model.fit(X_train, y_train)\n",
    "\n",
    "    # Train Data MAE\n",
    "    y_train_pred = model.predict(X_train)\n",
    "    train_mae = mean_absolute_error(y_train, y_train_pred)\n",
    "    train_mae_scores.append(train_mae)\n",
    "    \n",
    "    # Test Data MAE\n",
    "    y_test_pred = model.predict(X_test)\n",
    "    test_mae = mean_absolute_error(y_test, y_test_pred)\n",
    "    test_mae_scores.append(test_mae)\n",
    "\n",
    "    # RMSE 계산\n",
    "    train_rmse = sqrt(np.mean((y_train - y_train_pred) ** 2))\n",
    "    test_rmse = sqrt(np.mean((y_test - y_test_pred) ** 2))\n",
    "    rmse_scores.append(test_rmse)\n",
    "\n",
    "    # 현재의 n_estimators 값이 이전보다 더 좋으면 최적값 업데이트\n",
    "    if test_mae < best_mae:\n",
    "        best_mae = test_mae\n",
    "        best_n_estimators = n_estimators\n",
    "\n",
    "    if test_rmse < best_rmse:\n",
    "        best_rmse = test_rmse\n",
    "\n",
    "# 피처 중요도 계산\n",
    "model = RandomForestRegressor(n_estimators=best_n_estimators, max_depth=15, random_state=0)\n",
    "model.fit(X_train, y_train)\n",
    "feature_importance = model.feature_importances_\n",
    "\n",
    "# 피처 중요도를 내림차순으로 정렬\n",
    "sorted_indices = feature_importance.argsort()[::-1]\n",
    "sorted_features = X.columns[sorted_indices]\n",
    "sorted_importance = feature_importance[sorted_indices]\n",
    "\n",
    "# 피처 중요도 시각화\n",
    "fig, ax = plt.subplots(figsize=(10, 6))\n",
    "ax.barh(sorted_features, sorted_importance)\n",
    "ax.set_xlabel('Feature Importance')\n",
    "ax.set_title('Feature Importance')\n",
    "\n",
    "# 그래프 출력\n",
    "plt.show()\n",
    "\n",
    "\n",
    "# MAE, RMSE, n_estimators 관계 시각화\n",
    "fig = px.line(x=n_estimators_range, labels={'x': 'n_estimators', 'y': 'Score'}, title='Score vs n_estimators', width=1200, height=800)\n",
    "fig.add_scatter(x=n_estimators_range, y=train_mae_scores, mode='lines+markers', name='Train Data MAE')\n",
    "fig.add_scatter(x=n_estimators_range, y=test_mae_scores, mode='lines+markers', name='Test Data MAE')\n",
    "fig.add_scatter(x=n_estimators_range, y=rmse_scores, mode='lines+markers', name='RMSE')\n",
    "fig.update_traces(mode='lines+markers')\n",
    "\n",
    "# Display the figure\n",
    "fig.show()\n",
    "\n",
    "# 최적값 출력\n",
    "print(f\"최적 n_estimators: {best_n_estimators}\")\n",
    "print(f\"최적 MAE: {best_mae}\")\n",
    "print(f\"최적 RMSE: {best_rmse}\")\n"
   ]
  },
  {
   "cell_type": "code",
   "execution_count": 10,
   "id": "b5ae4e0f-6c1e-4673-b2fa-1bd051a31e03",
   "metadata": {},
   "outputs": [],
   "source": [
    "# 2인가구"
   ]
  },
  {
   "cell_type": "code",
   "execution_count": 11,
   "id": "9d23cafe-c6dc-4cc5-97f1-a439a9a7ecfc",
   "metadata": {},
   "outputs": [
    {
     "data": {
      "image/png": "[encoded data removed]",
      "text/plain": [
       "<Figure size 1000x600 with 1 Axes>"
      ]
     },
     "metadata": {},
     "output_type": "display_data"
    },
    {
     "data": {
      "application/vnd.plotly.v1+json": {
       "config": {
        "plotlyServerURL": "https://plot.ly"
       },
       "data": [
        {
         "hovertemplate": "n_estimators=%{x}<br>Score=%{y}<extra></extra>",
         "legendgroup": "",
         "line": {
          "color": "#636efa",
          "dash": "solid"
         },
         "marker": {
          "symbol": "circle"
         },
         "mode": "lines+markers",
         "name": "",
         "orientation": "h",
         "showlegend": false,
         "type": "scatter",
         "x": [
          1,
          2,
          3,
          4,
          5,
          6,
          7,
          8,
          9,
          10,
          11,
          12,
          13,
          14,
          15,
          16,
          17,
          18,
          19,
          20,
          21,
          22,
          23,
          24,
          25
         ],
         "xaxis": "x",
         "y": [
          0,
          1,
          2,
          3,
          4,
          5,
          6,
          7,
          8,
          9,
          10,
          11,
          12,
          13,
          14,
          15,
          16,
          17,
          18,
          19,
          20,
          21,
          22,
          23,
          24
         ],
         "yaxis": "y"
        },
        {
         "mode": "lines+markers",
         "name": "Train Data MAE",
         "type": "scatter",
         "x": [
          1,
          2,
          3,
          4,
          5,
          6,
          7,
          8,
          9,
          10,
          11,
          12,
          13,
          14,
          15,
          16,
          17,
          18,
          19,
          20,
          21,
          22,
          23,
          24,
          25
         ],
         "y": [
          174.65909090909105,
          162.06818181818187,
          173.12878787878793,
          166.59431818181815,
          159.86090909090913,
          161.27727272727273,
          146.67727272727276,
          149.6147727272727,
          152.23080808080806,
          159.0659090909091,
          163.5326446280992,
          164.81250000000003,
          162.35384615384618,
          160.55,
          164.77757575757576,
          163.77187500000002,
          161.01122994652408,
          162.05126262626266,
          159.77057416267945,
          156.2527272727273,
          152.7991341991342,
          148.15185950413226,
          151.39743083003958,
          152.12708333333327,
          149.9143636363636
         ]
        },
        {
         "mode": "lines+markers",
         "name": "Test Data MAE",
         "type": "scatter",
         "x": [
          1,
          2,
          3,
          4,
          5,
          6,
          7,
          8,
          9,
          10,
          11,
          12,
          13,
          14,
          15,
          16,
          17,
          18,
          19,
          20,
          21,
          22,
          23,
          24,
          25
         ],
         "y": [
          198.66666666666666,
          201.6,
          242.15555555555557,
          219.775,
          174.7266666666667,
          111.33888888888892,
          85.82380952380966,
          110.6708333333335,
          146.2592592592595,
          151.9466666666668,
          155.7212121212123,
          178.65833333333353,
          187.92820512820526,
          190.9500000000002,
          178.90888888888912,
          178.89375000000027,
          178.21372549019625,
          158.57407407407428,
          179.34385964912295,
          185.0383333333335,
          203.44444444444466,
          203.15909090909108,
          200.9623188405798,
          202.01249999999996,
          196.58266666666668
         ]
        },
        {
         "mode": "lines+markers",
         "name": "RMSE",
         "type": "scatter",
         "x": [
          1,
          2,
          3,
          4,
          5,
          6,
          7,
          8,
          9,
          10,
          11,
          12,
          13,
          14,
          15,
          16,
          17,
          18,
          19,
          20,
          21,
          22,
          23,
          24,
          25
         ],
         "y": [
          200.36528308733196,
          203.8356364001807,
          257.3592459607416,
          226.69623627591764,
          177.6606071512009,
          131.32442475425907,
          111.89815856910471,
          169.7994909751402,
          217.10811950628576,
          209.3876094710479,
          207.84323929637986,
          238.99100793753757,
          242.53606071985874,
          237.71214002150913,
          232.17875530464656,
          225.60490818320932,
          228.68902556796425,
          215.08264020915695,
          241.47328098438342,
          237.99749891893143,
          256.790577652248,
          248.53842790326854,
          243.54704890093714,
          241.00740039016247,
          233.79541318568818
         ]
        }
       ],
       "layout": {
        "height": 800,
        "legend": {
         "tracegroupgap": 0
        },
        "template": {
         "data": {
          "bar": [
           {
            "error_x": {
             "color": "#2a3f5f"
            },
            "error_y": {
             "color": "#2a3f5f"
            },
            "marker": {
             "line": {
              "color": "#E5ECF6",
              "width": 0.5
             },
             "pattern": {
              "fillmode": "overlay",
              "size": 10,
              "solidity": 0.2
             }
            },
            "type": "bar"
           }
          ],
          "barpolar": [
           {
            "marker": {
             "line": {
              "color": "#E5ECF6",
              "width": 0.5
             },
             "pattern": {
              "fillmode": "overlay",
              "size": 10,
              "solidity": 0.2
             }
            },
            "type": "barpolar"
           }
          ],
          "carpet": [
           {
            "aaxis": {
             "endlinecolor": "#2a3f5f",
             "gridcolor": "white",
             "linecolor": "white",
             "minorgridcolor": "white",
             "startlinecolor": "#2a3f5f"
            },
            "baxis": {
             "endlinecolor": "#2a3f5f",
             "gridcolor": "white",
             "linecolor": "white",
             "minorgridcolor": "white",
             "startlinecolor": "#2a3f5f"
            },
            "type": "carpet"
           }
          ],
          "choropleth": [
           {
            "colorbar": {
             "outlinewidth": 0,
             "ticks": ""
            },
            "type": "choropleth"
           }
          ],
          "contour": [
           {
            "colorbar": {
             "outlinewidth": 0,
             "ticks": ""
            },
            "colorscale": [
             [
              0,
              "#0d0887"
             ],
             [
              0.1111111111111111,
              "#46039f"
             ],
             [
              0.2222222222222222,
              "#7201a8"
             ],
             [
              0.3333333333333333,
              "#9c179e"
             ],
             [
              0.4444444444444444,
              "#bd3786"
             ],
             [
              0.5555555555555556,
              "#d8576b"
             ],
             [
              0.6666666666666666,
              "#ed7953"
             ],
             [
              0.7777777777777778,
              "#fb9f3a"
             ],
             [
              0.8888888888888888,
              "#fdca26"
             ],
             [
              1,
              "#f0f921"
             ]
            ],
            "type": "contour"
           }
          ],
          "contourcarpet": [
           {
            "colorbar": {
             "outlinewidth": 0,
             "ticks": ""
            },
            "type": "contourcarpet"
           }
          ],
          "heatmap": [
           {
            "colorbar": {
             "outlinewidth": 0,
             "ticks": ""
            },
            "colorscale": [
             [
              0,
              "#0d0887"
             ],
             [
              0.1111111111111111,
              "#46039f"
             ],
             [
              0.2222222222222222,
              "#7201a8"
             ],
             [
              0.3333333333333333,
              "#9c179e"
             ],
             [
              0.4444444444444444,
              "#bd3786"
             ],
             [
              0.5555555555555556,
              "#d8576b"
             ],
             [
              0.6666666666666666,
              "#ed7953"
             ],
             [
              0.7777777777777778,
              "#fb9f3a"
             ],
             [
              0.8888888888888888,
              "#fdca26"
             ],
             [
              1,
              "#f0f921"
             ]
            ],
            "type": "heatmap"
           }
          ],
          "heatmapgl": [
           {
            "colorbar": {
             "outlinewidth": 0,
             "ticks": ""
            },
            "colorscale": [
             [
              0,
              "#0d0887"
             ],
             [
              0.1111111111111111,
              "#46039f"
             ],
             [
              0.2222222222222222,
              "#7201a8"
             ],
             [
              0.3333333333333333,
              "#9c179e"
             ],
             [
              0.4444444444444444,
              "#bd3786"
             ],
             [
              0.5555555555555556,
              "#d8576b"
             ],
             [
              0.6666666666666666,
              "#ed7953"
             ],
             [
              0.7777777777777778,
              "#fb9f3a"
             ],
             [
              0.8888888888888888,
              "#fdca26"
             ],
             [
              1,
              "#f0f921"
             ]
            ],
            "type": "heatmapgl"
           }
          ],
          "histogram": [
           {
            "marker": {
             "pattern": {
              "fillmode": "overlay",
              "size": 10,
              "solidity": 0.2
             }
            },
            "type": "histogram"
           }
          ],
          "histogram2d": [
           {
            "colorbar": {
             "outlinewidth": 0,
             "ticks": ""
            },
            "colorscale": [
             [
              0,
              "#0d0887"
             ],
             [
              0.1111111111111111,
              "#46039f"
             ],
             [
              0.2222222222222222,
              "#7201a8"
             ],
             [
              0.3333333333333333,
              "#9c179e"
             ],
             [
              0.4444444444444444,
              "#bd3786"
             ],
             [
              0.5555555555555556,
              "#d8576b"
             ],
             [
              0.6666666666666666,
              "#ed7953"
             ],
             [
              0.7777777777777778,
              "#fb9f3a"
             ],
             [
              0.8888888888888888,
              "#fdca26"
             ],
             [
              1,
              "#f0f921"
             ]
            ],
            "type": "histogram2d"
           }
          ],
          "histogram2dcontour": [
           {
            "colorbar": {
             "outlinewidth": 0,
             "ticks": ""
            },
            "colorscale": [
             [
              0,
              "#0d0887"
             ],
             [
              0.1111111111111111,
              "#46039f"
             ],
             [
              0.2222222222222222,
              "#7201a8"
             ],
             [
              0.3333333333333333,
              "#9c179e"
             ],
             [
              0.4444444444444444,
              "#bd3786"
             ],
             [
              0.5555555555555556,
              "#d8576b"
             ],
             [
              0.6666666666666666,
              "#ed7953"
             ],
             [
              0.7777777777777778,
              "#fb9f3a"
             ],
             [
              0.8888888888888888,
              "#fdca26"
             ],
             [
              1,
              "#f0f921"
             ]
            ],
            "type": "histogram2dcontour"
           }
          ],
          "mesh3d": [
           {
            "colorbar": {
             "outlinewidth": 0,
             "ticks": ""
            },
            "type": "mesh3d"
           }
          ],
          "parcoords": [
           {
            "line": {
             "colorbar": {
              "outlinewidth": 0,
              "ticks": ""
             }
            },
            "type": "parcoords"
           }
          ],
          "pie": [
           {
            "automargin": true,
            "type": "pie"
           }
          ],
          "scatter": [
           {
            "fillpattern": {
             "fillmode": "overlay",
             "size": 10,
             "solidity": 0.2
            },
            "type": "scatter"
           }
          ],
          "scatter3d": [
           {
            "line": {
             "colorbar": {
              "outlinewidth": 0,
              "ticks": ""
             }
            },
            "marker": {
             "colorbar": {
              "outlinewidth": 0,
              "ticks": ""
             }
            },
            "type": "scatter3d"
           }
          ],
          "scattercarpet": [
           {
            "marker": {
             "colorbar": {
              "outlinewidth": 0,
              "ticks": ""
             }
            },
            "type": "scattercarpet"
           }
          ],
          "scattergeo": [
           {
            "marker": {
             "colorbar": {
              "outlinewidth": 0,
              "ticks": ""
             }
            },
            "type": "scattergeo"
           }
          ],
          "scattergl": [
           {
            "marker": {
             "colorbar": {
              "outlinewidth": 0,
              "ticks": ""
             }
            },
            "type": "scattergl"
           }
          ],
          "scattermapbox": [
           {
            "marker": {
             "colorbar": {
              "outlinewidth": 0,
              "ticks": ""
             }
            },
            "type": "scattermapbox"
           }
          ],
          "scatterpolar": [
           {
            "marker": {
             "colorbar": {
              "outlinewidth": 0,
              "ticks": ""
             }
            },
            "type": "scatterpolar"
           }
          ],
          "scatterpolargl": [
           {
            "marker": {
             "colorbar": {
              "outlinewidth": 0,
              "ticks": ""
             }
            },
            "type": "scatterpolargl"
           }
          ],
          "scatterternary": [
           {
            "marker": {
             "colorbar": {
              "outlinewidth": 0,
              "ticks": ""
             }
            },
            "type": "scatterternary"
           }
          ],
          "surface": [
           {
            "colorbar": {
             "outlinewidth": 0,
             "ticks": ""
            },
            "colorscale": [
             [
              0,
              "#0d0887"
             ],
             [
              0.1111111111111111,
              "#46039f"
             ],
             [
              0.2222222222222222,
              "#7201a8"
             ],
             [
              0.3333333333333333,
              "#9c179e"
             ],
             [
              0.4444444444444444,
              "#bd3786"
             ],
             [
              0.5555555555555556,
              "#d8576b"
             ],
             [
              0.6666666666666666,
              "#ed7953"
             ],
             [
              0.7777777777777778,
              "#fb9f3a"
             ],
             [
              0.8888888888888888,
              "#fdca26"
             ],
             [
              1,
              "#f0f921"
             ]
            ],
            "type": "surface"
           }
          ],
          "table": [
           {
            "cells": {
             "fill": {
              "color": "#EBF0F8"
             },
             "line": {
              "color": "white"
             }
            },
            "header": {
             "fill": {
              "color": "#C8D4E3"
             },
             "line": {
              "color": "white"
             }
            },
            "type": "table"
           }
          ]
         },
         "layout": {
          "annotationdefaults": {
           "arrowcolor": "#2a3f5f",
           "arrowhead": 0,
           "arrowwidth": 1
          },
          "autotypenumbers": "strict",
          "coloraxis": {
           "colorbar": {
            "outlinewidth": 0,
            "ticks": ""
           }
          },
          "colorscale": {
           "diverging": [
            [
             0,
             "#8e0152"
            ],
            [
             0.1,
             "#c51b7d"
            ],
            [
             0.2,
             "#de77ae"
            ],
            [
             0.3,
             "#f1b6da"
            ],
            [
             0.4,
             "#fde0ef"
            ],
            [
             0.5,
             "#f7f7f7"
            ],
            [
             0.6,
             "#e6f5d0"
            ],
            [
             0.7,
             "#b8e186"
            ],
            [
             0.8,
             "#7fbc41"
            ],
            [
             0.9,
             "#4d9221"
            ],
            [
             1,
             "#276419"
            ]
           ],
           "sequential": [
            [
             0,
             "#0d0887"
            ],
            [
             0.1111111111111111,
             "#46039f"
            ],
            [
             0.2222222222222222,
             "#7201a8"
            ],
            [
             0.3333333333333333,
             "#9c179e"
            ],
            [
             0.4444444444444444,
             "#bd3786"
            ],
            [
             0.5555555555555556,
             "#d8576b"
            ],
            [
             0.6666666666666666,
             "#ed7953"
            ],
            [
             0.7777777777777778,
             "#fb9f3a"
            ],
            [
             0.8888888888888888,
             "#fdca26"
            ],
            [
             1,
             "#f0f921"
            ]
           ],
           "sequentialminus": [
            [
             0,
             "#0d0887"
            ],
            [
             0.1111111111111111,
             "#46039f"
            ],
            [
             0.2222222222222222,
             "#7201a8"
            ],
            [
             0.3333333333333333,
             "#9c179e"
            ],
            [
             0.4444444444444444,
             "#bd3786"
            ],
            [
             0.5555555555555556,
             "#d8576b"
            ],
            [
             0.6666666666666666,
             "#ed7953"
            ],
            [
             0.7777777777777778,
             "#fb9f3a"
            ],
            [
             0.8888888888888888,
             "#fdca26"
            ],
            [
             1,
             "#f0f921"
            ]
           ]
          },
          "colorway": [
           "#636efa",
           "#EF553B",
           "#00cc96",
           "#ab63fa",
           "#FFA15A",
           "#19d3f3",
           "#FF6692",
           "#B6E880",
           "#FF97FF",
           "#FECB52"
          ],
          "font": {
           "color": "#2a3f5f"
          },
          "geo": {
           "bgcolor": "white",
           "lakecolor": "white",
           "landcolor": "#E5ECF6",
           "showlakes": true,
           "showland": true,
           "subunitcolor": "white"
          },
          "hoverlabel": {
           "align": "left"
          },
          "hovermode": "closest",
          "mapbox": {
           "style": "light"
          },
          "paper_bgcolor": "white",
          "plot_bgcolor": "#E5ECF6",
          "polar": {
           "angularaxis": {
            "gridcolor": "white",
            "linecolor": "white",
            "ticks": ""
           },
           "bgcolor": "#E5ECF6",
           "radialaxis": {
            "gridcolor": "white",
            "linecolor": "white",
            "ticks": ""
           }
          },
          "scene": {
           "xaxis": {
            "backgroundcolor": "#E5ECF6",
            "gridcolor": "white",
            "gridwidth": 2,
            "linecolor": "white",
            "showbackground": true,
            "ticks": "",
            "zerolinecolor": "white"
           },
           "yaxis": {
            "backgroundcolor": "#E5ECF6",
            "gridcolor": "white",
            "gridwidth": 2,
            "linecolor": "white",
            "showbackground": true,
            "ticks": "",
            "zerolinecolor": "white"
           },
           "zaxis": {
            "backgroundcolor": "#E5ECF6",
            "gridcolor": "white",
            "gridwidth": 2,
            "linecolor": "white",
            "showbackground": true,
            "ticks": "",
            "zerolinecolor": "white"
           }
          },
          "shapedefaults": {
           "line": {
            "color": "#2a3f5f"
           }
          },
          "ternary": {
           "aaxis": {
            "gridcolor": "white",
            "linecolor": "white",
            "ticks": ""
           },
           "baxis": {
            "gridcolor": "white",
            "linecolor": "white",
            "ticks": ""
           },
           "bgcolor": "#E5ECF6",
           "caxis": {
            "gridcolor": "white",
            "linecolor": "white",
            "ticks": ""
           }
          },
          "title": {
           "x": 0.05
          },
          "xaxis": {
           "automargin": true,
           "gridcolor": "white",
           "linecolor": "white",
           "ticks": "",
           "title": {
            "standoff": 15
           },
           "zerolinecolor": "white",
           "zerolinewidth": 2
          },
          "yaxis": {
           "automargin": true,
           "gridcolor": "white",
           "linecolor": "white",
           "ticks": "",
           "title": {
            "standoff": 15
           },
           "zerolinecolor": "white",
           "zerolinewidth": 2
          }
         }
        },
        "title": {
         "text": "Score vs n_estimators"
        },
        "width": 1200,
        "xaxis": {
         "anchor": "y",
         "autorange": true,
         "domain": [
          0,
          1
         ],
         "range": [
          -0.4513274336283186,
          26.451327433628318
         ],
         "title": {
          "text": "n_estimators"
         },
         "type": "linear"
        },
        "yaxis": {
         "anchor": "x",
         "autorange": true,
         "domain": [
          0,
          1
         ],
         "range": [
          -16.24565630724027,
          273.60490226798186
         ],
         "title": {
          "text": "Score"
         },
         "type": "linear"
        }
       }
      },
      "text/html": [
       "<div>                            <div id=\"a1c61da6-36a0-4dd9-8003-e7222c3505ac\" class=\"plotly-graph-div\" style=\"height:800px; width:1200px;\"></div>            <script type=\"text/javascript\">                require([\"plotly\"], function(Plotly) {                    window.PLOTLYENV=window.PLOTLYENV || {};                                    if (document.getElementById(\"a1c61da6-36a0-4dd9-8003-e7222c3505ac\")) {                    Plotly.newPlot(                        \"a1c61da6-36a0-4dd9-8003-e7222c3505ac\",                        [{\"hovertemplate\":\"n_estimators=%{x}<br>Score=%{y}<extra></extra>\",\"legendgroup\":\"\",\"line\":{\"color\":\"#636efa\",\"dash\":\"solid\"},\"marker\":{\"symbol\":\"circle\"},\"mode\":\"lines+markers\",\"name\":\"\",\"orientation\":\"h\",\"showlegend\":false,\"x\":[1,2,3,4,5,6,7,8,9,10,11,12,13,14,15,16,17,18,19,20,21,22,23,24,25],\"xaxis\":\"x\",\"y\":[0,1,2,3,4,5,6,7,8,9,10,11,12,13,14,15,16,17,18,19,20,21,22,23,24],\"yaxis\":\"y\",\"type\":\"scatter\"},{\"mode\":\"lines+markers\",\"name\":\"Train Data MAE\",\"x\":[1,2,3,4,5,6,7,8,9,10,11,12,13,14,15,16,17,18,19,20,21,22,23,24,25],\"y\":[174.65909090909105,162.06818181818187,173.12878787878793,166.59431818181815,159.86090909090913,161.27727272727273,146.67727272727276,149.6147727272727,152.23080808080806,159.0659090909091,163.5326446280992,164.81250000000003,162.35384615384618,160.55,164.77757575757576,163.77187500000002,161.01122994652408,162.05126262626266,159.77057416267945,156.2527272727273,152.7991341991342,148.15185950413226,151.39743083003958,152.12708333333327,149.9143636363636],\"type\":\"scatter\"},{\"mode\":\"lines+markers\",\"name\":\"Test Data MAE\",\"x\":[1,2,3,4,5,6,7,8,9,10,11,12,13,14,15,16,17,18,19,20,21,22,23,24,25],\"y\":[198.66666666666666,201.6,242.15555555555557,219.775,174.7266666666667,111.33888888888892,85.82380952380966,110.6708333333335,146.2592592592595,151.9466666666668,155.7212121212123,178.65833333333353,187.92820512820526,190.9500000000002,178.90888888888912,178.89375000000027,178.21372549019625,158.57407407407428,179.34385964912295,185.0383333333335,203.44444444444466,203.15909090909108,200.9623188405798,202.01249999999996,196.58266666666668],\"type\":\"scatter\"},{\"mode\":\"lines+markers\",\"name\":\"RMSE\",\"x\":[1,2,3,4,5,6,7,8,9,10,11,12,13,14,15,16,17,18,19,20,21,22,23,24,25],\"y\":[200.36528308733196,203.8356364001807,257.3592459607416,226.69623627591764,177.6606071512009,131.32442475425907,111.89815856910471,169.7994909751402,217.10811950628576,209.3876094710479,207.84323929637986,238.99100793753757,242.53606071985874,237.71214002150913,232.17875530464656,225.60490818320932,228.68902556796425,215.08264020915695,241.47328098438342,237.99749891893143,256.790577652248,248.53842790326854,243.54704890093714,241.00740039016247,233.79541318568818],\"type\":\"scatter\"}],                        {\"template\":{\"data\":{\"histogram2dcontour\":[{\"type\":\"histogram2dcontour\",\"colorbar\":{\"outlinewidth\":0,\"ticks\":\"\"},\"colorscale\":[[0.0,\"#0d0887\"],[0.1111111111111111,\"#46039f\"],[0.2222222222222222,\"#7201a8\"],[0.3333333333333333,\"#9c179e\"],[0.4444444444444444,\"#bd3786\"],[0.5555555555555556,\"#d8576b\"],[0.6666666666666666,\"#ed7953\"],[0.7777777777777778,\"#fb9f3a\"],[0.8888888888888888,\"#fdca26\"],[1.0,\"#f0f921\"]]}],\"choropleth\":[{\"type\":\"choropleth\",\"colorbar\":{\"outlinewidth\":0,\"ticks\":\"\"}}],\"histogram2d\":[{\"type\":\"histogram2d\",\"colorbar\":{\"outlinewidth\":0,\"ticks\":\"\"},\"colorscale\":[[0.0,\"#0d0887\"],[0.1111111111111111,\"#46039f\"],[0.2222222222222222,\"#7201a8\"],[0.3333333333333333,\"#9c179e\"],[0.4444444444444444,\"#bd3786\"],[0.5555555555555556,\"#d8576b\"],[0.6666666666666666,\"#ed7953\"],[0.7777777777777778,\"#fb9f3a\"],[0.8888888888888888,\"#fdca26\"],[1.0,\"#f0f921\"]]}],\"heatmap\":[{\"type\":\"heatmap\",\"colorbar\":{\"outlinewidth\":0,\"ticks\":\"\"},\"colorscale\":[[0.0,\"#0d0887\"],[0.1111111111111111,\"#46039f\"],[0.2222222222222222,\"#7201a8\"],[0.3333333333333333,\"#9c179e\"],[0.4444444444444444,\"#bd3786\"],[0.5555555555555556,\"#d8576b\"],[0.6666666666666666,\"#ed7953\"],[0.7777777777777778,\"#fb9f3a\"],[0.8888888888888888,\"#fdca26\"],[1.0,\"#f0f921\"]]}],\"heatmapgl\":[{\"type\":\"heatmapgl\",\"colorbar\":{\"outlinewidth\":0,\"ticks\":\"\"},\"colorscale\":[[0.0,\"#0d0887\"],[0.1111111111111111,\"#46039f\"],[0.2222222222222222,\"#7201a8\"],[0.3333333333333333,\"#9c179e\"],[0.4444444444444444,\"#bd3786\"],[0.5555555555555556,\"#d8576b\"],[0.6666666666666666,\"#ed7953\"],[0.7777777777777778,\"#fb9f3a\"],[0.8888888888888888,\"#fdca26\"],[1.0,\"#f0f921\"]]}],\"contourcarpet\":[{\"type\":\"contourcarpet\",\"colorbar\":{\"outlinewidth\":0,\"ticks\":\"\"}}],\"contour\":[{\"type\":\"contour\",\"colorbar\":{\"outlinewidth\":0,\"ticks\":\"\"},\"colorscale\":[[0.0,\"#0d0887\"],[0.1111111111111111,\"#46039f\"],[0.2222222222222222,\"#7201a8\"],[0.3333333333333333,\"#9c179e\"],[0.4444444444444444,\"#bd3786\"],[0.5555555555555556,\"#d8576b\"],[0.6666666666666666,\"#ed7953\"],[0.7777777777777778,\"#fb9f3a\"],[0.8888888888888888,\"#fdca26\"],[1.0,\"#f0f921\"]]}],\"surface\":[{\"type\":\"surface\",\"colorbar\":{\"outlinewidth\":0,\"ticks\":\"\"},\"colorscale\":[[0.0,\"#0d0887\"],[0.1111111111111111,\"#46039f\"],[0.2222222222222222,\"#7201a8\"],[0.3333333333333333,\"#9c179e\"],[0.4444444444444444,\"#bd3786\"],[0.5555555555555556,\"#d8576b\"],[0.6666666666666666,\"#ed7953\"],[0.7777777777777778,\"#fb9f3a\"],[0.8888888888888888,\"#fdca26\"],[1.0,\"#f0f921\"]]}],\"mesh3d\":[{\"type\":\"mesh3d\",\"colorbar\":{\"outlinewidth\":0,\"ticks\":\"\"}}],\"scatter\":[{\"fillpattern\":{\"fillmode\":\"overlay\",\"size\":10,\"solidity\":0.2},\"type\":\"scatter\"}],\"parcoords\":[{\"type\":\"parcoords\",\"line\":{\"colorbar\":{\"outlinewidth\":0,\"ticks\":\"\"}}}],\"scatterpolargl\":[{\"type\":\"scatterpolargl\",\"marker\":{\"colorbar\":{\"outlinewidth\":0,\"ticks\":\"\"}}}],\"bar\":[{\"error_x\":{\"color\":\"#2a3f5f\"},\"error_y\":{\"color\":\"#2a3f5f\"},\"marker\":{\"line\":{\"color\":\"#E5ECF6\",\"width\":0.5},\"pattern\":{\"fillmode\":\"overlay\",\"size\":10,\"solidity\":0.2}},\"type\":\"bar\"}],\"scattergeo\":[{\"type\":\"scattergeo\",\"marker\":{\"colorbar\":{\"outlinewidth\":0,\"ticks\":\"\"}}}],\"scatterpolar\":[{\"type\":\"scatterpolar\",\"marker\":{\"colorbar\":{\"outlinewidth\":0,\"ticks\":\"\"}}}],\"histogram\":[{\"marker\":{\"pattern\":{\"fillmode\":\"overlay\",\"size\":10,\"solidity\":0.2}},\"type\":\"histogram\"}],\"scattergl\":[{\"type\":\"scattergl\",\"marker\":{\"colorbar\":{\"outlinewidth\":0,\"ticks\":\"\"}}}],\"scatter3d\":[{\"type\":\"scatter3d\",\"line\":{\"colorbar\":{\"outlinewidth\":0,\"ticks\":\"\"}},\"marker\":{\"colorbar\":{\"outlinewidth\":0,\"ticks\":\"\"}}}],\"scattermapbox\":[{\"type\":\"scattermapbox\",\"marker\":{\"colorbar\":{\"outlinewidth\":0,\"ticks\":\"\"}}}],\"scatterternary\":[{\"type\":\"scatterternary\",\"marker\":{\"colorbar\":{\"outlinewidth\":0,\"ticks\":\"\"}}}],\"scattercarpet\":[{\"type\":\"scattercarpet\",\"marker\":{\"colorbar\":{\"outlinewidth\":0,\"ticks\":\"\"}}}],\"carpet\":[{\"aaxis\":{\"endlinecolor\":\"#2a3f5f\",\"gridcolor\":\"white\",\"linecolor\":\"white\",\"minorgridcolor\":\"white\",\"startlinecolor\":\"#2a3f5f\"},\"baxis\":{\"endlinecolor\":\"#2a3f5f\",\"gridcolor\":\"white\",\"linecolor\":\"white\",\"minorgridcolor\":\"white\",\"startlinecolor\":\"#2a3f5f\"},\"type\":\"carpet\"}],\"table\":[{\"cells\":{\"fill\":{\"color\":\"#EBF0F8\"},\"line\":{\"color\":\"white\"}},\"header\":{\"fill\":{\"color\":\"#C8D4E3\"},\"line\":{\"color\":\"white\"}},\"type\":\"table\"}],\"barpolar\":[{\"marker\":{\"line\":{\"color\":\"#E5ECF6\",\"width\":0.5},\"pattern\":{\"fillmode\":\"overlay\",\"size\":10,\"solidity\":0.2}},\"type\":\"barpolar\"}],\"pie\":[{\"automargin\":true,\"type\":\"pie\"}]},\"layout\":{\"autotypenumbers\":\"strict\",\"colorway\":[\"#636efa\",\"#EF553B\",\"#00cc96\",\"#ab63fa\",\"#FFA15A\",\"#19d3f3\",\"#FF6692\",\"#B6E880\",\"#FF97FF\",\"#FECB52\"],\"font\":{\"color\":\"#2a3f5f\"},\"hovermode\":\"closest\",\"hoverlabel\":{\"align\":\"left\"},\"paper_bgcolor\":\"white\",\"plot_bgcolor\":\"#E5ECF6\",\"polar\":{\"bgcolor\":\"#E5ECF6\",\"angularaxis\":{\"gridcolor\":\"white\",\"linecolor\":\"white\",\"ticks\":\"\"},\"radialaxis\":{\"gridcolor\":\"white\",\"linecolor\":\"white\",\"ticks\":\"\"}},\"ternary\":{\"bgcolor\":\"#E5ECF6\",\"aaxis\":{\"gridcolor\":\"white\",\"linecolor\":\"white\",\"ticks\":\"\"},\"baxis\":{\"gridcolor\":\"white\",\"linecolor\":\"white\",\"ticks\":\"\"},\"caxis\":{\"gridcolor\":\"white\",\"linecolor\":\"white\",\"ticks\":\"\"}},\"coloraxis\":{\"colorbar\":{\"outlinewidth\":0,\"ticks\":\"\"}},\"colorscale\":{\"sequential\":[[0.0,\"#0d0887\"],[0.1111111111111111,\"#46039f\"],[0.2222222222222222,\"#7201a8\"],[0.3333333333333333,\"#9c179e\"],[0.4444444444444444,\"#bd3786\"],[0.5555555555555556,\"#d8576b\"],[0.6666666666666666,\"#ed7953\"],[0.7777777777777778,\"#fb9f3a\"],[0.8888888888888888,\"#fdca26\"],[1.0,\"#f0f921\"]],\"sequentialminus\":[[0.0,\"#0d0887\"],[0.1111111111111111,\"#46039f\"],[0.2222222222222222,\"#7201a8\"],[0.3333333333333333,\"#9c179e\"],[0.4444444444444444,\"#bd3786\"],[0.5555555555555556,\"#d8576b\"],[0.6666666666666666,\"#ed7953\"],[0.7777777777777778,\"#fb9f3a\"],[0.8888888888888888,\"#fdca26\"],[1.0,\"#f0f921\"]],\"diverging\":[[0,\"#8e0152\"],[0.1,\"#c51b7d\"],[0.2,\"#de77ae\"],[0.3,\"#f1b6da\"],[0.4,\"#fde0ef\"],[0.5,\"#f7f7f7\"],[0.6,\"#e6f5d0\"],[0.7,\"#b8e186\"],[0.8,\"#7fbc41\"],[0.9,\"#4d9221\"],[1,\"#276419\"]]},\"xaxis\":{\"gridcolor\":\"white\",\"linecolor\":\"white\",\"ticks\":\"\",\"title\":{\"standoff\":15},\"zerolinecolor\":\"white\",\"automargin\":true,\"zerolinewidth\":2},\"yaxis\":{\"gridcolor\":\"white\",\"linecolor\":\"white\",\"ticks\":\"\",\"title\":{\"standoff\":15},\"zerolinecolor\":\"white\",\"automargin\":true,\"zerolinewidth\":2},\"scene\":{\"xaxis\":{\"backgroundcolor\":\"#E5ECF6\",\"gridcolor\":\"white\",\"linecolor\":\"white\",\"showbackground\":true,\"ticks\":\"\",\"zerolinecolor\":\"white\",\"gridwidth\":2},\"yaxis\":{\"backgroundcolor\":\"#E5ECF6\",\"gridcolor\":\"white\",\"linecolor\":\"white\",\"showbackground\":true,\"ticks\":\"\",\"zerolinecolor\":\"white\",\"gridwidth\":2},\"zaxis\":{\"backgroundcolor\":\"#E5ECF6\",\"gridcolor\":\"white\",\"linecolor\":\"white\",\"showbackground\":true,\"ticks\":\"\",\"zerolinecolor\":\"white\",\"gridwidth\":2}},\"shapedefaults\":{\"line\":{\"color\":\"#2a3f5f\"}},\"annotationdefaults\":{\"arrowcolor\":\"#2a3f5f\",\"arrowhead\":0,\"arrowwidth\":1},\"geo\":{\"bgcolor\":\"white\",\"landcolor\":\"#E5ECF6\",\"subunitcolor\":\"white\",\"showland\":true,\"showlakes\":true,\"lakecolor\":\"white\"},\"title\":{\"x\":0.05},\"mapbox\":{\"style\":\"light\"}}},\"xaxis\":{\"anchor\":\"y\",\"domain\":[0.0,1.0],\"title\":{\"text\":\"n_estimators\"}},\"yaxis\":{\"anchor\":\"x\",\"domain\":[0.0,1.0],\"title\":{\"text\":\"Score\"}},\"legend\":{\"tracegroupgap\":0},\"title\":{\"text\":\"Score vs n_estimators\"},\"height\":800,\"width\":1200},                        {\"responsive\": true}                    ).then(function(){\n",
       "                            \n",
       "var gd = document.getElementById('a1c61da6-36a0-4dd9-8003-e7222c3505ac');\n",
       "var x = new MutationObserver(function (mutations, observer) {{\n",
       "        var display = window.getComputedStyle(gd).display;\n",
       "        if (!display || display === 'none') {{\n",
       "            console.log([gd, 'removed!']);\n",
       "            Plotly.purge(gd);\n",
       "            observer.disconnect();\n",
       "        }}\n",
       "}});\n",
       "\n",
       "// Listen for the removal of the full notebook cells\n",
       "var notebookContainer = gd.closest('#notebook-container');\n",
       "if (notebookContainer) {{\n",
       "    x.observe(notebookContainer, {childList: true});\n",
       "}}\n",
       "\n",
       "// Listen for the clearing of the current output cell\n",
       "var outputEl = gd.closest('.output');\n",
       "if (outputEl) {{\n",
       "    x.observe(outputEl, {childList: true});\n",
       "}}\n",
       "\n",
       "                        })                };                });            </script>        </div>"
      ]
     },
     "metadata": {},
     "output_type": "display_data"
    },
    {
     "name": "stdout",
     "output_type": "stream",
     "text": [
      "최적 n_estimators: 7\n",
      "최적 MAE: 85.82380952380966\n",
      "최적 RMSE: 111.89815856910471\n"
     ]
    }
   ],
   "source": [
    "import pandas as pd\n",
    "import numpy as np\n",
    "import matplotlib.pyplot as plt\n",
    "import plotly.express as px\n",
    "from sklearn.ensemble import RandomForestRegressor\n",
    "from sklearn.model_selection import train_test_split\n",
    "from sklearn.metrics import mean_absolute_error\n",
    "from math import sqrt\n",
    "\n",
    "# X = df[['월평균_총생활인구수', '연령대60_평균', '연령대_20_거주인구수', '연령대_30_거주인구수', '1인가구','2인가구']]\n",
    "\n",
    "y = df.iloc[:, 0]\n",
    "X = df[['월평균_총생활인구수', '2030_거주인구수', '2인가구']]\n",
    "\n",
    "# 데이터 분할 (random_state 설정)\n",
    "X_train, X_test, y_train, y_test = train_test_split(X, y, test_size=0.1, random_state=0)\n",
    "\n",
    "# n_estimators 범위\n",
    "n_estimators_range = list(range(1,26))\n",
    "best_n_estimators = None\n",
    "best_mae = float('inf')  # MAE 최소화\n",
    "best_rmse = float('inf')  # RMSE 최소화\n",
    "\n",
    "# n_estimators 범위 평가 및 MAE, RMSE 기록\n",
    "train_mae_scores = []  # 훈련 데이터 MAE를 기록할 리스트\n",
    "test_mae_scores = []   # 테스트 데이터 MAE를 기록할 리스트\n",
    "rmse_scores = []       # RMSE를 기록할 리스트\n",
    "\n",
    "for n_estimators in n_estimators_range:\n",
    "    model = RandomForestRegressor(n_estimators=n_estimators, max_depth=10, random_state=0)\n",
    "    model.fit(X_train, y_train)\n",
    "\n",
    "    # Train Data MAE\n",
    "    y_train_pred = model.predict(X_train)\n",
    "    train_mae = mean_absolute_error(y_train, y_train_pred)\n",
    "    train_mae_scores.append(train_mae)\n",
    "    \n",
    "    # Test Data MAE\n",
    "    y_test_pred = model.predict(X_test)\n",
    "    test_mae = mean_absolute_error(y_test, y_test_pred)\n",
    "    test_mae_scores.append(test_mae)\n",
    "\n",
    "    # RMSE 계산\n",
    "    train_rmse = sqrt(np.mean((y_train - y_train_pred) ** 2))\n",
    "    test_rmse = sqrt(np.mean((y_test - y_test_pred) ** 2))\n",
    "    rmse_scores.append(test_rmse)\n",
    "\n",
    "    # 현재의 n_estimators 값이 이전보다 더 좋으면 최적값 업데이트\n",
    "    if test_mae < best_mae:\n",
    "        best_mae = test_mae\n",
    "        best_n_estimators = n_estimators\n",
    "\n",
    "    if test_rmse < best_rmse:\n",
    "        best_rmse = test_rmse\n",
    "\n",
    "# 피처 중요도 계산\n",
    "model = RandomForestRegressor(n_estimators=best_n_estimators, max_depth=15, random_state=0)\n",
    "model.fit(X_train, y_train)\n",
    "feature_importance = model.feature_importances_\n",
    "\n",
    "# 피처 중요도를 내림차순으로 정렬\n",
    "sorted_indices = feature_importance.argsort()[::-1]\n",
    "sorted_features = X.columns[sorted_indices]\n",
    "sorted_importance = feature_importance[sorted_indices]\n",
    "\n",
    "# 피처 중요도 시각화\n",
    "fig, ax = plt.subplots(figsize=(10, 6))\n",
    "ax.barh(sorted_features, sorted_importance)\n",
    "ax.set_xlabel('Feature Importance')\n",
    "ax.set_title('Feature Importance')\n",
    "\n",
    "# 그래프 출력\n",
    "plt.show()\n",
    "\n",
    "\n",
    "# MAE, RMSE, n_estimators 관계 시각화\n",
    "fig = px.line(x=n_estimators_range, labels={'x': 'n_estimators', 'y': 'Score'}, title='Score vs n_estimators', width=1200, height=800)\n",
    "fig.add_scatter(x=n_estimators_range, y=train_mae_scores, mode='lines+markers', name='Train Data MAE')\n",
    "fig.add_scatter(x=n_estimators_range, y=test_mae_scores, mode='lines+markers', name='Test Data MAE')\n",
    "fig.add_scatter(x=n_estimators_range, y=rmse_scores, mode='lines+markers', name='RMSE')\n",
    "fig.update_traces(mode='lines+markers')\n",
    "\n",
    "# Display the figure\n",
    "fig.show()\n",
    "\n",
    "# 최적값 출력\n",
    "print(f\"최적 n_estimators: {best_n_estimators}\")\n",
    "print(f\"최적 MAE: {best_mae}\")\n",
    "print(f\"최적 RMSE: {best_rmse}\")\n"
   ]
  },
  {
   "cell_type": "code",
   "execution_count": null,
   "id": "e9338be7-7c60-40d6-a2a0-190bb4e230a8",
   "metadata": {},
   "outputs": [],
   "source": []
  }
 ],
 "metadata": {
  "kernelspec": {
   "display_name": "Python 3 (ipykernel)",
   "language": "python",
   "name": "python3"
  },
  "language_info": {
   "codemirror_mode": {
    "name": "ipython",
    "version": 3
   },
   "file_extension": ".py",
   "mimetype": "text/x-python",
   "name": "python",
   "nbconvert_exporter": "python",
   "pygments_lexer": "ipython3",
   "version": "3.9.13"
  }
 },
 "nbformat": 4,
 "nbformat_minor": 5
}
