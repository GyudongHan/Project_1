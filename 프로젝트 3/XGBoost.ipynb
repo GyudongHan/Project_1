{
 "cells": [
  {
   "cell_type": "markdown",
   "id": "4ae6000f-5a0f-43fe-aadc-919a3462c783",
   "metadata": {},
   "source": [
    "# 한글"
   ]
  },
  {
   "cell_type": "code",
   "execution_count": 1,
   "id": "ebb513c3-d4b0-4497-baa0-6d1ae4eceaee",
   "metadata": {},
   "outputs": [
    {
     "data": {
      "image/png": "[encoded data removed]",
      "text/plain": [
       "<Figure size 640x480 with 1 Axes>"
      ]
     },
     "metadata": {},
     "output_type": "display_data"
    }
   ],
   "source": [
    "import pandas as pd\n",
    "import numpy as np\n",
    "import warnings \n",
    "warnings.filterwarnings('ignore')\n",
    "import matplotlib.pyplot as plt\n",
    "\n",
    "pd.set_option('display.max_rows', None)\n",
    "pd.set_option('display.max_columns', None)\n",
    "\n",
    "plt.rc(\"font\", family=\"NanumGothic\") # 라이브러리 불러오기와 함께 한번만 실행\n",
    "from sklearn.preprocessing import MinMaxScaler, StandardScaler\n",
    "\n",
    "plt.plot([1, 2, 3])\n",
    "plt.title(\"한글\")\n",
    "plt.show()"
   ]
  },
  {
   "cell_type": "markdown",
   "id": "380712cb-44e6-4c80-a0ca-221cdcf803dd",
   "metadata": {},
   "source": [
    "# 불러오기"
   ]
  },
  {
   "cell_type": "code",
   "execution_count": 2,
   "id": "320a9227-b212-43d9-a13e-12e2b1d5a412",
   "metadata": {},
   "outputs": [],
   "source": [
    "# CSV 파일 불러오기\n",
    "data = pd.read_csv('data/액체_모델용.csv')  # 'your_dataset.csv'에는 파일 경로와 이름을 적어주세요"
   ]
  },
  {
   "cell_type": "code",
   "execution_count": 3,
   "id": "406a75b9-ba26-4f63-9151-2a581fe55771",
   "metadata": {},
   "outputs": [
    {
     "data": {
      "text/plain": [
       "Index(['Datetime', 'ETA_Year', 'ETA_Month', 'ETA_Day', 'ETA_Hour', '호출부호',\n",
       "       '입항일시', '출항일시', '접안_대기시간_분', '출항_대기시간_분', 'Service_Time_Start',\n",
       "       'Service_Time_End', '계선장소_코드', '계선장소_숫자', '계선장소명', '선박용도',\n",
       "       'Service_Time_분', '대기율', '총톤수', '재화중량톤수', '선박제원(총길이, m)', '선박제원(너비, m)',\n",
       "       '만재흘수(m)', '깊이(m)', '길이1(m)', 'ETA_Minute', '풍속(m/s)', '풍향(deg)',\n",
       "       'GUST풍속(m/s)', '현지기압(hPa)', '습도(%)', '기온(°C)', '수온(°C)', '최대파고(m)',\n",
       "       '유의파고(m)', '평균파고(m)', '파주기(sec)', '파향(deg)', '액체화물'],\n",
       "      dtype='object')"
      ]
     },
     "execution_count": 3,
     "metadata": {},
     "output_type": "execute_result"
    }
   ],
   "source": [
    "data.columns"
   ]
  },
  {
   "cell_type": "code",
   "execution_count": 4,
   "id": "a7eb8b58-d256-48b4-9973-595687d16c94",
   "metadata": {},
   "outputs": [
    {
     "name": "stdout",
     "output_type": "stream",
     "text": [
      "<class 'pandas.core.frame.DataFrame'>\n",
      "RangeIndex: 51001 entries, 0 to 51000\n",
      "Data columns (total 39 columns):\n",
      " #   Column              Non-Null Count  Dtype  \n",
      "---  ------              --------------  -----  \n",
      " 0   Datetime            51001 non-null  object \n",
      " 1   ETA_Year            51001 non-null  int64  \n",
      " 2   ETA_Month           51001 non-null  int64  \n",
      " 3   ETA_Day             51001 non-null  int64  \n",
      " 4   ETA_Hour            51001 non-null  int64  \n",
      " 5   호출부호                51001 non-null  object \n",
      " 6   입항일시                51001 non-null  object \n",
      " 7   출항일시                51001 non-null  object \n",
      " 8   접안_대기시간_분           51001 non-null  int64  \n",
      " 9   출항_대기시간_분           51001 non-null  float64\n",
      " 10  Service_Time_Start  51001 non-null  object \n",
      " 11  Service_Time_End    51001 non-null  object \n",
      " 12  계선장소_코드             51001 non-null  object \n",
      " 13  계선장소_숫자             51001 non-null  int64  \n",
      " 14  계선장소명               51001 non-null  object \n",
      " 15  선박용도                51001 non-null  object \n",
      " 16  Service_Time_분      51001 non-null  float64\n",
      " 17  대기율                 51001 non-null  float64\n",
      " 18  총톤수                 51001 non-null  float64\n",
      " 19  재화중량톤수              51001 non-null  float64\n",
      " 20  선박제원(총길이, m)        51001 non-null  float64\n",
      " 21  선박제원(너비, m)         51001 non-null  float64\n",
      " 22  만재흘수(m)             51001 non-null  float64\n",
      " 23  깊이(m)               51001 non-null  float64\n",
      " 24  길이1(m)              51001 non-null  float64\n",
      " 25  ETA_Minute          51001 non-null  int64  \n",
      " 26  풍속(m/s)             51001 non-null  float64\n",
      " 27  풍향(deg)             51001 non-null  float64\n",
      " 28  GUST풍속(m/s)         51001 non-null  float64\n",
      " 29  현지기압(hPa)           51001 non-null  float64\n",
      " 30  습도(%)               51001 non-null  float64\n",
      " 31  기온(°C)              51001 non-null  float64\n",
      " 32  수온(°C)              51001 non-null  float64\n",
      " 33  최대파고(m)             51001 non-null  float64\n",
      " 34  유의파고(m)             51001 non-null  float64\n",
      " 35  평균파고(m)             51001 non-null  float64\n",
      " 36  파주기(sec)            51001 non-null  float64\n",
      " 37  파향(deg)             51001 non-null  float64\n",
      " 38  액체화물                51001 non-null  int64  \n",
      "dtypes: float64(22), int64(8), object(9)\n",
      "memory usage: 15.2+ MB\n"
     ]
    }
   ],
   "source": [
    "data.info()"
   ]
  },
  {
   "cell_type": "code",
   "execution_count": 5,
   "id": "c4374cd6-4afa-40c9-9a69-8f99b5341210",
   "metadata": {},
   "outputs": [],
   "source": [
    "# 두 칼럼을 합쳐 새로운 칼럼 생성\n",
    "data['계선장소'] = data['계선장소_코드'].astype(str) + data['계선장소_숫자'].astype(str)\n",
    "\n",
    "# '계선장소_코드'와 '계선장소_숫자컬럼' 칼럼 삭제\n",
    "data = data.drop(['계선장소_코드', '계선장소_숫자'], axis=1)\n"
   ]
  },
  {
   "cell_type": "markdown",
   "id": "331c30b3-f9dc-42e5-b8c2-49238fce6354",
   "metadata": {},
   "source": [
    "# XGBoost 설치"
   ]
  },
  {
   "cell_type": "code",
   "execution_count": 6,
   "id": "e12bc373-9463-4f42-b481-ac11ec56cc77",
   "metadata": {
    "scrolled": true
   },
   "outputs": [
    {
     "name": "stdout",
     "output_type": "stream",
     "text": [
      "Requirement already satisfied: xgboost in c:\\users\\user\\appdata\\local\\programs\\python\\python39\\lib\\site-packages (2.0.2)\n",
      "Requirement already satisfied: numpy in c:\\users\\user\\appdata\\local\\programs\\python\\python39\\lib\\site-packages (from xgboost) (1.25.2)\n",
      "Requirement already satisfied: scipy in c:\\users\\user\\appdata\\local\\programs\\python\\python39\\lib\\site-packages (from xgboost) (1.11.1)\n"
     ]
    },
    {
     "name": "stderr",
     "output_type": "stream",
     "text": [
      "\n",
      "[notice] A new release of pip is available: 23.2.1 -> 23.3.1\n",
      "[notice] To update, run: python.exe -m pip install --upgrade pip\n"
     ]
    }
   ],
   "source": [
    "!pip install xgboost"
   ]
  },
  {
   "cell_type": "markdown",
   "id": "bcbc4acc-9cfa-44ef-831a-417b5399227f",
   "metadata": {},
   "source": [
    "# 베이스라인 코드"
   ]
  },
  {
   "cell_type": "code",
   "execution_count": 7,
   "id": "f4b071d3-84a5-4fc4-a8a8-3bbf73fdec0b",
   "metadata": {},
   "outputs": [
    {
     "name": "stdout",
     "output_type": "stream",
     "text": [
      "RMSE: 1116.969078207694\n",
      "MAE: 548.2322071704745\n",
      "R-squared: 0.023040318779233626\n",
      "Feature Importance:\n",
      "총톤수: 0.05147053673863411\n",
      "선박제원(총길이, m): 0.0433955080807209\n",
      "선박제원(너비, m): 0.13960358500480652\n",
      "깊이(m): 0.058407653123140335\n",
      "길이1(m): 0.054356638342142105\n",
      "ETA_Hour: 0.05418167635798454\n",
      "풍속(m/s): 0.0686124861240387\n",
      "풍향(deg): 0.04281482473015785\n",
      "GUST풍속(m/s): 0.04160956293344498\n",
      "현지기압(hPa): 0.06763027608394623\n",
      "습도(%): 0.04916463419795036\n",
      "기온(°C): 0.043965116143226624\n",
      "수온(°C): 0.04432656615972519\n",
      "최대파고(m): 0.052622370421886444\n",
      "유의파고(m): 0.04345255717635155\n",
      "평균파고(m): 0.033965423703193665\n",
      "파주기(sec): 0.054315414279699326\n",
      "파향(deg): 0.05610506609082222\n"
     ]
    }
   ],
   "source": [
    "# 필요한 라이브러리 불러오기\n",
    "import xgboost as xgb\n",
    "from sklearn.model_selection import train_test_split\n",
    "from sklearn.metrics import mean_squared_error, mean_absolute_error, r2_score\n",
    "import pandas as pd\n",
    "import numpy as np\n",
    "\n",
    "# 입력 변수와 타겟 변수 나누기\n",
    "X = data[['총톤수', '선박제원(총길이, m)', '선박제원(너비, m)',\n",
    "       '깊이(m)', '길이1(m)', 'ETA_Hour', '풍속(m/s)', '풍향(deg)',\n",
    "       'GUST풍속(m/s)', '현지기압(hPa)', '습도(%)', '기온(°C)', '수온(°C)', '최대파고(m)',\n",
    "       '유의파고(m)', '평균파고(m)', '파주기(sec)', '파향(deg)']]\n",
    "y = data['접안_대기시간_분']\n",
    "\n",
    "# 데이터를 학습용과 테스트용으로 나누기\n",
    "X_train, X_test, y_train, y_test = train_test_split(X, y, test_size=0.2, random_state=12)\n",
    "\n",
    "# XGBoost 모델 생성 및 학습\n",
    "model = xgb.XGBRegressor(\n",
    "    objective='reg:squarederror',  # 회귀 문제이므로 'reg:squarederror'를 사용\n",
    "    max_depth=5,\n",
    "    learning_rate=0.3,\n",
    "    n_estimators=200\n",
    ")\n",
    "\n",
    "model.fit(X_train, y_train)\n",
    "\n",
    "# 테스트 데이터에 대한 예측\n",
    "y_pred = model.predict(X_test)\n",
    "\n",
    "# RMSE 계산\n",
    "rmse = np.sqrt(mean_squared_error(y_test, y_pred))\n",
    "print(f\"RMSE: {rmse}\")\n",
    "\n",
    "# MAE 계산\n",
    "mae = mean_absolute_error(y_test, y_pred)\n",
    "print(f\"MAE: {mae}\")\n",
    "\n",
    "# 결정 계수(R-squared) 계산\n",
    "r2 = r2_score(y_test, y_pred)\n",
    "print(f\"R-squared: {r2}\")\n",
    "\n",
    "# 특성 중요도 출력\n",
    "feature_importance = model.feature_importances_\n",
    "feature_names = X.columns\n",
    "\n",
    "print(\"Feature Importance:\")\n",
    "for feature, importance in zip(feature_names, feature_importance):\n",
    "    print(f\"{feature}: {importance}\")\n"
   ]
  },
  {
   "cell_type": "code",
   "execution_count": null,
   "id": "e5912aac-ca77-475a-b600-b82986942dbc",
   "metadata": {},
   "outputs": [],
   "source": []
  },
  {
   "cell_type": "code",
   "execution_count": 8,
   "id": "fa1b2fc5-23b5-45cb-9ab1-5de38fbbed8a",
   "metadata": {},
   "outputs": [
    {
     "name": "stdout",
     "output_type": "stream",
     "text": [
      "RMSE: 1144.208956441329\n",
      "특성 중요도:\n",
      "총톤수: 0.05147053673863411\n",
      "선박제원(총길이, m): 0.0433955080807209\n",
      "선박제원(너비, m): 0.13960358500480652\n",
      "깊이(m): 0.058407653123140335\n",
      "길이1(m): 0.054356638342142105\n",
      "ETA_Hour: 0.05418167635798454\n",
      "풍속(m/s): 0.0686124861240387\n",
      "풍향(deg): 0.04281482473015785\n",
      "GUST풍속(m/s): 0.04160956293344498\n",
      "현지기압(hPa): 0.06763027608394623\n",
      "습도(%): 0.04916463419795036\n",
      "기온(°C): 0.043965116143226624\n",
      "수온(°C): 0.04432656615972519\n",
      "최대파고(m): 0.052622370421886444\n",
      "유의파고(m): 0.04345255717635155\n",
      "평균파고(m): 0.033965423703193665\n",
      "파주기(sec): 0.054315414279699326\n",
      "파향(deg): 0.05610506609082222\n"
     ]
    }
   ],
   "source": [
    "# 필요한 라이브러리 불러오기\n",
    "import xgboost as xgb\n",
    "from sklearn.model_selection import train_test_split, cross_val_score\n",
    "from sklearn.metrics import mean_squared_error\n",
    "import pandas as pd\n",
    "import numpy as np\n",
    "\n",
    "# 입력 변수와 타겟 변수 나누기\n",
    "X = data[['총톤수', '선박제원(총길이, m)', '선박제원(너비, m)',\n",
    "       '깊이(m)', '길이1(m)', 'ETA_Hour', '풍속(m/s)', '풍향(deg)',\n",
    "       'GUST풍속(m/s)', '현지기압(hPa)', '습도(%)', '기온(°C)', '수온(°C)', '최대파고(m)',\n",
    "       '유의파고(m)', '평균파고(m)', '파주기(sec)', '파향(deg)']]\n",
    "y = data['접안_대기시간_분']\n",
    "\n",
    "# 데이터를 학습용과 테스트용으로 나누기\n",
    "X_train, X_test, y_train, y_test = train_test_split(X, y, test_size=0.2, random_state=12)\n",
    "\n",
    "# XGBoost 모델 생성\n",
    "model = xgb.XGBRegressor(\n",
    "    objective='reg:squarederror',  # 회귀 문제이므로 'reg:squarederror'를 사용\n",
    "    max_depth=5,\n",
    "    learning_rate=0.3,\n",
    "    n_estimators=200\n",
    ")\n",
    "\n",
    "# 10-fold 교차 검증 수행\n",
    "scoring = 'neg_mean_squared_error'  # 단일 메트릭 선택\n",
    "\n",
    "cv_results = cross_val_score(model, X, y, cv=10, scoring=scoring)\n",
    "\n",
    "# 결과 출력\n",
    "rmse = np.sqrt(-cv_results.mean())\n",
    "print(f\"RMSE: {rmse}\")\n",
    "\n",
    "# 특성 중요도 출력\n",
    "model.fit(X_train, y_train)  # 전체 데이터로 모델 학습\n",
    "feature_importance = model.feature_importances_\n",
    "feature_names = X.columns\n",
    "\n",
    "print(\"특성 중요도:\")\n",
    "for feature, importance in zip(feature_names, feature_importance):\n",
    "    print(f\"{feature}: {importance}\")\n"
   ]
  },
  {
   "cell_type": "markdown",
   "id": "b97a9d19-6fe2-4ce7-bd6c-05c59b7e04de",
   "metadata": {},
   "source": [
    "# 최종 비교용 모델링"
   ]
  },
  {
   "cell_type": "markdown",
   "id": "db61e6c9-74aa-470c-abf2-919b110d1ac3",
   "metadata": {},
   "source": [
    "## 수정(참고내용)"
   ]
  },
  {
   "cell_type": "code",
   "execution_count": 14,
   "id": "5e8abc8e-1c1b-4d56-8a3c-35244619816b",
   "metadata": {},
   "outputs": [],
   "source": [
    "import pandas as pd\n",
    "# CSV 파일 불러오기\n",
    "Final_D = pd.read_csv('data/for_ship_model.csv') "
   ]
  },
  {
   "cell_type": "code",
   "execution_count": 15,
   "id": "a8424c7c-0019-47b0-a3bd-e49ff3172625",
   "metadata": {},
   "outputs": [
    {
     "data": {
      "text/plain": [
       "Index(['ETA_Year', 'ETA_Month', 'ETA_Day', 'ETA_Hour', '호출부호', '접안_대기시간_분',\n",
       "       '계선장소명', '선박용도', 'Service_Time_분', '대기율', '총톤수', '재화중량톤수',\n",
       "       '선박제원(총길이, m)', '선박제원(너비, m)', '만재흘수(m)', '깊이(m)', '길이1(m)', '풍속(m/s)',\n",
       "       '풍향(deg)', 'GUST풍속(m/s)', '현지기압(hPa)', '습도(%)', '기온(°C)', '수온(°C)',\n",
       "       '최대파고(m)', '유의파고(m)', '평균파고(m)', '파주기(sec)', '파향(deg)', '이전_입항선박수',\n",
       "       '연도별_선석점유율', '시설연평균_재화중량톤수', '연평균_총입항건수', '선박_연평균_서비스시간', '선박_연평균_대기시간',\n",
       "       '호출부호_encoded', '계선장소명_encoded', '선박용도_encoded'],\n",
       "      dtype='object')"
      ]
     },
     "execution_count": 15,
     "metadata": {},
     "output_type": "execute_result"
    }
   ],
   "source": [
    "Final_D.columns"
   ]
  },
  {
   "cell_type": "code",
   "execution_count": 19,
   "id": "f16c36cd-cac1-4646-bdbd-841330e35222",
   "metadata": {},
   "outputs": [],
   "source": [
    "Final_D.columns = ['ETA_Year', 'ETA_Month', 'ETA_Day', 'ETA_Hour', '호출부호', '접안_대기시간_분',\n",
    "       '계선장소명', '선박용도', 'Service_Time_분', '대기율', '총톤수', '재화중량톤수',\n",
    "       '선박_총길이', '선박_너비', '선박_만재흘수', '선박_깊이', '선박_길이1', '풍속',\n",
    "       '풍향', 'GUST풍속', '현지기압', '습도', '기온', '수온',\n",
    "       '최대파고', '유의파고', '평균파고', '파주기', '파향', '이전_입항선박수',\n",
    "       '연도별_선석점유율', '시설연평균_재화중량톤수', '연평균_총입항건수', '선박_연평균_서비스시간', '선박_연평균_대기시간',\n",
    "       '호출부호_encoded', '계선장소명_encoded', '선박용도_encoded']\n",
    "\n",
    "x_cols = ['ETA_Year', 'ETA_Month', 'ETA_Day', 'ETA_Hour', \n",
    "       'Service_Time_분', '총톤수', '재화중량톤수',\n",
    "       '선박_총길이', '선박_너비', '선박_만재흘수', '선박_깊이', '선박_길이1', '풍속',\n",
    "       '풍향', 'GUST풍속', '현지기압', '습도', '기온', '수온',\n",
    "       '최대파고', '유의파고', '평균파고', '파주기', '파향', '이전_입항선박수', '시설연평균_재화중량톤수', \n",
    "        '연평균_총입항건수', '선박_연평균_서비스시간', '호출부호_encoded', '계선장소명_encoded', '선박용도_encoded']"
   ]
  },
  {
   "cell_type": "markdown",
   "id": "b9d90030-40be-4fc1-9a20-160981437706",
   "metadata": {},
   "source": [
    "## 모델링"
   ]
  },
  {
   "cell_type": "code",
   "execution_count": 20,
   "id": "f1de6cdf-bbe1-419e-a657-b9f07f286d0d",
   "metadata": {},
   "outputs": [
    {
     "name": "stdout",
     "output_type": "stream",
     "text": [
      "Mean R^2: 0.6393231808123803\n",
      "RMSE: 1101.7980337240801\n",
      "특성 중요도:\n"
     ]
    },
    {
     "data": {
      "image/png": "[encoded data removed]",
      "text/plain": [
       "<Figure size 1000x600 with 1 Axes>"
      ]
     },
     "metadata": {},
     "output_type": "display_data"
    }
   ],
   "source": [
    "# 필요한 라이브러리 불러오기\n",
    "import xgboost as xgb\n",
    "from sklearn.model_selection import train_test_split, cross_val_score\n",
    "from sklearn.metrics import mean_squared_error, r2_score  # 추가: 결정계수 계산을 위한 모듈\n",
    "import pandas as pd\n",
    "import numpy as np\n",
    "import matplotlib.pyplot as plt  # 추가: 시각화를 위한 모듈\n",
    "\n",
    "# 입력 변수와 타겟 변수 나누기\n",
    "X = Final_D[x_cols]\n",
    "y = Final_D['접안_대기시간_분']\n",
    "\n",
    "# 데이터를 학습용과 테스트용으로 나누기\n",
    "X_train, X_test, y_train, y_test = train_test_split(X, y, test_size=0.2, random_state=12)\n",
    "\n",
    "# XGBoost 모델 생성\n",
    "model = xgb.XGBRegressor(\n",
    "    objective='reg:squarederror',\n",
    "    max_depth=5,\n",
    "    learning_rate=0.3,\n",
    "    n_estimators=200\n",
    ")\n",
    "\n",
    "# 10-fold 교차 검증 수행\n",
    "scoring = 'neg_mean_squared_error'\n",
    "cv_results = cross_val_score(model, X, y, cv=10, scoring=scoring)\n",
    "\n",
    "# 결정계수 계산 및 출력\n",
    "r2 = np.mean([r2_score(y, model.fit(X, y).predict(X)) for score in cv_results])\n",
    "print(f\"Mean R^2: {r2}\")\n",
    "\n",
    "# 결과 출력\n",
    "rmse = np.sqrt(-cv_results.mean())\n",
    "print(f\"RMSE: {rmse}\")\n",
    "\n",
    "# 특성 중요도 출력\n",
    "model.fit(X_train, y_train)\n",
    "feature_importance = model.feature_importances_\n",
    "feature_names = X.columns\n",
    "\n",
    "print(\"특성 중요도:\")\n",
    "\n",
    "# 특성 중요도 시각화\n",
    "plt.figure(figsize=(10, 6))\n",
    "plt.barh(feature_names, feature_importance)\n",
    "plt.xlabel('특성 중요도')\n",
    "plt.title('XGBoost 특성 중요도')\n",
    "plt.show()\n"
   ]
  },
  {
   "cell_type": "code",
   "execution_count": null,
   "id": "e8a4ba95-b4ac-4f8e-b0ee-88e60842da0e",
   "metadata": {},
   "outputs": [],
   "source": []
  },
  {
   "cell_type": "code",
   "execution_count": null,
   "id": "ca96d2f7-fdcc-4243-b767-0f7f2e542f4c",
   "metadata": {},
   "outputs": [],
   "source": []
  }
 ],
 "metadata": {
  "kernelspec": {
   "display_name": "Python 3 (ipykernel)",
   "language": "python",
   "name": "python3"
  },
  "language_info": {
   "codemirror_mode": {
    "name": "ipython",
    "version": 3
   },
   "file_extension": ".py",
   "mimetype": "text/x-python",
   "name": "python",
   "nbconvert_exporter": "python",
   "pygments_lexer": "ipython3",
   "version": "3.9.13"
  }
 },
 "nbformat": 4,
 "nbformat_minor": 5
}
