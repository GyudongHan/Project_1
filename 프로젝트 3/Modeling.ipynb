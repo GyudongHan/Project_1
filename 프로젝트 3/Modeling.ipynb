{
 "cells": [
  {
   "cell_type": "markdown",
   "id": "7f7889d0-2af3-49de-adb1-03de427a65ac",
   "metadata": {},
   "source": [
    "한글 필요하려나"
   ]
  },
  {
   "cell_type": "code",
   "execution_count": 1,
   "id": "32ea4e04-d195-40f7-8a52-29dc7a0de2aa",
   "metadata": {
    "scrolled": true
   },
   "outputs": [
    {
     "data": {
      "image/png": "[encoded data removed]",
      "text/plain": [
       "<Figure size 640x480 with 1 Axes>"
      ]
     },
     "metadata": {},
     "output_type": "display_data"
    }
   ],
   "source": [
    "import pandas as pd\n",
    "import numpy as np\n",
    "import warnings \n",
    "warnings.filterwarnings('ignore')\n",
    "import matplotlib.pyplot as plt\n",
    "\n",
    "pd.set_option('display.max_rows', None)\n",
    "pd.set_option('display.max_columns', None)\n",
    "\n",
    "plt.rc(\"font\", family=\"NanumGothic\") # 라이브러리 불러오기와 함께 한번만 실행\n",
    "from sklearn.preprocessing import MinMaxScaler, StandardScaler\n",
    "\n",
    "plt.plot([1, 2, 3])\n",
    "plt.title(\"한글\")\n",
    "plt.show()"
   ]
  },
  {
   "cell_type": "code",
   "execution_count": 3,
   "id": "92d6d2da-89e9-4148-9ec9-91fbfe68d9a5",
   "metadata": {},
   "outputs": [],
   "source": [
    "# 데이터불러오기"
   ]
  },
  {
   "cell_type": "code",
   "execution_count": 2,
   "id": "c75a41a7-e3a3-460c-aa8e-ed4daf3019e5",
   "metadata": {},
   "outputs": [],
   "source": [
    "import pandas as pd\n",
    "\n",
    "df = pd.read_csv('data/울산_전처리_ver5.csv')\n"
   ]
  },
  {
   "cell_type": "markdown",
   "id": "374ddc6e-f76d-4471-9c17-d9c28de025e7",
   "metadata": {},
   "source": [
    "# 액체화물만 불러오기\n",
    "(향후 한계점에 컨테이너선이나 벌크선에도 미량이지만(0.01? 0.1퍼센트) 액체화물이 실려온다느 것을 언급정도?, 그정도면 한계점도 아니지만 자리 채울 수 있으니 좋다)"
   ]
  },
  {
   "cell_type": "code",
   "execution_count": 5,
   "id": "c8dbb28b-e8e9-4856-bc97-42e3b95f99d7",
   "metadata": {},
   "outputs": [],
   "source": [
    "condition = df['선박용도'].isin(['석유제품 운반선', '케미칼 운반선', '기타 유조선', 'LPG 운반선', '원유운반선', '케미칼가스 운반선', 'LNG 운반선'])\n",
    "selected_rows = df[condition]"
   ]
  },
  {
   "cell_type": "code",
   "execution_count": 8,
   "id": "e14b7983-3b07-47d4-b7f1-06e4e8ed95cc",
   "metadata": {},
   "outputs": [
    {
     "data": {
      "text/plain": [
       "Index(['항명', '호출부호', '선박명', '입항횟수_연도', '입항횟수_횟수', '구분', '입출', '총톤수_x', '입항일시',\n",
       "       '출항일시', '수리일시', '항해구분', '계선장소_코드', '계선장소_숫자', '계선장소명', '선박용도', '순번',\n",
       "       '시설사용횟수', '신고톤수', '지정시설_코드', '지정시설_번호', '지정시설명', '지정일시(FROM)',\n",
       "       '지정일시(TO)', '사용목적명', '예보일시', '허가유무', '접안_대기시간', 'Service_Time_End',\n",
       "       'Anchor', 'Service_Time_Start', 'Service_Time', '접안_대기시간_NumDays',\n",
       "       'Service_Time_NumDays', '접안_대기시간_일', '접안_대기시간_시간', '접안_대기시간_분',\n",
       "       'Service_Time_일', 'Service_Time_시간', 'Service_Time_분', '대기율', '재화중량톤수',\n",
       "       '선박제원(총길이, m)', '선박제원(너비, m)', '만재흘수(m)', '깊이(m)', '길이1(m)',\n",
       "       '선박국적(code)', '선박국적(이름)', 'ETA_Year', 'ETA_Month', 'ETA_Day',\n",
       "       'ETA_Hour', 'ETA_Minute', '일시', '풍속(m/s)', '풍향(deg)', 'GUST풍속(m/s)',\n",
       "       '현지기압(hPa)', '습도(%)', '기온(°C)', '수온(°C)', '최대파고(m)', '유의파고(m)',\n",
       "       '평균파고(m)', '파주기(sec)', '파향(deg)'],\n",
       "      dtype='object')"
      ]
     },
     "execution_count": 8,
     "metadata": {},
     "output_type": "execute_result"
    }
   ],
   "source": [
    "selected_rows.columns"
   ]
  },
  {
   "cell_type": "code",
   "execution_count": 9,
   "id": "6b52e46d-345d-4f45-ae18-639395c687d6",
   "metadata": {},
   "outputs": [
    {
     "name": "stdout",
     "output_type": "stream",
     "text": [
      "<class 'pandas.core.frame.DataFrame'>\n",
      "Index: 118277 entries, 0 to 143528\n",
      "Data columns (total 67 columns):\n",
      " #   Column                Non-Null Count   Dtype  \n",
      "---  ------                --------------   -----  \n",
      " 0   항명                    118277 non-null  object \n",
      " 1   호출부호                  118277 non-null  object \n",
      " 2   선박명                   118277 non-null  object \n",
      " 3   입항횟수_연도               118277 non-null  float64\n",
      " 4   입항횟수_횟수               118277 non-null  float64\n",
      " 5   구분                    118277 non-null  object \n",
      " 6   입출                    118277 non-null  object \n",
      " 7   총톤수_x                 118277 non-null  object \n",
      " 8   입항일시                  118277 non-null  object \n",
      " 9   출항일시                  118277 non-null  object \n",
      " 10  수리일시                  118272 non-null  object \n",
      " 11  항해구분                  118277 non-null  object \n",
      " 12  계선장소_코드               118277 non-null  object \n",
      " 13  계선장소_숫자               118277 non-null  int64  \n",
      " 14  계선장소명                 118277 non-null  object \n",
      " 15  선박용도                  118277 non-null  object \n",
      " 16  순번                    116396 non-null  float64\n",
      " 17  시설사용횟수                116396 non-null  float64\n",
      " 18  신고톤수                  116396 non-null  object \n",
      " 19  지정시설_코드               116396 non-null  object \n",
      " 20  지정시설_번호               116396 non-null  float64\n",
      " 21  지정시설명                 116396 non-null  object \n",
      " 22  지정일시(FROM)            116396 non-null  object \n",
      " 23  지정일시(TO)              116392 non-null  object \n",
      " 24  사용목적명                 116396 non-null  object \n",
      " 25  예보일시                  116396 non-null  object \n",
      " 26  허가유무                  116396 non-null  object \n",
      " 27  접안_대기시간               118277 non-null  object \n",
      " 28  Service_Time_End      118277 non-null  object \n",
      " 29  Anchor                17569 non-null   object \n",
      " 30  Service_Time_Start    118277 non-null  object \n",
      " 31  Service_Time          118277 non-null  object \n",
      " 32  접안_대기시간_NumDays       118277 non-null  int64  \n",
      " 33  Service_Time_NumDays  118277 non-null  int64  \n",
      " 34  접안_대기시간_일             118277 non-null  int64  \n",
      " 35  접안_대기시간_시간            118277 non-null  int64  \n",
      " 36  접안_대기시간_분             118277 non-null  int64  \n",
      " 37  Service_Time_일        118277 non-null  int64  \n",
      " 38  Service_Time_시간       118277 non-null  int64  \n",
      " 39  Service_Time_분        118277 non-null  int64  \n",
      " 40  대기율                   118277 non-null  float64\n",
      " 41  재화중량톤수                97474 non-null   object \n",
      " 42  선박제원(총길이, m)          117588 non-null  float64\n",
      " 43  선박제원(너비, m)           117588 non-null  object \n",
      " 44  만재흘수(m)               98848 non-null   float64\n",
      " 45  깊이(m)                 98848 non-null   float64\n",
      " 46  길이1(m)                98848 non-null   float64\n",
      " 47  선박국적(code)            98848 non-null   object \n",
      " 48  선박국적(이름)              98848 non-null   object \n",
      " 49  ETA_Year              118277 non-null  int64  \n",
      " 50  ETA_Month             118277 non-null  int64  \n",
      " 51  ETA_Day               118277 non-null  int64  \n",
      " 52  ETA_Hour              118277 non-null  int64  \n",
      " 53  ETA_Minute            118277 non-null  int64  \n",
      " 54  일시                    113856 non-null  object \n",
      " 55  풍속(m/s)               108585 non-null  float64\n",
      " 56  풍향(deg)               107349 non-null  float64\n",
      " 57  GUST풍속(m/s)           108875 non-null  float64\n",
      " 58  현지기압(hPa)             113534 non-null  float64\n",
      " 59  습도(%)                 111144 non-null  float64\n",
      " 60  기온(°C)                113687 non-null  float64\n",
      " 61  수온(°C)                112390 non-null  float64\n",
      " 62  최대파고(m)               113711 non-null  float64\n",
      " 63  유의파고(m)               113600 non-null  float64\n",
      " 64  평균파고(m)               113512 non-null  float64\n",
      " 65  파주기(sec)              113642 non-null  float64\n",
      " 66  파향(deg)               113665 non-null  float64\n",
      "dtypes: float64(22), int64(14), object(31)\n",
      "memory usage: 61.4+ MB\n"
     ]
    }
   ],
   "source": [
    "selected_rows.info()"
   ]
  },
  {
   "cell_type": "code",
   "execution_count": null,
   "id": "088105a1-1608-4795-92b9-9972259d5eec",
   "metadata": {},
   "outputs": [],
   "source": [
    "selected_rows.isnull().sum()"
   ]
  },
  {
   "cell_type": "markdown",
   "id": "925b41e6-cb42-4109-a3c1-7e2f59d4ddc7",
   "metadata": {},
   "source": [
    "# 모델용 데이터프레임 만들기 \n",
    "가장 좌측(식별자?) 그다음 Y값 그 이후로는 X값들이 오는 느낌으로"
   ]
  },
  {
   "cell_type": "code",
   "execution_count": 17,
   "id": "8fa97ab5-c612-45dd-b97d-9cd44b191836",
   "metadata": {},
   "outputs": [],
   "source": [
    "MDF_1 = selected_rows[['호출부호', '입항횟수_연도', '입항횟수_횟수', '총톤수_x', '입항일시', '출항일시', '항해구분',\n",
    "                     '계선장소명', '선박용도', '시설사용횟수', '지정시설명', '사용목적명', '접안_대기시간',\n",
    "                     '접안_대기시간_분', 'Service_Time_분', '재화중량톤수', '선박제원(총길이, m)',\n",
    "                     '선박제원(너비, m)', '만재흘수(m)', '깊이(m)', '길이1(m)', '선박국적(이름)',\n",
    "                     'ETA_Hour', 'ETA_Minute', '일시', '풍속(m/s)', '풍향(deg)', 'GUST풍속(m/s)',\n",
    "                     '현지기압(hPa)', '습도(%)', '기온(°C)', '수온(°C)', '최대파고(m)', '유의파고(m)',\n",
    "                     '평균파고(m)', '파주기(sec)', '파향(deg)']]"
   ]
  },
  {
   "cell_type": "code",
   "execution_count": 18,
   "id": "975f3c18-cf7b-47be-bbb4-26ca9aa911c9",
   "metadata": {},
   "outputs": [
    {
     "name": "stdout",
     "output_type": "stream",
     "text": [
      "<class 'pandas.core.frame.DataFrame'>\n",
      "Index: 118277 entries, 0 to 143528\n",
      "Data columns (total 37 columns):\n",
      " #   Column          Non-Null Count   Dtype  \n",
      "---  ------          --------------   -----  \n",
      " 0   호출부호            118277 non-null  object \n",
      " 1   입항횟수_연도         118277 non-null  float64\n",
      " 2   입항횟수_횟수         118277 non-null  float64\n",
      " 3   총톤수_x           118277 non-null  object \n",
      " 4   입항일시            118277 non-null  object \n",
      " 5   출항일시            118277 non-null  object \n",
      " 6   항해구분            118277 non-null  object \n",
      " 7   계선장소명           118277 non-null  object \n",
      " 8   선박용도            118277 non-null  object \n",
      " 9   시설사용횟수          116396 non-null  float64\n",
      " 10  지정시설명           116396 non-null  object \n",
      " 11  사용목적명           116396 non-null  object \n",
      " 12  접안_대기시간         118277 non-null  object \n",
      " 13  접안_대기시간_분       118277 non-null  int64  \n",
      " 14  Service_Time_분  118277 non-null  int64  \n",
      " 15  재화중량톤수          97474 non-null   object \n",
      " 16  선박제원(총길이, m)    117588 non-null  float64\n",
      " 17  선박제원(너비, m)     117588 non-null  object \n",
      " 18  만재흘수(m)         98848 non-null   float64\n",
      " 19  깊이(m)           98848 non-null   float64\n",
      " 20  길이1(m)          98848 non-null   float64\n",
      " 21  선박국적(이름)        98848 non-null   object \n",
      " 22  ETA_Hour        118277 non-null  int64  \n",
      " 23  ETA_Minute      118277 non-null  int64  \n",
      " 24  일시              113856 non-null  object \n",
      " 25  풍속(m/s)         108585 non-null  float64\n",
      " 26  풍향(deg)         107349 non-null  float64\n",
      " 27  GUST풍속(m/s)     108875 non-null  float64\n",
      " 28  현지기압(hPa)       113534 non-null  float64\n",
      " 29  습도(%)           111144 non-null  float64\n",
      " 30  기온(°C)          113687 non-null  float64\n",
      " 31  수온(°C)          112390 non-null  float64\n",
      " 32  최대파고(m)         113711 non-null  float64\n",
      " 33  유의파고(m)         113600 non-null  float64\n",
      " 34  평균파고(m)         113512 non-null  float64\n",
      " 35  파주기(sec)        113642 non-null  float64\n",
      " 36  파향(deg)         113665 non-null  float64\n",
      "dtypes: float64(19), int64(4), object(14)\n",
      "memory usage: 34.3+ MB\n"
     ]
    }
   ],
   "source": [
    "MDF_1.info()"
   ]
  },
  {
   "cell_type": "code",
   "execution_count": 20,
   "id": "56f2e8c5-d4e7-4905-b5c4-86ac01412d0e",
   "metadata": {},
   "outputs": [
    {
     "data": {
      "text/plain": [
       "호출부호                  0\n",
       "입항횟수_연도               0\n",
       "입항횟수_횟수               0\n",
       "총톤수_x                 0\n",
       "입항일시                  0\n",
       "출항일시                  0\n",
       "항해구분                  0\n",
       "계선장소명                 0\n",
       "선박용도                  0\n",
       "시설사용횟수             1881\n",
       "지정시설명              1881\n",
       "사용목적명              1881\n",
       "접안_대기시간               0\n",
       "접안_대기시간_분             0\n",
       "Service_Time_분        0\n",
       "재화중량톤수            20803\n",
       "선박제원(총길이, m)        689\n",
       "선박제원(너비, m)         689\n",
       "만재흘수(m)           19429\n",
       "깊이(m)             19429\n",
       "길이1(m)            19429\n",
       "선박국적(이름)          19429\n",
       "ETA_Hour              0\n",
       "ETA_Minute            0\n",
       "일시                 4421\n",
       "풍속(m/s)            9692\n",
       "풍향(deg)           10928\n",
       "GUST풍속(m/s)        9402\n",
       "현지기압(hPa)          4743\n",
       "습도(%)              7133\n",
       "기온(°C)             4590\n",
       "수온(°C)             5887\n",
       "최대파고(m)            4566\n",
       "유의파고(m)            4677\n",
       "평균파고(m)            4765\n",
       "파주기(sec)           4635\n",
       "파향(deg)            4612\n",
       "dtype: int64"
      ]
     },
     "execution_count": 20,
     "metadata": {},
     "output_type": "execute_result"
    }
   ],
   "source": [
    "MDF_1.isnull().sum()"
   ]
  },
  {
   "cell_type": "markdown",
   "id": "b090b219-dd8c-4918-8f5a-feacf0758195",
   "metadata": {},
   "source": [
    "# 향후 계획\n",
    "- Y는 접안_대기시간_분\n",
    "\n",
    "- 계선장소, 사용하려는 시설별로 대기시간에 영향을 끼치지는 않았을까? 근데 이거를 어떻게 구분할지를 모르겠네 T/F, 0과1도 아니고...\n",
    "\n",
    "- 풍속 풍향 기압 등 날씨 칼럼들은 전시간 후 시간의 평균 등으로 null 채울 예정\n",
    "\n",
    "- 아 일시 없는게 있었네 => 다시 불러와서 ETA로 채우기\n",
    "    - 분말고 시간으로 왜냐면 과거의 날씨들을 뚫고 항구로 들어온거니까 1시간정도는..뭐"
   ]
  },
  {
   "cell_type": "code",
   "execution_count": null,
   "id": "0dc8e248-1b9d-41f8-98bd-64e98961189c",
   "metadata": {},
   "outputs": [],
   "source": []
  }
 ],
 "metadata": {
  "kernelspec": {
   "display_name": "Python 3 (ipykernel)",
   "language": "python",
   "name": "python3"
  },
  "language_info": {
   "codemirror_mode": {
    "name": "ipython",
    "version": 3
   },
   "file_extension": ".py",
   "mimetype": "text/x-python",
   "name": "python",
   "nbconvert_exporter": "python",
   "pygments_lexer": "ipython3",
   "version": "3.9.13"
  }
 },
 "nbformat": 4,
 "nbformat_minor": 5
}
