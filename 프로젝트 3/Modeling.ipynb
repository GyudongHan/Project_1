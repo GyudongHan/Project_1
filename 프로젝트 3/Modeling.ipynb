{
 "cells": [
  {
   "cell_type": "markdown",
   "id": "7f7889d0-2af3-49de-adb1-03de427a65ac",
   "metadata": {},
   "source": [
    "한글 필요하려나"
   ]
  },
  {
   "cell_type": "code",
   "execution_count": 1,
   "id": "32ea4e04-d195-40f7-8a52-29dc7a0de2aa",
   "metadata": {
    "scrolled": true
   },
   "outputs": [
    {
     "data": {
      "image/png": "[encoded data removed]",
      "text/plain": [
       "<Figure size 640x480 with 1 Axes>"
      ]
     },
     "metadata": {},
     "output_type": "display_data"
    }
   ],
   "source": [
    "import pandas as pd\n",
    "import numpy as np\n",
    "import warnings \n",
    "warnings.filterwarnings('ignore')\n",
    "import matplotlib.pyplot as plt\n",
    "\n",
    "pd.set_option('display.max_rows', None)\n",
    "pd.set_option('display.max_columns', None)\n",
    "\n",
    "plt.rc(\"font\", family=\"NanumGothic\") # 라이브러리 불러오기와 함께 한번만 실행\n",
    "from sklearn.preprocessing import MinMaxScaler, StandardScaler\n",
    "\n",
    "plt.plot([1, 2, 3])\n",
    "plt.title(\"한글\")\n",
    "plt.show()"
   ]
  },
  {
   "cell_type": "code",
   "execution_count": 2,
   "id": "92d6d2da-89e9-4148-9ec9-91fbfe68d9a5",
   "metadata": {},
   "outputs": [],
   "source": [
    "# 데이터불러오기"
   ]
  },
  {
   "cell_type": "code",
   "execution_count": 3,
   "id": "c75a41a7-e3a3-460c-aa8e-ed4daf3019e5",
   "metadata": {},
   "outputs": [],
   "source": [
    "import pandas as pd\n",
    "\n",
    "df = pd.read_csv('data/울산_전처리_ver6.csv')\n"
   ]
  },
  {
   "cell_type": "markdown",
   "id": "1df0d001-1707-484c-9827-9a874007cdcb",
   "metadata": {},
   "source": [
    "# 시각화 보충"
   ]
  },
  {
   "cell_type": "code",
   "execution_count": 4,
   "id": "61bebf48-dd04-4f85-9fc5-9ffb8f9559e0",
   "metadata": {},
   "outputs": [
    {
     "name": "stdout",
     "output_type": "stream",
     "text": [
      "<class 'pandas.core.frame.DataFrame'>\n",
      "RangeIndex: 72139 entries, 0 to 72138\n",
      "Data columns (total 40 columns):\n",
      " #   Column              Non-Null Count  Dtype  \n",
      "---  ------              --------------  -----  \n",
      " 0   호출부호                72139 non-null  object \n",
      " 1   입항일시                72139 non-null  object \n",
      " 2   출항일시                72139 non-null  object \n",
      " 3   접안_대기시간_분           72139 non-null  int64  \n",
      " 4   출항_대기시간_분           72139 non-null  float64\n",
      " 5   Service_Time_Start  72139 non-null  object \n",
      " 6   Service_Time_End    72139 non-null  object \n",
      " 7   계선장소_코드             72139 non-null  object \n",
      " 8   계선장소_숫자             72139 non-null  int64  \n",
      " 9   계선장소명               72139 non-null  object \n",
      " 10  선박용도                72139 non-null  object \n",
      " 11  Service_Time_분      72139 non-null  float64\n",
      " 12  대기율                 72114 non-null  float64\n",
      " 13  총톤수                 61615 non-null  object \n",
      " 14  재화중량톤수              59935 non-null  object \n",
      " 15  선박제원(총길이, m)        71527 non-null  float64\n",
      " 16  선박제원(너비, m)         71527 non-null  object \n",
      " 17  만재흘수(m)             61618 non-null  float64\n",
      " 18  깊이(m)               61618 non-null  float64\n",
      " 19  길이1(m)              61618 non-null  float64\n",
      " 20  선박국적(code)          61618 non-null  object \n",
      " 21  선박국적(이름)            61618 non-null  object \n",
      " 22  ETA_Year            72139 non-null  int64  \n",
      " 23  ETA_Month           72139 non-null  int64  \n",
      " 24  ETA_Day             72139 non-null  int64  \n",
      " 25  ETA_Hour            72139 non-null  int64  \n",
      " 26  ETA_Minute          72139 non-null  int64  \n",
      " 27  일시                  69494 non-null  object \n",
      " 28  풍속(m/s)             65265 non-null  float64\n",
      " 29  풍향(deg)             64479 non-null  float64\n",
      " 30  GUST풍속(m/s)         65416 non-null  float64\n",
      " 31  현지기압(hPa)           69249 non-null  float64\n",
      " 32  습도(%)               67902 non-null  float64\n",
      " 33  기온(°C)              69314 non-null  float64\n",
      " 34  수온(°C)              68040 non-null  float64\n",
      " 35  최대파고(m)             69396 non-null  float64\n",
      " 36  유의파고(m)             69342 non-null  float64\n",
      " 37  평균파고(m)             69285 non-null  float64\n",
      " 38  파주기(sec)            69375 non-null  float64\n",
      " 39  파향(deg)             69388 non-null  float64\n",
      "dtypes: float64(19), int64(7), object(14)\n",
      "memory usage: 22.0+ MB\n"
     ]
    }
   ],
   "source": [
    "df.info()"
   ]
  },
  {
   "cell_type": "code",
   "execution_count": 5,
   "id": "17c5d0e8-9c87-4073-97aa-ec5ba7172b27",
   "metadata": {
    "scrolled": true
   },
   "outputs": [
    {
     "name": "stdout",
     "output_type": "stream",
     "text": [
      "석유제품 운반선       35977\n",
      "케미칼 운반선         9831\n",
      "풀컨테이너선          4123\n",
      "견인용예선           3799\n",
      "LPG 운반선         3503\n",
      "일반화물선           3314\n",
      "기타 예선           1819\n",
      "기타 유조선          1659\n",
      "산물선(벌크선)        1520\n",
      "자동차운반선          1454\n",
      "원유운반선           1449\n",
      "급유선             1338\n",
      "시멘트운반선           531\n",
      "기타선              466\n",
      "케미칼가스 운반선        346\n",
      "압항 예선            192\n",
      "모래운반선            178\n",
      "이.접안용 예선         125\n",
      "철강재 운반선          114\n",
      "신조선               95\n",
      "폐기물 운반선           86\n",
      "관공선               55\n",
      "LNG 운반선           52\n",
      "코일전용선             41\n",
      "용달선               29\n",
      "세미(혼재)컨테이너선       26\n",
      "여객선                7\n",
      "군함                 3\n",
      "원양 어선              1\n",
      "유람선                1\n",
      "원목운반선              1\n",
      "화객선                1\n",
      "수상레저기구             1\n",
      "기타 부선              1\n",
      "냉동.냉장선             1\n",
      "Name: 선박용도, dtype: int64\n",
      "72139\n"
     ]
    }
   ],
   "source": [
    "print(df['선박용도'].value_counts())\n",
    "print(df['선박용도'].value_counts().sum())"
   ]
  },
  {
   "cell_type": "code",
   "execution_count": 6,
   "id": "8a18242a-12aa-47be-a892-3c095a59fcbc",
   "metadata": {},
   "outputs": [
    {
     "ename": "NameError",
     "evalue": "name 'TD' is not defined",
     "output_type": "error",
     "traceback": [
      "\u001b[1;31m---------------------------------------------------------------------------\u001b[0m",
      "\u001b[1;31mNameError\u001b[0m                                 Traceback (most recent call last)",
      "Cell \u001b[1;32mIn[6], line 2\u001b[0m\n\u001b[0;32m      1\u001b[0m \u001b[38;5;66;03m# 비율 컬럼 추가\u001b[39;00m\n\u001b[1;32m----> 2\u001b[0m TD[\u001b[38;5;124m'\u001b[39m\u001b[38;5;124m비율\u001b[39m\u001b[38;5;124m'\u001b[39m] \u001b[38;5;241m=\u001b[39m \u001b[43mTD\u001b[49m[\u001b[38;5;124m'\u001b[39m\u001b[38;5;124m방문수\u001b[39m\u001b[38;5;124m'\u001b[39m] \u001b[38;5;241m/\u001b[39m TD[\u001b[38;5;124m'\u001b[39m\u001b[38;5;124m방문수\u001b[39m\u001b[38;5;124m'\u001b[39m]\u001b[38;5;241m.\u001b[39msum()\u001b[38;5;241m*\u001b[39m\u001b[38;5;241m100\u001b[39m\n\u001b[0;32m      4\u001b[0m TD\n",
      "\u001b[1;31mNameError\u001b[0m: name 'TD' is not defined"
     ]
    }
   ],
   "source": [
    "# 비율 컬럼 추가\n",
    "TD['비율'] = TD['방문수'] / TD['방문수'].sum()*100\n",
    "\n",
    "TD"
   ]
  },
  {
   "cell_type": "code",
   "execution_count": null,
   "id": "9d82a2bf-7eab-4c23-9be3-fbc6e72ddc16",
   "metadata": {},
   "outputs": [],
   "source": [
    "import pandas as pd\n",
    "\n",
    "data = {\n",
    "    '선종': ['석유제품 운반선', '케미칼 운반선', '풀컨테이너선', '견인용예선', 'LPG 운반선', '일반화물선', '기타 예선', '기타 유조선', '산물선(벌크선)', '자동차운반선',\n",
    "           '원유운반선', '급유선', '시멘트운반선', '기타선', '케미칼가스 운반선', '압항 예선', '모래운반선', '이.접안용 예선', '철강재 운반선', '신조선', '폐기물 운반선',\n",
    "           '관공선', 'LNG 운반선', '코일전용선', '용달선', '세미(혼재)컨테이너선', '여객선', '군함', '원양 어선', '유람선', '원목운반선', '화객선', '수상레저기구',\n",
    "           '기타 부선', '냉동.냉장선'],\n",
    "    '방문수': [35977, 9831, 4123, 3799, 3503, 3314, 1819, 1659, 1520, 1454, 1449, 1338, 531, 466, 346, 192, 178, 125, 114, 95, 86, 55,\n",
    "           52, 41, 29, 26, 7, 3, 1, 1, 1, 1, 1, 1, 1]\n",
    "}\n",
    "\n",
    "TD = pd.DataFrame(data)\n",
    "TD\n"
   ]
  },
  {
   "cell_type": "code",
   "execution_count": null,
   "id": "50c073a9-fb28-409d-84d7-73dc32a454a3",
   "metadata": {
    "scrolled": true
   },
   "outputs": [],
   "source": [
    "# 비율 컬럼 추가\n",
    "TD['비율'] = TD['방문수'] / TD['방문수'].sum()*100\n",
    "\n",
    "TD"
   ]
  },
  {
   "cell_type": "code",
   "execution_count": null,
   "id": "1ab9d232-e6ea-41ee-b749-e4dce9992271",
   "metadata": {},
   "outputs": [],
   "source": [
    "# 특정 값들의 비율과 아닌 값들의 차이 계산\n",
    "selected_values = ['석유제품 운반선', '케미칼 운반선', '기타 유조선', 'LPG 운반선', '원유운반선', '케미칼가스 운반선', 'LNG 운반선']\n",
    "selected_df = TD[TD['선종'].isin(selected_values)]\n",
    "non_selected_df = TD[~TD['선종'].isin(selected_values)]\n",
    "\n",
    "selected_ratio = selected_df['방문수'].sum() / TD['방문수'].sum()\n",
    "non_selected_ratio = non_selected_df['방문수'].sum() / TD['방문수'].sum()\n",
    "\n",
    "# 글자 크기 조절\n",
    "plt.rcParams['font.size'] = 17\n",
    "\n",
    "# 파이 그래프 그리기\n",
    "labels = ['액체화물', '그외']\n",
    "sizes = [selected_ratio, non_selected_ratio]\n",
    "colors = ['lightcoral', 'lightskyblue']\n",
    "explode = (0.1, 0)  # 선택된 값들을 약간 돌출시킵니다.\n",
    "\n",
    "plt.pie(sizes, explode=explode, labels=labels, colors=colors, autopct='%1.1f%%', shadow=True, startangle=140)\n",
    "plt.axis('equal')  # 원을 원형으로 유지합니다.\n",
    "\n",
    "plt.title('')\n",
    "plt.show()"
   ]
  },
  {
   "cell_type": "markdown",
   "id": "374ddc6e-f76d-4471-9c17-d9c28de025e7",
   "metadata": {},
   "source": [
    "# 액체화물만 불러오기\n",
    "(향후 한계점에 컨테이너선이나 벌크선에도 미량이지만(0.01? 0.1퍼센트) 액체화물이 실려온다느 것을 언급정도?, 그정도면 한계점도 아니지만 자리 채울 수 있으니 좋다)"
   ]
  },
  {
   "cell_type": "code",
   "execution_count": null,
   "id": "c8dbb28b-e8e9-4856-bc97-42e3b95f99d7",
   "metadata": {},
   "outputs": [],
   "source": [
    "condition = df['선박용도'].isin(['석유제품 운반선', '케미칼 운반선', '기타 유조선', 'LPG 운반선', '원유운반선', '케미칼가스 운반선', 'LNG 운반선'])\n",
    "selected_rows = df[condition]"
   ]
  },
  {
   "cell_type": "code",
   "execution_count": null,
   "id": "e14b7983-3b07-47d4-b7f1-06e4e8ed95cc",
   "metadata": {},
   "outputs": [],
   "source": [
    "selected_rows.columns"
   ]
  },
  {
   "cell_type": "code",
   "execution_count": null,
   "id": "6b52e46d-345d-4f45-ae18-639395c687d6",
   "metadata": {},
   "outputs": [],
   "source": [
    "selected_rows.info()"
   ]
  },
  {
   "cell_type": "code",
   "execution_count": null,
   "id": "088105a1-1608-4795-92b9-9972259d5eec",
   "metadata": {},
   "outputs": [],
   "source": [
    "selected_rows.isnull().sum()"
   ]
  },
  {
   "cell_type": "markdown",
   "id": "b090b219-dd8c-4918-8f5a-feacf0758195",
   "metadata": {},
   "source": [
    "# 향후 계획\n",
    "- Y는 접안_대기시간_분\n",
    "\n",
    "- 계선장소, 사용하려는 시설별로 대기시간에 영향을 끼치지는 않았을까? 근데 이거를 어떻게 구분할지를 모르겠네 T/F, 0과1도 아니고...\n",
    "\n",
    "- 풍속 풍향 기압 등 날씨 칼럼들은 전시간 후 시간의 평균 등으로 null 채울 예정\n",
    "    그러기위해서..? = 일시채워야함\n",
    "- 아 일시 없는게 있었네 => 다시 불러와서 ETA로 채우기\n",
    "    - 분말고 시간으로 왜냐면 과거의 날씨들을 뚫고 항구로 들어온거니까 1시간정도는..뭐\n",
    "    - 그냥 연/월/일/시까지만 쓰면되잖아"
   ]
  },
  {
   "cell_type": "markdown",
   "id": "dcfcb591-9fee-422a-bc91-c16bd196c48a",
   "metadata": {
    "jp-MarkdownHeadingCollapsed": true
   },
   "source": [
    "## 일단 일시 없는거 쉬우니 이거 채우기"
   ]
  },
  {
   "cell_type": "code",
   "execution_count": null,
   "id": "7b36e6d9-8835-4413-8597-9918129f5683",
   "metadata": {},
   "outputs": [],
   "source": [
    "# 일시 컬럼을 datetime 형식으로 변환\n",
    "리스타트 정지\n",
    "selected_rows['일시'] = pd.to_datetime(selected_rows['일시'])\n",
    "\n",
    "# null 값을 ETA_Year, ETA_Month, ETA_Day, ETA_Hour 컬럼을 이용하여 채우기\n",
    "selected_rows['일시'] = selected_rows.apply(lambda row: pd.to_datetime(f\"{row['ETA_Year']}-{row['ETA_Month']}-{row['ETA_Day']} {row['ETA_Hour']}:00:00\")\n",
    "                     if pd.isnull(row['일시']) else row['일시'], axis=1)"
   ]
  },
  {
   "cell_type": "code",
   "execution_count": null,
   "id": "f6dd2c1b-8627-4635-bbfb-c2434eb7cef0",
   "metadata": {
    "scrolled": true
   },
   "outputs": [],
   "source": [
    "selected_rows.isnull().sum()"
   ]
  },
  {
   "cell_type": "code",
   "execution_count": null,
   "id": "4b529e69-ce00-47c5-be6c-30e1a19b2aa4",
   "metadata": {},
   "outputs": [],
   "source": [
    "# 잘되었나 직접 확인\n",
    "# selected_rows.to_csv('asdf.csv', encoding = 'utf-8-sig', index=False)"
   ]
  },
  {
   "cell_type": "markdown",
   "id": "4679f123-01ce-48d4-a135-5cad2974d141",
   "metadata": {
    "jp-MarkdownHeadingCollapsed": true
   },
   "source": [
    "## 일시를 채웠으니 날씨 채우기"
   ]
  },
  {
   "cell_type": "code",
   "execution_count": null,
   "id": "2a8d84a6-c424-40d5-8d76-bd6336d92e34",
   "metadata": {},
   "outputs": [],
   "source": [
    "wt0 = pd.read_csv('data/2020(울산해양기상).csv')\n",
    "wt1 = pd.read_csv('data/2021(울산해양기상).csv')\n",
    "wt2 = pd.read_csv('data/2022(울산해양기상).csv')"
   ]
  },
  {
   "cell_type": "code",
   "execution_count": null,
   "id": "4f36d1f1-403d-4135-96df-2fbaf3d82d4b",
   "metadata": {},
   "outputs": [],
   "source": [
    "wt0['일시'] = pd.to_datetime(wt0['일시'])\n",
    "wt1['일시'] = pd.to_datetime(wt1['일시'])\n",
    "wt2['일시'] = pd.to_datetime(wt2['일시'])\n",
    "concatenated_df = pd.concat([wt0, wt1, wt2], axis=0)\n",
    "concatenated_df.info()"
   ]
  },
  {
   "cell_type": "markdown",
   "id": "e6c2f818-6688-411c-8b8e-7c5ebb2625ac",
   "metadata": {},
   "source": [
    "### 날씨를 새로 가져오려고 하는 거니까 칼럼을 없애야하나.."
   ]
  },
  {
   "cell_type": "code",
   "execution_count": null,
   "id": "8083fc47-3eb4-4bee-ba55-55b0bac12612",
   "metadata": {},
   "outputs": [],
   "source": [
    "temp = selected_rows.iloc[:, :28]\n",
    "temp.head(2)"
   ]
  },
  {
   "cell_type": "code",
   "execution_count": null,
   "id": "2a83874f-d3bb-442d-b504-3d4cc5e0326d",
   "metadata": {},
   "outputs": [],
   "source": [
    "merged_df0 = pd.merge(temp, concatenated_df, on='일시', how='left')\n",
    "merged_df0.info()"
   ]
  },
  {
   "cell_type": "code",
   "execution_count": null,
   "id": "169ddb6b-059a-4c14-89bb-217d4f746866",
   "metadata": {},
   "outputs": [],
   "source": [
    "### 아.. 똑같네 ㅋ.. ㅋㅋㅋ ㅋㅋㅋㅋㅋㅋ"
   ]
  },
  {
   "cell_type": "markdown",
   "id": "925b41e6-cb42-4109-a3c1-7e2f59d4ddc7",
   "metadata": {},
   "source": [
    "# 모델용 데이터프레임 만들기 \n",
    "가장 좌측(식별자?) 그다음 Y값 그 이후로는 X값들이 오는 느낌으로"
   ]
  },
  {
   "cell_type": "code",
   "execution_count": null,
   "id": "c130aa8f-ac48-4757-8fa9-0d1eaf21992c",
   "metadata": {},
   "outputs": [],
   "source": [
    "selected_rows.columns"
   ]
  },
  {
   "cell_type": "code",
   "execution_count": null,
   "id": "8fa97ab5-c612-45dd-b97d-9cd44b191836",
   "metadata": {},
   "outputs": [],
   "source": [
    "\"\"\"\n",
    "MDF_1 = selected_rows[['대기율', '호출부호', '입항일시', '출항일시',  '출항_대기시간_분', '계선장소_코드', '계선장소_숫자', '선박용도',\n",
    "        '총톤수', '선박제원(총길이, m)', '선박제원(너비, m)', '선박국적(code)', '선박국적(이름)', 'ETA_Year',\n",
    "       'ETA_Month', 'ETA_Day', 'ETA_Hour', 'ETA_Minute', '풍속(m/s)', '풍향(deg)', 'GUST풍속(m/s)', '현지기압(hPa)',\n",
    "            '습도(%)', '기온(°C)', '수온(°C)', '최대파고(m)', '유의파고(m)', '평균파고(m)', '파주기(sec)', '파향(deg)']]\n",
    "\"\"\""
   ]
  },
  {
   "cell_type": "code",
   "execution_count": null,
   "id": "e5b48e0e-3769-4540-af75-d53fd567479f",
   "metadata": {},
   "outputs": [],
   "source": [
    "MDF_1 = selected_rows[['접안_대기시간_분', '계선장소_코드', '계선장소_숫자', '선박용도',\n",
    "        '총톤수', '선박제원(총길이, m)', '선박제원(너비, m)', '선박국적(code)', '풍속(m/s)', '풍향(deg)', 'GUST풍속(m/s)', '현지기압(hPa)',\n",
    "            '습도(%)', '기온(°C)', '수온(°C)', '최대파고(m)', '유의파고(m)', '평균파고(m)', '파주기(sec)', '파향(deg)']]"
   ]
  },
  {
   "cell_type": "code",
   "execution_count": null,
   "id": "975f3c18-cf7b-47be-bbb4-26ca9aa911c9",
   "metadata": {},
   "outputs": [],
   "source": [
    "MDF_1.info()"
   ]
  },
  {
   "cell_type": "code",
   "execution_count": null,
   "id": "56f2e8c5-d4e7-4905-b5c4-86ac01412d0e",
   "metadata": {},
   "outputs": [],
   "source": [
    "MDF_1.isnull().sum()"
   ]
  },
  {
   "cell_type": "markdown",
   "id": "a47494d6-7fa5-4a65-8e12-e39d93f501eb",
   "metadata": {},
   "source": [
    "# 음.. 일단은 코드 돌려보는 것에 초점"
   ]
  },
  {
   "cell_type": "markdown",
   "id": "5658a669-d252-44af-aba8-b90ae33196e9",
   "metadata": {},
   "source": [
    "## null있는 값들 다 날리기?"
   ]
  },
  {
   "cell_type": "code",
   "execution_count": null,
   "id": "39cf0c65-a3e8-4756-98f6-4cfee66e55dd",
   "metadata": {},
   "outputs": [],
   "source": [
    "MDF_1.to_csv('For_model_1.csv', encoding = 'utf-8-sig', index = False)"
   ]
  },
  {
   "cell_type": "code",
   "execution_count": null,
   "id": "37a47a9b-d929-460b-885c-1c8c52e1ffbb",
   "metadata": {},
   "outputs": [],
   "source": [
    "# load\n",
    "data = pd.read_csv('For_model_1.csv')\n",
    "\n",
    "# null 값을 포함하는 행 삭제\n",
    "data_cleaned = data.dropna()"
   ]
  },
  {
   "cell_type": "code",
   "execution_count": null,
   "id": "837773eb-5169-424f-a327-7a9fd0b575bc",
   "metadata": {},
   "outputs": [],
   "source": [
    "data_cleaned.info()"
   ]
  },
  {
   "cell_type": "code",
   "execution_count": null,
   "id": "cd66ebb6-5a2d-4090-8b4e-af86e6d5c103",
   "metadata": {},
   "outputs": [],
   "source": [
    "data_cleaned.to_csv('Clean.csv', encoding = 'utf-8-sig', index = False)"
   ]
  },
  {
   "cell_type": "code",
   "execution_count": null,
   "id": "18305b03-13af-4c0d-bf54-7c82ecd1254d",
   "metadata": {},
   "outputs": [],
   "source": [
    "# 다시 load\n",
    "CLEAN = pd.read_csv('Clean_MOD.csv')"
   ]
  },
  {
   "cell_type": "code",
   "execution_count": null,
   "id": "ff92ef75-7e52-4444-a429-998fa93454ce",
   "metadata": {},
   "outputs": [],
   "source": [
    "CLEAN.info()"
   ]
  },
  {
   "cell_type": "markdown",
   "id": "117b6ba1-c4e0-4aca-9ea2-71d7af871f36",
   "metadata": {},
   "source": [
    "## CORR(헉..)"
   ]
  },
  {
   "cell_type": "code",
   "execution_count": null,
   "id": "363b9a52-9c03-4d52-8e7e-56f80b82ceaf",
   "metadata": {
    "scrolled": true
   },
   "outputs": [],
   "source": [
    "import pandas as pd\n",
    "import seaborn as sns\n",
    "import matplotlib.pyplot as plt\n",
    "\n",
    "# 'PET 총량' 변수와의 상관 관계가 0.6 이상인 변수\n",
    "correlation_threshold = 0\n",
    "correlation_with_pet = data_cleaned.corr()['접안_대기시간_분']\n",
    "selected_variables = [col for col in correlation_with_pet.index if abs(correlation_with_pet[col]) >= correlation_threshold]\n",
    "\n",
    "# 선택된 변수들 간의 상관 관계 히트맵\n",
    "df_selected = data_cleaned[selected_variables]\n",
    "correlation_matrix = df_selected.corr()\n",
    "\n",
    "plt.figure(figsize=(20, 15))\n",
    "sns.heatmap(correlation_matrix, annot=True, cmap='coolwarm', fmt=\".2f\", square=True)\n",
    "plt.title('선택된 변수들 간의 상관 관계 히트맵 (상관 관계 >= 0.6)')\n",
    "plt.show()"
   ]
  },
  {
   "cell_type": "markdown",
   "id": "df416e09-213c-48af-a805-7a012b477b81",
   "metadata": {},
   "source": [
    "## 칼럼들 합치거나 머 암튼 만들거나 등등"
   ]
  },
  {
   "cell_type": "code",
   "execution_count": null,
   "id": "3325d7aa-d2c1-44aa-a834-01d15afcbc7b",
   "metadata": {},
   "outputs": [],
   "source": [
    "# 두 칼럼을 합쳐 새로운 칼럼 생성\n",
    "CLEAN['계선장소'] = CLEAN['계선장소_코드'].astype(str) + CLEAN['계선장소_숫자'].astype(str)\n",
    "\n",
    "# '계선장소_코드'와 '계선장소_숫자컬럼' 칼럼 삭제\n",
    "CLEAN = CLEAN.drop(['계선장소_코드', '계선장소_숫자'], axis=1)\n"
   ]
  },
  {
   "cell_type": "code",
   "execution_count": null,
   "id": "418f6d52-420f-45d4-b2c7-b9013c133c6e",
   "metadata": {},
   "outputs": [],
   "source": [
    "CLEAN.info()"
   ]
  },
  {
   "cell_type": "code",
   "execution_count": null,
   "id": "e35660b2-434b-4132-82e5-6baa7de4f3e6",
   "metadata": {},
   "outputs": [],
   "source": [
    "CLEAN.columns"
   ]
  },
  {
   "cell_type": "code",
   "execution_count": null,
   "id": "984799c8-966c-4fed-bf19-0dbd7943662f",
   "metadata": {},
   "outputs": [],
   "source": [
    "# 선박제원이 중복되네..^^\n",
    "\n",
    "# 특정 칼럼의 이름 변경\n",
    "CLEAN.rename(columns={'선박제원(총길이, m)': '선박제원_길이', '선박제원(너비, m)': '선박제원_너비'}, inplace=True)\n",
    "CLEAN.columns"
   ]
  },
  {
   "cell_type": "code",
   "execution_count": null,
   "id": "5b21eaf9-2727-4e4e-897e-fd34ca9437b0",
   "metadata": {},
   "outputs": [],
   "source": [
    "import re\n",
    "\n",
    "# 주어진 칼럼 이름\n",
    "columns = ['접안_대기시간_분', '선박용도', '총톤수', '선박제원_길이', '선박제원_너비', '선박국적(code)',\n",
    "       '풍속(m/s)', '풍향(deg)', 'GUST풍속(m/s)', '현지기압(hPa)', '습도(%)', '기온(°C)',\n",
    "       '수온(°C)', '최대파고(m)', '유의파고(m)', '평균파고(m)', '파주기(sec)', '파향(deg)',\n",
    "       '계선장소']\n",
    "\n",
    "# 괄호와 그 안의 내용을 제거하고 수정된 칼럼 이름을 적용\n",
    "columns_without_parentheses = [re.sub(r'\\([^)]*\\)', '', col).strip() for col in columns]\n",
    "\n",
    "# 데이터프레임의 칼럼 이름 변경\n",
    "CLEAN.columns = columns_without_parentheses\n",
    "\n",
    "CLEAN.columns"
   ]
  },
  {
   "cell_type": "code",
   "execution_count": null,
   "id": "521f132d-7d6e-4769-b204-24c679fd33fc",
   "metadata": {},
   "outputs": [],
   "source": [
    "import lightgbm as lgb\n",
    "from sklearn.metrics import mean_absolute_error, mean_squared_error\n",
    "from sklearn.model_selection import train_test_split, KFold\n",
    "import numpy as np\n",
    "import matplotlib.pyplot as plt\n",
    "\n",
    "# Assuming CLEAN is your dataframe containing the data\n",
    "\n",
    "# 훈련 데이터 및 레이블 설정\n",
    "X = CLEAN.drop('접안_대기시간_분', axis=1)\n",
    "y = CLEAN['접안_대기시간_분']\n",
    "\n",
    "# '선박용도', '선박국적(code)', '계선장소' 컬럼을 범주형으로 변환\n",
    "categorical_columns = ['선박용도', '선박국적', '계선장소']\n",
    "X[categorical_columns] = X[categorical_columns].astype('category')\n",
    "\n",
    "# Initialize KFold with 10 splits\n",
    "kf = KFold(n_splits=10, shuffle=True, random_state=12)\n",
    "\n",
    "mae_scores = []\n",
    "rmse_scores = []\n",
    "\n",
    "for train_index, test_index in kf.split(X):\n",
    "    X_train, X_test = X.iloc[train_index], X.iloc[test_index]\n",
    "    y_train, y_test = y.iloc[train_index], y.iloc[test_index]\n",
    "\n",
    "    # LGBM 데이터셋 생성 (범주형 피처를 categorical_feature로 지정)\n",
    "    train_data = lgb.Dataset(X_train, label=y_train, categorical_feature=categorical_columns)\n",
    "    test_data = lgb.Dataset(X_test, label=y_test, reference=train_data)\n",
    "\n",
    "    # LightGBM 모델 학습\n",
    "    params = {'objective': 'regression', 'metric': 'l2', 'force_col_wise': True}\n",
    "    model = lgb.train(params, train_data, valid_sets=[test_data], num_boost_round=100, early_stopping_rounds=10, verbose_eval=False)\n",
    "\n",
    "    # 테스트 데이터에 대한 예측\n",
    "    y_pred = model.predict(X_test, num_iteration=model.best_iteration)\n",
    "\n",
    "    # MAE 및 RMSE 계산\n",
    "    mae = mean_absolute_error(y_test, y_pred)\n",
    "    rmse = np.sqrt(mean_squared_error(y_test, y_pred))\n",
    "\n",
    "    mae_scores.append(mae)\n",
    "    rmse_scores.append(rmse)\n",
    "\n",
    "# 결과 출력\n",
    "print(f'Mean Absolute Error (MAE) across folds: {np.mean(mae_scores):.2f}')\n",
    "print(f'Root Mean Squared Error (RMSE) across folds: {np.mean(rmse_scores):.2f}')\n",
    "\n",
    "# 피처 중요도 시각화\n",
    "lgb.plot_importance(model, figsize=(10, 6), title='Feature Importance')\n",
    "plt.show()"
   ]
  },
  {
   "cell_type": "code",
   "execution_count": null,
   "id": "81d119da-c478-4d2b-b63b-0822bbf84722",
   "metadata": {
    "scrolled": true
   },
   "outputs": [],
   "source": [
    "import lightgbm as lgb\n",
    "from sklearn.metrics import mean_absolute_error, mean_squared_error\n",
    "from sklearn.model_selection import train_test_split, KFold\n",
    "import numpy as np\n",
    "import matplotlib.pyplot as plt\n",
    "from math import sqrt\n",
    "\n",
    "# Assuming CLEAN is your dataframe containing the data\n",
    "\n",
    "# 훈련 데이터 및 레이블 설정\n",
    "X = CLEAN.drop('접안_대기시간_분', axis=1)\n",
    "y = CLEAN['접안_대기시간_분']\n",
    "\n",
    "# '선박용도', '선박국적(code)', '계선장소' 컬럼을 범주형으로 변환\n",
    "categorical_columns = ['선박용도', '선박국적', '계선장소']\n",
    "X[categorical_columns] = X[categorical_columns].astype('category')\n",
    "\n",
    "# Initialize KFold with 10 splits\n",
    "kf = KFold(n_splits=10, shuffle=True, random_state=12)\n",
    "\n",
    "mae_scores = []\n",
    "rmse_scores = []\n",
    "train_mae_scores = []  # 추가: 훈련 데이터에 대한 MAE 저장 리스트\n",
    "train_rmse_scores = []  # 추가: 훈련 데이터에 대한 RMSE 저장 리스트\n",
    "\n",
    "for train_index, test_index in kf.split(X):\n",
    "    X_train, X_test = X.iloc[train_index], X.iloc[test_index]\n",
    "    y_train, y_test = y.iloc[train_index], y.iloc[test_index]\n",
    "\n",
    "    # LGBM 데이터셋 생성 (범주형 피처를 categorical_feature로 지정)\n",
    "    train_data = lgb.Dataset(X_train, label=y_train, categorical_feature=categorical_columns)\n",
    "    test_data = lgb.Dataset(X_test, label=y_test, reference=train_data)\n",
    "\n",
    "    # LightGBM 모델 학습\n",
    "    params = {'objective': 'regression', 'metric': 'l2', 'force_col_wise': True}\n",
    "    model = lgb.train(params, train_data, valid_sets=[test_data], num_boost_round=100, early_stopping_rounds=10, verbose_eval=False)\n",
    "\n",
    "    # 테스트 데이터에 대한 예측\n",
    "    y_pred = model.predict(X_test, num_iteration=model.best_iteration)\n",
    "\n",
    "    # MAE 및 RMSE 계산 및 저장\n",
    "    mae = mean_absolute_error(y_test, y_pred)\n",
    "    rmse = sqrt(mean_squared_error(y_test, y_pred))\n",
    "    mae_scores.append(mae)\n",
    "    rmse_scores.append(rmse)\n",
    "\n",
    "    # 훈련 데이터에 대한 MAE 및 RMSE 계산 및 저장\n",
    "    y_train_pred = model.predict(X_train)\n",
    "    train_mae = mean_absolute_error(y_train, y_train_pred)\n",
    "    train_rmse = sqrt(mean_squared_error(y_train, y_train_pred))\n",
    "    train_mae_scores.append(train_mae)\n",
    "    train_rmse_scores.append(train_rmse)\n",
    "\n",
    "# Train vs Test MAE Visualization\n",
    "plt.figure(figsize=(10, 6))\n",
    "plt.plot(range(1, 11), train_mae_scores, label='Train MAE', marker='o')\n",
    "plt.plot(range(1, 11), mae_scores, label='Test MAE', marker='o')\n",
    "plt.xlabel('Fold')\n",
    "plt.ylabel('MAE')\n",
    "plt.title('Train vs Test MAE across Folds')\n",
    "plt.legend()\n",
    "plt.show()\n"
   ]
  },
  {
   "cell_type": "markdown",
   "id": "09b51910-4f6c-47a4-838d-2ebcd969b4b1",
   "metadata": {},
   "source": [
    "# ㅁㅁ"
   ]
  },
  {
   "cell_type": "code",
   "execution_count": null,
   "id": "02417d44-86fc-4a60-9cb2-fae2af986ab6",
   "metadata": {
    "scrolled": true
   },
   "outputs": [],
   "source": [
    "import lightgbm as lgb\n",
    "from sklearn.metrics import mean_absolute_error, mean_squared_error\n",
    "from sklearn.model_selection import train_test_split, KFold\n",
    "import numpy as np\n",
    "import matplotlib.pyplot as plt\n",
    "from math import sqrt\n",
    "\n",
    "# Assuming CLEAN is your dataframe containing the data\n",
    "\n",
    "# 훈련 데이터 및 레이블 설정\n",
    "X = CLEAN.drop('접안_대기시간_분', axis=1)\n",
    "y = CLEAN['접안_대기시간_분']\n",
    "\n",
    "# '선박용도', '선박국적(code)', '계선장소' 컬럼을 범주형으로 변환\n",
    "categorical_columns = ['선박용도', '선박국적', '계선장소']\n",
    "X[categorical_columns] = X[categorical_columns].astype('category')\n",
    "\n",
    "# Initialize KFold with 10 splits\n",
    "kf = KFold(n_splits=10, shuffle=True, random_state=12)\n",
    "\n",
    "mae_scores = []\n",
    "rmse_scores = []\n",
    "train_mae_scores = []  # 추가: 훈련 데이터에 대한 MAE 저장 리스트\n",
    "train_rmse_scores = []  # 추가: 훈련 데이터에 대한 RMSE 저장 리스트\n",
    "\n",
    "n_estimators_list = range(1, 101)  # Adjust the range as needed\n",
    "\n",
    "for n_estimators in n_estimators_list:\n",
    "    print(f\"Training with {n_estimators} estimators...\")\n",
    "    avg_mae = 0\n",
    "    avg_rmse = 0\n",
    "\n",
    "    for train_index, test_index in kf.split(X):\n",
    "        X_train, X_test = X.iloc[train_index], X.iloc[test_index]\n",
    "        y_train, y_test = y.iloc[train_index], y.iloc[test_index]\n",
    "\n",
    "        # LGBM 데이터셋 생성 (범주형 피처를 categorical_feature로 지정)\n",
    "        train_data = lgb.Dataset(X_train, label=y_train, categorical_feature=categorical_columns)\n",
    "        test_data = lgb.Dataset(X_test, label=y_test, reference=train_data)\n",
    "\n",
    "        # LightGBM 모델 학습\n",
    "        params = {'objective': 'regression', 'metric': 'l2', 'force_col_wise': True}\n",
    "        model = lgb.train(params, train_data, valid_sets=[test_data], num_boost_round=n_estimators, early_stopping_rounds=10, verbose_eval=False)\n",
    "\n",
    "        # 테스트 데이터에 대한 예측\n",
    "        y_pred = model.predict(X_test, num_iteration=model.best_iteration)\n",
    "\n",
    "        # MAE 및 RMSE 계산 및 저장\n",
    "        mae = mean_absolute_error(y_test, y_pred)\n",
    "        rmse = sqrt(mean_squared_error(y_test, y_pred))\n",
    "        avg_mae += mae\n",
    "        avg_rmse += rmse\n",
    "\n",
    "    avg_mae /= 10  # Calculate the average MAE across folds\n",
    "    avg_rmse /= 10  # Calculate the average RMSE across folds\n",
    "\n",
    "    # Store average MAE and RMSE for each n_estimators\n",
    "    mae_scores.append(avg_mae)\n",
    "    rmse_scores.append(avg_rmse)\n",
    "\n",
    "# Train vs Test MAE Visualization\n",
    "plt.figure(figsize=(10, 6))\n",
    "plt.plot(n_estimators_list, train_mae_scores, label='Train MAE', marker='o')\n",
    "plt.plot(n_estimators_list, mae_scores, label='Test MAE', marker='o')\n",
    "plt.xlabel('Number of Estimators')\n",
    "plt.ylabel('MAE')\n",
    "plt.title('Train vs Test MAE across Number of Estimators')\n",
    "plt.legend()\n",
    "plt.show()\n"
   ]
  },
  {
   "cell_type": "code",
   "execution_count": null,
   "id": "3adea41d-5cf5-4fcc-bdd8-c4af5fbd3c5f",
   "metadata": {},
   "outputs": [],
   "source": []
  }
 ],
 "metadata": {
  "kernelspec": {
   "display_name": "Python 3 (ipykernel)",
   "language": "python",
   "name": "python3"
  },
  "language_info": {
   "codemirror_mode": {
    "name": "ipython",
    "version": 3
   },
   "file_extension": ".py",
   "mimetype": "text/x-python",
   "name": "python",
   "nbconvert_exporter": "python",
   "pygments_lexer": "ipython3",
   "version": "3.9.13"
  }
 },
 "nbformat": 4,
 "nbformat_minor": 5
}
